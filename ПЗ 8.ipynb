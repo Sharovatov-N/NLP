{
  "nbformat": 4,
  "nbformat_minor": 0,
  "metadata": {
    "kernelspec": {
      "display_name": "Python 3",
      "language": "python",
      "name": "python3"
    },
    "language_info": {
      "codemirror_mode": {
        "name": "ipython",
        "version": 3
      },
      "file_extension": ".py",
      "mimetype": "text/x-python",
      "name": "python",
      "nbconvert_exporter": "python",
      "pygments_lexer": "ipython3",
      "version": "3.8.8"
    },
    "colab": {
      "name": "ПЗ 8.ipynb",
      "provenance": []
    },
    "accelerator": "GPU"
  },
  "cells": [
    {
      "cell_type": "markdown",
      "metadata": {
        "id": "UA6T5qSdTAXJ"
      },
      "source": [
        "# ПЗ 8"
      ]
    },
    {
      "cell_type": "markdown",
      "metadata": {
        "id": "SRIfVaAZTAXK"
      },
      "source": [
        "\n",
        "# Задание  \n",
        "На вебинаре мы говорили что долгое время CNN и RNN архитектуры были конурируещими выяснить какая архитектура больше подходит для задачи сантимент анализа на данных с вебинара\n",
        "1. построить свёрточные архитектуры\n",
        "2. построить различные архитектуры с RNN\n",
        "3. построить совместные архитектуры CNN -> RNN и (RNN -> CNN)\n",
        "4. сдлать выводы что получилось лучше"
      ]
    },
    {
      "cell_type": "code",
      "metadata": {
        "colab": {
          "base_uri": "https://localhost:8080/"
        },
        "id": "st8B80KNV4S3",
        "outputId": "3bed537b-761b-4b06-eedc-7320e43a74b5"
      },
      "source": [
        "pip install pymorphy2"
      ],
      "execution_count": 3,
      "outputs": [
        {
          "output_type": "stream",
          "text": [
            "Collecting pymorphy2\n",
            "  Downloading pymorphy2-0.9.1-py3-none-any.whl (55 kB)\n",
            "\u001b[?25l\r\u001b[K     |██████                          | 10 kB 28.2 MB/s eta 0:00:01\r\u001b[K     |███████████▉                    | 20 kB 32.5 MB/s eta 0:00:01\r\u001b[K     |█████████████████▊              | 30 kB 35.6 MB/s eta 0:00:01\r\u001b[K     |███████████████████████▋        | 40 kB 37.9 MB/s eta 0:00:01\r\u001b[K     |█████████████████████████████▌  | 51 kB 37.2 MB/s eta 0:00:01\r\u001b[K     |████████████████████████████████| 55 kB 4.1 MB/s \n",
            "\u001b[?25hCollecting dawg-python>=0.7.1\n",
            "  Downloading DAWG_Python-0.7.2-py2.py3-none-any.whl (11 kB)\n",
            "Requirement already satisfied: docopt>=0.6 in /usr/local/lib/python3.7/dist-packages (from pymorphy2) (0.6.2)\n",
            "Collecting pymorphy2-dicts-ru<3.0,>=2.4\n",
            "  Downloading pymorphy2_dicts_ru-2.4.417127.4579844-py2.py3-none-any.whl (8.2 MB)\n",
            "\u001b[K     |████████████████████████████████| 8.2 MB 45.2 MB/s \n",
            "\u001b[?25hInstalling collected packages: pymorphy2-dicts-ru, dawg-python, pymorphy2\n",
            "Successfully installed dawg-python-0.7.2 pymorphy2-0.9.1 pymorphy2-dicts-ru-2.4.417127.4579844\n"
          ],
          "name": "stdout"
        }
      ]
    },
    {
      "cell_type": "code",
      "metadata": {
        "id": "6mZGzxFRTAXL"
      },
      "source": [
        "#  Возьмем датасет с прошлого занятия\n",
        "import pandas as pd\n",
        "from string import punctuation\n",
        "from stop_words import get_stop_words\n",
        "from pymorphy2 import MorphAnalyzer\n",
        "import re\n",
        "\n",
        "df_train = pd.read_csv(\"train.csv\")\n",
        "df_test = pd.read_csv(\"test.csv\")\n",
        "df_val = pd.read_csv(\"val.csv\")"
      ],
      "execution_count": 5,
      "outputs": []
    },
    {
      "cell_type": "code",
      "metadata": {
        "colab": {
          "base_uri": "https://localhost:8080/",
          "height": 204
        },
        "id": "06mpOzDhTAXL",
        "outputId": "94f69d92-4172-4eb9-ab36-8cd51df12d11"
      },
      "source": [
        "df_train.head()"
      ],
      "execution_count": 7,
      "outputs": [
        {
          "output_type": "execute_result",
          "data": {
            "text/html": [
              "<div>\n",
              "<style scoped>\n",
              "    .dataframe tbody tr th:only-of-type {\n",
              "        vertical-align: middle;\n",
              "    }\n",
              "\n",
              "    .dataframe tbody tr th {\n",
              "        vertical-align: top;\n",
              "    }\n",
              "\n",
              "    .dataframe thead th {\n",
              "        text-align: right;\n",
              "    }\n",
              "</style>\n",
              "<table border=\"1\" class=\"dataframe\">\n",
              "  <thead>\n",
              "    <tr style=\"text-align: right;\">\n",
              "      <th></th>\n",
              "      <th>id</th>\n",
              "      <th>text</th>\n",
              "      <th>class</th>\n",
              "    </tr>\n",
              "  </thead>\n",
              "  <tbody>\n",
              "    <tr>\n",
              "      <th>0</th>\n",
              "      <td>0</td>\n",
              "      <td>@alisachachka не уезжаааааааай. :(❤ я тоже не ...</td>\n",
              "      <td>0</td>\n",
              "    </tr>\n",
              "    <tr>\n",
              "      <th>1</th>\n",
              "      <td>1</td>\n",
              "      <td>RT @GalyginVadim: Ребята и девчата!\\nВсе в кин...</td>\n",
              "      <td>1</td>\n",
              "    </tr>\n",
              "    <tr>\n",
              "      <th>2</th>\n",
              "      <td>2</td>\n",
              "      <td>RT @ARTEM_KLYUSHIN: Кто ненавидит пробки ретви...</td>\n",
              "      <td>0</td>\n",
              "    </tr>\n",
              "    <tr>\n",
              "      <th>3</th>\n",
              "      <td>3</td>\n",
              "      <td>RT @epupybobv: Хочется котлету по-киевски. Зап...</td>\n",
              "      <td>1</td>\n",
              "    </tr>\n",
              "    <tr>\n",
              "      <th>4</th>\n",
              "      <td>4</td>\n",
              "      <td>@KarineKurganova @Yess__Boss босапопа есбоса н...</td>\n",
              "      <td>1</td>\n",
              "    </tr>\n",
              "  </tbody>\n",
              "</table>\n",
              "</div>"
            ],
            "text/plain": [
              "   id                                               text  class\n",
              "0   0  @alisachachka не уезжаааааааай. :(❤ я тоже не ...      0\n",
              "1   1  RT @GalyginVadim: Ребята и девчата!\\nВсе в кин...      1\n",
              "2   2  RT @ARTEM_KLYUSHIN: Кто ненавидит пробки ретви...      0\n",
              "3   3  RT @epupybobv: Хочется котлету по-киевски. Зап...      1\n",
              "4   4  @KarineKurganova @Yess__Boss босапопа есбоса н...      1"
            ]
          },
          "metadata": {
            "tags": []
          },
          "execution_count": 7
        }
      ]
    },
    {
      "cell_type": "code",
      "metadata": {
        "id": "XgVuOSYRTAXM"
      },
      "source": [
        "sw = set(get_stop_words(\"ru\"))\n",
        "exclude = set(punctuation)\n",
        "morpher = MorphAnalyzer()\n",
        "\n",
        "def preprocess_text(txt):\n",
        "    txt = str(txt)\n",
        "    txt = \"\".join(c for c in txt if c not in exclude)\n",
        "    txt = txt.lower()\n",
        "    txt = re.sub(\"\\sне\", \"не\", txt)\n",
        "    txt = [morpher.parse(word)[0].normal_form for word in txt.split() if word not in sw]\n",
        "    return \" \".join(txt)\n",
        "\n",
        "df_train['text'] = df_train['text'].apply(preprocess_text)\n",
        "df_val['text'] = df_val['text'].apply(preprocess_text)\n",
        "df_test['text'] = df_test['text'].apply(preprocess_text)"
      ],
      "execution_count": 8,
      "outputs": []
    },
    {
      "cell_type": "code",
      "metadata": {
        "id": "BMTT8EdZTAXM"
      },
      "source": [
        "import matplotlib.pyplot as plt\n",
        "import tensorflow as tf\n",
        "\n",
        "import numpy as np\n",
        "#import keras\n",
        "from tensorflow.keras.models import Sequential, Model\n",
        "from tensorflow.keras.layers import Dense, Dropout, Activation, Input, Embedding, Conv1D, GlobalMaxPool1D, concatenate, Flatten, add, MaxPool1D\n",
        "from tensorflow.keras.layers import SimpleRNN, LSTM, GRU, Masking, Bidirectional, GlobalAveragePooling1D, GlobalMaxPooling1D, TimeDistributed, AveragePooling1D\n",
        "from tensorflow.keras.preprocessing.text import Tokenizer\n",
        "from tensorflow.keras.preprocessing.sequence import pad_sequences\n",
        "from tensorflow.keras.callbacks import TensorBoard \n",
        "from tensorflow.keras.losses import categorical_crossentropy\n",
        "from tensorflow.keras.callbacks import EarlyStopping  \n"
      ],
      "execution_count": 9,
      "outputs": []
    },
    {
      "cell_type": "code",
      "metadata": {
        "id": "gv0YqDx-TAXN"
      },
      "source": [
        "text_corpus_train = df_train['text'].values\n",
        "text_corpus_valid = df_val['text'].values\n",
        "text_corpus_test = df_test['text'].values"
      ],
      "execution_count": 10,
      "outputs": []
    },
    {
      "cell_type": "code",
      "metadata": {
        "id": "1MM5CGdZTAXN"
      },
      "source": [
        "tokenizer = Tokenizer(num_words=None, \n",
        "                     filters='#$%&()*+-<=>@[\\\\]^_`{|}~\\t\\n',\n",
        "                     lower = False, split = ' ')\n",
        "tokenizer.fit_on_texts(text_corpus_train)\n",
        "\n",
        "sequences_train = tokenizer.texts_to_sequences(text_corpus_train)\n",
        "sequences_val = tokenizer.texts_to_sequences(text_corpus_valid)\n",
        "sequences_test = tokenizer.texts_to_sequences(text_corpus_test)\n",
        "\n",
        "word_count = len(tokenizer.index_word) + 1\n",
        "training_length = max([len(i.split()) for i in text_corpus_train])\n",
        "\n",
        "X_train = pad_sequences(sequences_train, maxlen=training_length)\n",
        "X_valid = pad_sequences(sequences_val, maxlen=training_length)"
      ],
      "execution_count": 11,
      "outputs": []
    },
    {
      "cell_type": "code",
      "metadata": {
        "id": "w9L9BOnQTAXO"
      },
      "source": [
        "y_train = df_train['class'].values\n",
        "y_val = df_val['class'].values"
      ],
      "execution_count": 12,
      "outputs": []
    },
    {
      "cell_type": "code",
      "metadata": {
        "id": "WUp56dsDTAXO"
      },
      "source": [
        "def plot_history(history):\n",
        "    \n",
        "    fig, (ax1, ax2) = plt.subplots(1, 2, figsize=(15,4))\n",
        "    fig.suptitle('Horizontally stacked subplots')\n",
        "       \n",
        "    ax1.plot(history.history['accuracy'])\n",
        "    ax1.plot(history.history['val_accuracy'])\n",
        "    ax1.set_title('model accuracy')\n",
        "    ax1.set(xlabel='epoch', ylabel='accuracy')\n",
        "    ax1.legend(['train', 'test'], loc='upper left')\n",
        "    \n",
        "    ax2.plot(history.history['loss'])\n",
        "    ax2.plot(history.history['val_loss'])\n",
        "    ax2.set_title('model loss')\n",
        "    ax2.set(xlabel='epoch', ylabel='loss')\n",
        "    ax2.legend(['train', 'test'], loc='upper left')\n"
      ],
      "execution_count": 13,
      "outputs": []
    },
    {
      "cell_type": "markdown",
      "metadata": {
        "id": "dIOOWnLpTAXO"
      },
      "source": [
        "# LSTM NN 1"
      ]
    },
    {
      "cell_type": "code",
      "metadata": {
        "colab": {
          "base_uri": "https://localhost:8080/"
        },
        "id": "uqe_9idRTAXP",
        "outputId": "0f67abcc-3a3d-47e7-8063-ca0249c25207"
      },
      "source": [
        "inputs = Input(shape=(X_train.shape[1],))\n",
        "\n",
        "x =     Embedding(input_dim=word_count,\n",
        "              input_length=training_length,\n",
        "              output_dim=30,\n",
        "              trainable=True,\n",
        "              mask_zero=True)(inputs)\n",
        "\n",
        "x = LSTM(64, return_sequences=True)(x)\n",
        "\n",
        "x = Flatten()(x)\n",
        "x = Dense(64, activation='relu')(x)\n",
        "x = Dropout(0.5)(x)\n",
        "x = Dense(1, activation='sigmoid')(x)\n",
        "\n",
        "\n",
        "\n",
        "model = Model(inputs=inputs, outputs=x)\n",
        "model.summary()\n",
        "model.compile(optimizer='adam', loss='binary_crossentropy', metrics=['accuracy'])\n",
        "\n"
      ],
      "execution_count": 14,
      "outputs": [
        {
          "output_type": "stream",
          "text": [
            "Model: \"model\"\n",
            "_________________________________________________________________\n",
            "Layer (type)                 Output Shape              Param #   \n",
            "=================================================================\n",
            "input_1 (InputLayer)         [(None, 27)]              0         \n",
            "_________________________________________________________________\n",
            "embedding (Embedding)        (None, 27, 30)            7743240   \n",
            "_________________________________________________________________\n",
            "lstm (LSTM)                  (None, 27, 64)            24320     \n",
            "_________________________________________________________________\n",
            "flatten (Flatten)            (None, 1728)              0         \n",
            "_________________________________________________________________\n",
            "dense (Dense)                (None, 64)                110656    \n",
            "_________________________________________________________________\n",
            "dropout (Dropout)            (None, 64)                0         \n",
            "_________________________________________________________________\n",
            "dense_1 (Dense)              (None, 1)                 65        \n",
            "=================================================================\n",
            "Total params: 7,878,281\n",
            "Trainable params: 7,878,281\n",
            "Non-trainable params: 0\n",
            "_________________________________________________________________\n"
          ],
          "name": "stdout"
        }
      ]
    },
    {
      "cell_type": "code",
      "metadata": {
        "colab": {
          "base_uri": "https://localhost:8080/",
          "height": 444
        },
        "id": "SXKutethTAXP",
        "outputId": "d4142b4f-052f-4cde-9425-b94b221db672"
      },
      "source": [
        "callback = tf.keras.callbacks.EarlyStopping(monitor='val_accuracy', patience=3, restore_best_weights=True)\n",
        "\n",
        "history = model.fit(X_train, y_train, batch_size=128*2, epochs=25, \n",
        "          validation_data=(X_valid, y_val), callbacks=[callback], verbose=1)\n",
        "plot_history(history)"
      ],
      "execution_count": 15,
      "outputs": [
        {
          "output_type": "stream",
          "text": [
            "Epoch 1/25\n",
            "709/709 [==============================] - 108s 144ms/step - loss: 0.5329 - accuracy: 0.7228 - val_loss: 0.4988 - val_accuracy: 0.7518\n",
            "Epoch 2/25\n",
            "709/709 [==============================] - 99s 139ms/step - loss: 0.2873 - accuracy: 0.8823 - val_loss: 0.6043 - val_accuracy: 0.7383\n",
            "Epoch 3/25\n",
            "709/709 [==============================] - 99s 140ms/step - loss: 0.1292 - accuracy: 0.9507 - val_loss: 0.8131 - val_accuracy: 0.7265\n",
            "Epoch 4/25\n",
            "709/709 [==============================] - 99s 140ms/step - loss: 0.0731 - accuracy: 0.9733 - val_loss: 0.9619 - val_accuracy: 0.7258\n"
          ],
          "name": "stdout"
        },
        {
          "output_type": "display_data",
          "data": {
            "image/png": "[encoded data removed]",
            "text/plain": [
              "<Figure size 1080x288 with 2 Axes>"
            ]
          },
          "metadata": {
            "tags": [],
            "needs_background": "light"
          }
        }
      ]
    },
    {
      "cell_type": "code",
      "metadata": {
        "colab": {
          "base_uri": "https://localhost:8080/"
        },
        "id": "OmwTh6UmTAXQ",
        "outputId": "de42f34f-dfb7-4b60-e9bd-daaebe90f17f"
      },
      "source": [
        "model.evaluate(X_valid, y_val)"
      ],
      "execution_count": 16,
      "outputs": [
        {
          "output_type": "stream",
          "text": [
            "709/709 [==============================] - 5s 7ms/step - loss: 0.4988 - accuracy: 0.7518\n"
          ],
          "name": "stdout"
        },
        {
          "output_type": "execute_result",
          "data": {
            "text/plain": [
              "[0.49884751439094543, 0.7517964839935303]"
            ]
          },
          "metadata": {
            "tags": []
          },
          "execution_count": 16
        }
      ]
    },
    {
      "cell_type": "markdown",
      "metadata": {
        "id": "ax21rVMyTAXQ"
      },
      "source": [
        "# LSTM NN 2"
      ]
    },
    {
      "cell_type": "code",
      "metadata": {
        "colab": {
          "base_uri": "https://localhost:8080/"
        },
        "id": "IYDZfYRPTAXQ",
        "outputId": "20ea6266-3d30-49e1-86c4-3e859e67f56c"
      },
      "source": [
        "inputs = Input(shape=(X_train.shape[1],))\n",
        "\n",
        "x =     Embedding(input_dim=word_count,\n",
        "              input_length=training_length,\n",
        "              output_dim=30,\n",
        "              trainable=True,\n",
        "              mask_zero=True)(inputs)\n",
        "\n",
        "xbi = Bidirectional(LSTM(15, return_sequences=True))(x)\n",
        "x = add([x, xbi])\n",
        "\n",
        "x = Flatten()(x)\n",
        "x = Dense(64, activation='relu')(x)\n",
        "x = Dropout(0.5)(x)\n",
        "x = Dense(1, activation='sigmoid')(x)\n",
        "\n",
        "\n",
        "\n",
        "model = Model(inputs=inputs, outputs=x)\n",
        "model.summary()\n",
        "model.compile(optimizer='adam', loss='binary_crossentropy', metrics=['accuracy'])\n"
      ],
      "execution_count": 17,
      "outputs": [
        {
          "output_type": "stream",
          "text": [
            "Model: \"model_1\"\n",
            "__________________________________________________________________________________________________\n",
            "Layer (type)                    Output Shape         Param #     Connected to                     \n",
            "==================================================================================================\n",
            "input_2 (InputLayer)            [(None, 27)]         0                                            \n",
            "__________________________________________________________________________________________________\n",
            "embedding_1 (Embedding)         (None, 27, 30)       7743240     input_2[0][0]                    \n",
            "__________________________________________________________________________________________________\n",
            "bidirectional (Bidirectional)   (None, 27, 30)       5520        embedding_1[0][0]                \n",
            "__________________________________________________________________________________________________\n",
            "add (Add)                       (None, 27, 30)       0           embedding_1[0][0]                \n",
            "                                                                 bidirectional[0][0]              \n",
            "__________________________________________________________________________________________________\n",
            "flatten_1 (Flatten)             (None, 810)          0           add[0][0]                        \n",
            "__________________________________________________________________________________________________\n",
            "dense_2 (Dense)                 (None, 64)           51904       flatten_1[0][0]                  \n",
            "__________________________________________________________________________________________________\n",
            "dropout_1 (Dropout)             (None, 64)           0           dense_2[0][0]                    \n",
            "__________________________________________________________________________________________________\n",
            "dense_3 (Dense)                 (None, 1)            65          dropout_1[0][0]                  \n",
            "==================================================================================================\n",
            "Total params: 7,800,729\n",
            "Trainable params: 7,800,729\n",
            "Non-trainable params: 0\n",
            "__________________________________________________________________________________________________\n"
          ],
          "name": "stdout"
        }
      ]
    },
    {
      "cell_type": "code",
      "metadata": {
        "colab": {
          "base_uri": "https://localhost:8080/",
          "height": 444
        },
        "id": "A9wawo5RTAXR",
        "outputId": "07a3e233-6e39-4dad-8d00-f518e239a884"
      },
      "source": [
        "callback = tf.keras.callbacks.EarlyStopping(monitor='val_accuracy', patience=3, restore_best_weights=True)\n",
        "\n",
        "history = model.fit(X_train, y_train, batch_size=128*2, epochs=25, \n",
        "          validation_data=(X_valid, y_val), callbacks=[callback], verbose=1)\n",
        "plot_history(history)"
      ],
      "execution_count": 18,
      "outputs": [
        {
          "output_type": "stream",
          "text": [
            "Epoch 1/25\n",
            "709/709 [==============================] - 142s 192ms/step - loss: 0.5329 - accuracy: 0.7230 - val_loss: 0.4988 - val_accuracy: 0.7503\n",
            "Epoch 2/25\n",
            "709/709 [==============================] - 135s 190ms/step - loss: 0.2706 - accuracy: 0.8898 - val_loss: 0.5799 - val_accuracy: 0.7380\n",
            "Epoch 3/25\n",
            "709/709 [==============================] - 134s 189ms/step - loss: 0.1062 - accuracy: 0.9611 - val_loss: 0.7975 - val_accuracy: 0.7313\n",
            "Epoch 4/25\n",
            "709/709 [==============================] - 135s 190ms/step - loss: 0.0533 - accuracy: 0.9813 - val_loss: 0.9869 - val_accuracy: 0.7269\n"
          ],
          "name": "stdout"
        },
        {
          "output_type": "display_data",
          "data": {
            "image/png": "[encoded data removed]",
            "text/plain": [
              "<Figure size 1080x288 with 2 Axes>"
            ]
          },
          "metadata": {
            "tags": [],
            "needs_background": "light"
          }
        }
      ]
    },
    {
      "cell_type": "code",
      "metadata": {
        "colab": {
          "base_uri": "https://localhost:8080/"
        },
        "id": "cmQTGd-VTAXR",
        "outputId": "2fffa9f5-a534-4189-c140-3b9b2218f364"
      },
      "source": [
        "model.evaluate(X_valid, y_val)"
      ],
      "execution_count": 19,
      "outputs": [
        {
          "output_type": "stream",
          "text": [
            "709/709 [==============================] - 11s 15ms/step - loss: 0.4988 - accuracy: 0.7503\n"
          ],
          "name": "stdout"
        },
        {
          "output_type": "execute_result",
          "data": {
            "text/plain": [
              "[0.49880868196487427, 0.7503416538238525]"
            ]
          },
          "metadata": {
            "tags": []
          },
          "execution_count": 19
        }
      ]
    },
    {
      "cell_type": "markdown",
      "metadata": {
        "id": "ZKwaA9E7TAXR"
      },
      "source": [
        "# LSTM NN 3"
      ]
    },
    {
      "cell_type": "code",
      "metadata": {
        "colab": {
          "base_uri": "https://localhost:8080/"
        },
        "id": "f84oXrPITAXR",
        "outputId": "6f7da7a5-e989-4068-970b-bce78279e77e"
      },
      "source": [
        "inputs = Input(shape=(X_train.shape[1],))\n",
        "\n",
        "x =     Embedding(input_dim=word_count,\n",
        "              input_length=training_length,\n",
        "              output_dim=30,\n",
        "              trainable=True,\n",
        "              mask_zero=True)(inputs)\n",
        "\n",
        "xbi = LSTM(30, return_sequences=True)(x)\n",
        "x = add([x, xbi])\n",
        "xbi = LSTM(30, return_sequences=True)(x)\n",
        "x = add([x, xbi])\n",
        "xbi = LSTM(30, return_sequences=True)(x)\n",
        "x = add([x, xbi])\n",
        "\n",
        "\n",
        "x = Flatten()(x)\n",
        "x = Dense(64, activation='relu')(x)\n",
        "x = Dropout(0.5)(x)\n",
        "x = Dense(1, activation='sigmoid')(x)\n",
        "\n",
        "\n",
        "\n",
        "model = Model(inputs=inputs, outputs=x)\n",
        "model.summary()\n",
        "model.compile(optimizer='adam', loss='binary_crossentropy', metrics=['accuracy'])\n"
      ],
      "execution_count": 20,
      "outputs": [
        {
          "output_type": "stream",
          "text": [
            "Model: \"model_2\"\n",
            "__________________________________________________________________________________________________\n",
            "Layer (type)                    Output Shape         Param #     Connected to                     \n",
            "==================================================================================================\n",
            "input_3 (InputLayer)            [(None, 27)]         0                                            \n",
            "__________________________________________________________________________________________________\n",
            "embedding_2 (Embedding)         (None, 27, 30)       7743240     input_3[0][0]                    \n",
            "__________________________________________________________________________________________________\n",
            "lstm_2 (LSTM)                   (None, 27, 30)       7320        embedding_2[0][0]                \n",
            "__________________________________________________________________________________________________\n",
            "add_1 (Add)                     (None, 27, 30)       0           embedding_2[0][0]                \n",
            "                                                                 lstm_2[0][0]                     \n",
            "__________________________________________________________________________________________________\n",
            "lstm_3 (LSTM)                   (None, 27, 30)       7320        add_1[0][0]                      \n",
            "__________________________________________________________________________________________________\n",
            "add_2 (Add)                     (None, 27, 30)       0           add_1[0][0]                      \n",
            "                                                                 lstm_3[0][0]                     \n",
            "__________________________________________________________________________________________________\n",
            "lstm_4 (LSTM)                   (None, 27, 30)       7320        add_2[0][0]                      \n",
            "__________________________________________________________________________________________________\n",
            "add_3 (Add)                     (None, 27, 30)       0           add_2[0][0]                      \n",
            "                                                                 lstm_4[0][0]                     \n",
            "__________________________________________________________________________________________________\n",
            "flatten_2 (Flatten)             (None, 810)          0           add_3[0][0]                      \n",
            "__________________________________________________________________________________________________\n",
            "dense_4 (Dense)                 (None, 64)           51904       flatten_2[0][0]                  \n",
            "__________________________________________________________________________________________________\n",
            "dropout_2 (Dropout)             (None, 64)           0           dense_4[0][0]                    \n",
            "__________________________________________________________________________________________________\n",
            "dense_5 (Dense)                 (None, 1)            65          dropout_2[0][0]                  \n",
            "==================================================================================================\n",
            "Total params: 7,817,169\n",
            "Trainable params: 7,817,169\n",
            "Non-trainable params: 0\n",
            "__________________________________________________________________________________________________\n"
          ],
          "name": "stdout"
        }
      ]
    },
    {
      "cell_type": "code",
      "metadata": {
        "colab": {
          "base_uri": "https://localhost:8080/",
          "height": 444
        },
        "id": "Mn_EqpgwTAXS",
        "outputId": "893550fe-20d9-4826-e57c-4ad11545685e"
      },
      "source": [
        "callback = tf.keras.callbacks.EarlyStopping(monitor='val_accuracy', patience=3, restore_best_weights=True)\n",
        "\n",
        "history = model.fit(X_train, y_train, batch_size=128*2, epochs=25, \n",
        "          validation_data=(X_valid, y_val), callbacks=[callback], verbose=1)\n",
        "plot_history(history)"
      ],
      "execution_count": 21,
      "outputs": [
        {
          "output_type": "stream",
          "text": [
            "Epoch 1/25\n",
            "709/709 [==============================] - 198s 266ms/step - loss: 0.5304 - accuracy: 0.7264 - val_loss: 0.5031 - val_accuracy: 0.7485\n",
            "Epoch 2/25\n",
            "709/709 [==============================] - 188s 265ms/step - loss: 0.2690 - accuracy: 0.8902 - val_loss: 0.5828 - val_accuracy: 0.7391\n",
            "Epoch 3/25\n",
            "709/709 [==============================] - 187s 264ms/step - loss: 0.1073 - accuracy: 0.9603 - val_loss: 0.8284 - val_accuracy: 0.7279\n",
            "Epoch 4/25\n",
            "709/709 [==============================] - 187s 264ms/step - loss: 0.0572 - accuracy: 0.9793 - val_loss: 0.9765 - val_accuracy: 0.7227\n"
          ],
          "name": "stdout"
        },
        {
          "output_type": "display_data",
          "data": {
            "image/png": "[encoded data removed]",
            "text/plain": [
              "<Figure size 1080x288 with 2 Axes>"
            ]
          },
          "metadata": {
            "tags": [],
            "needs_background": "light"
          }
        }
      ]
    },
    {
      "cell_type": "code",
      "metadata": {
        "colab": {
          "base_uri": "https://localhost:8080/"
        },
        "id": "FCeIVxPiTAXS",
        "outputId": "b7e972e6-6a0c-416f-c0a7-c298a8a693f3"
      },
      "source": [
        "model.evaluate(X_valid, y_val)"
      ],
      "execution_count": 22,
      "outputs": [
        {
          "output_type": "stream",
          "text": [
            "709/709 [==============================] - 12s 17ms/step - loss: 0.5031 - accuracy: 0.7485\n"
          ],
          "name": "stdout"
        },
        {
          "output_type": "execute_result",
          "data": {
            "text/plain": [
              "[0.5030924081802368, 0.748490035533905]"
            ]
          },
          "metadata": {
            "tags": []
          },
          "execution_count": 22
        }
      ]
    },
    {
      "cell_type": "markdown",
      "metadata": {
        "id": "Ecg5OrpXTAXS"
      },
      "source": [
        "# CNN 1"
      ]
    },
    {
      "cell_type": "code",
      "metadata": {
        "colab": {
          "base_uri": "https://localhost:8080/"
        },
        "id": "Jht3J7eaTAXS",
        "outputId": "50cba9fc-cca7-4bf2-92a0-b31d90672561"
      },
      "source": [
        "#dim = int((word_count)**(1/2))\n",
        "dim = 30\n",
        "\n",
        "inputs = Input(shape=(X_train.shape[1],))\n",
        "\n",
        "x =     Embedding(input_dim=word_count,\n",
        "              input_length=training_length,\n",
        "              output_dim=dim,\n",
        "              trainable=True,\n",
        "              mask_zero=True)(inputs)\n",
        "\n",
        "x = Conv1D(128, 3, activation='relu')(x)\n",
        "\n",
        "x = GlobalMaxPool1D()(x)\n",
        "#x = Flatten()(x)\n",
        "x = Dense(64, activation='relu')(x)\n",
        "x = Dropout(0.5)(x)\n",
        "x = Dense(1, activation='sigmoid')(x)\n",
        "\n",
        "\n",
        "\n",
        "model = Model(inputs=inputs, outputs=x)\n",
        "model.summary()\n",
        "model.compile(optimizer='adam', loss='binary_crossentropy', metrics=['accuracy'])\n"
      ],
      "execution_count": 23,
      "outputs": [
        {
          "output_type": "stream",
          "text": [
            "Model: \"model_3\"\n",
            "_________________________________________________________________\n",
            "Layer (type)                 Output Shape              Param #   \n",
            "=================================================================\n",
            "input_4 (InputLayer)         [(None, 27)]              0         \n",
            "_________________________________________________________________\n",
            "embedding_3 (Embedding)      (None, 27, 30)            7743240   \n",
            "_________________________________________________________________\n",
            "conv1d (Conv1D)              (None, 25, 128)           11648     \n",
            "_________________________________________________________________\n",
            "global_max_pooling1d (Global (None, 128)               0         \n",
            "_________________________________________________________________\n",
            "dense_6 (Dense)              (None, 64)                8256      \n",
            "_________________________________________________________________\n",
            "dropout_3 (Dropout)          (None, 64)                0         \n",
            "_________________________________________________________________\n",
            "dense_7 (Dense)              (None, 1)                 65        \n",
            "=================================================================\n",
            "Total params: 7,763,209\n",
            "Trainable params: 7,763,209\n",
            "Non-trainable params: 0\n",
            "_________________________________________________________________\n"
          ],
          "name": "stdout"
        }
      ]
    },
    {
      "cell_type": "code",
      "metadata": {
        "colab": {
          "base_uri": "https://localhost:8080/",
          "height": 444
        },
        "id": "6VcK7JIeTAXT",
        "outputId": "8a3140f8-88b0-4726-c407-4337387fe49a"
      },
      "source": [
        "callback = tf.keras.callbacks.EarlyStopping(monitor='val_accuracy', patience=3, restore_best_weights=True)\n",
        "\n",
        "history = model.fit(X_train, y_train, batch_size=128*2, epochs=25, \n",
        "          validation_data=(X_valid, y_val), callbacks=[callback], verbose=1)\n",
        "plot_history(history)"
      ],
      "execution_count": 24,
      "outputs": [
        {
          "output_type": "stream",
          "text": [
            "Epoch 1/25\n",
            "709/709 [==============================] - 81s 74ms/step - loss: 0.5416 - accuracy: 0.7151 - val_loss: 0.5078 - val_accuracy: 0.7469\n",
            "Epoch 2/25\n",
            "709/709 [==============================] - 51s 72ms/step - loss: 0.2880 - accuracy: 0.8828 - val_loss: 0.5832 - val_accuracy: 0.7417\n",
            "Epoch 3/25\n",
            "709/709 [==============================] - 51s 72ms/step - loss: 0.1014 - accuracy: 0.9648 - val_loss: 0.8188 - val_accuracy: 0.7277\n",
            "Epoch 4/25\n",
            "709/709 [==============================] - 51s 72ms/step - loss: 0.0422 - accuracy: 0.9864 - val_loss: 1.0054 - val_accuracy: 0.7284\n"
          ],
          "name": "stdout"
        },
        {
          "output_type": "display_data",
          "data": {
            "image/png": "[encoded data removed]",
            "text/plain": [
              "<Figure size 1080x288 with 2 Axes>"
            ]
          },
          "metadata": {
            "tags": [],
            "needs_background": "light"
          }
        }
      ]
    },
    {
      "cell_type": "code",
      "metadata": {
        "colab": {
          "base_uri": "https://localhost:8080/"
        },
        "id": "NOCpVkHeTAXT",
        "outputId": "4dc41410-f993-4ec4-b025-c32193ca9a42"
      },
      "source": [
        "model.evaluate(X_valid, y_val)"
      ],
      "execution_count": 25,
      "outputs": [
        {
          "output_type": "stream",
          "text": [
            "709/709 [==============================] - 2s 2ms/step - loss: 0.5078 - accuracy: 0.7469\n"
          ],
          "name": "stdout"
        },
        {
          "output_type": "execute_result",
          "data": {
            "text/plain": [
              "[0.5078473091125488, 0.7468588948249817]"
            ]
          },
          "metadata": {
            "tags": []
          },
          "execution_count": 25
        }
      ]
    },
    {
      "cell_type": "markdown",
      "metadata": {
        "id": "ejN0CunwTAXT"
      },
      "source": [
        "# CNN 2"
      ]
    },
    {
      "cell_type": "code",
      "metadata": {
        "id": "lhln_raxTAXT"
      },
      "source": [
        "def residual_block(x, filters, conv_num=3, activation=\"relu\"):\n",
        "    # Shortcut\n",
        "    s = Conv1D(filters, 1, padding=\"same\")(x)\n",
        "    for i in range(conv_num - 1):\n",
        "        x = Conv1D(filters, 3, padding=\"same\")(x)\n",
        "        x = Activation(activation)(x)\n",
        "    x = Conv1D(filters, 3, padding=\"same\")(x)\n",
        "    x = add([x, s])\n",
        "    x = Activation(activation)(x)\n",
        "    return MaxPool1D(pool_size=2, strides=2)(x)\n",
        "\n",
        "\n",
        "\n",
        "def build_model(X_train):\n",
        "    inputs = Input(shape=(X_train.shape[1],))\n",
        "    \n",
        "    x = tf.keras.layers.Reshape((27, 1))(inputs)\n",
        "\n",
        "    x = residual_block(x, 16, 2)\n",
        "    x = residual_block(x, 32, 2)\n",
        "    x = residual_block(x, 64, 3)\n",
        "\n",
        "    x = AveragePooling1D(pool_size=3, strides=3)(x)\n",
        "    x = Flatten()(x)\n",
        "    x = Dense(128, activation=\"relu\")(x)\n",
        "\n",
        "    outputs = Dense(1, activation=\"sigmoid\", name=\"output\")(x)\n",
        "\n",
        "    \n",
        "    model = Model(inputs=inputs, outputs=outputs)\n",
        "    model.summary()\n",
        "    model.compile(optimizer='adam', loss='binary_crossentropy', metrics=['accuracy'])\n",
        "\n",
        "    return model \n"
      ],
      "execution_count": 26,
      "outputs": []
    },
    {
      "cell_type": "code",
      "metadata": {
        "colab": {
          "base_uri": "https://localhost:8080/"
        },
        "id": "1CfDd9-9TAXT",
        "outputId": "185144a7-1d0d-4c35-b914-ff6b0751471b"
      },
      "source": [
        "model = build_model(X_train)"
      ],
      "execution_count": 27,
      "outputs": [
        {
          "output_type": "stream",
          "text": [
            "Model: \"model_4\"\n",
            "__________________________________________________________________________________________________\n",
            "Layer (type)                    Output Shape         Param #     Connected to                     \n",
            "==================================================================================================\n",
            "input_5 (InputLayer)            [(None, 27)]         0                                            \n",
            "__________________________________________________________________________________________________\n",
            "reshape (Reshape)               (None, 27, 1)        0           input_5[0][0]                    \n",
            "__________________________________________________________________________________________________\n",
            "conv1d_2 (Conv1D)               (None, 27, 16)       64          reshape[0][0]                    \n",
            "__________________________________________________________________________________________________\n",
            "activation (Activation)         (None, 27, 16)       0           conv1d_2[0][0]                   \n",
            "__________________________________________________________________________________________________\n",
            "conv1d_3 (Conv1D)               (None, 27, 16)       784         activation[0][0]                 \n",
            "__________________________________________________________________________________________________\n",
            "conv1d_1 (Conv1D)               (None, 27, 16)       32          reshape[0][0]                    \n",
            "__________________________________________________________________________________________________\n",
            "add_4 (Add)                     (None, 27, 16)       0           conv1d_3[0][0]                   \n",
            "                                                                 conv1d_1[0][0]                   \n",
            "__________________________________________________________________________________________________\n",
            "activation_1 (Activation)       (None, 27, 16)       0           add_4[0][0]                      \n",
            "__________________________________________________________________________________________________\n",
            "max_pooling1d (MaxPooling1D)    (None, 13, 16)       0           activation_1[0][0]               \n",
            "__________________________________________________________________________________________________\n",
            "conv1d_5 (Conv1D)               (None, 13, 32)       1568        max_pooling1d[0][0]              \n",
            "__________________________________________________________________________________________________\n",
            "activation_2 (Activation)       (None, 13, 32)       0           conv1d_5[0][0]                   \n",
            "__________________________________________________________________________________________________\n",
            "conv1d_6 (Conv1D)               (None, 13, 32)       3104        activation_2[0][0]               \n",
            "__________________________________________________________________________________________________\n",
            "conv1d_4 (Conv1D)               (None, 13, 32)       544         max_pooling1d[0][0]              \n",
            "__________________________________________________________________________________________________\n",
            "add_5 (Add)                     (None, 13, 32)       0           conv1d_6[0][0]                   \n",
            "                                                                 conv1d_4[0][0]                   \n",
            "__________________________________________________________________________________________________\n",
            "activation_3 (Activation)       (None, 13, 32)       0           add_5[0][0]                      \n",
            "__________________________________________________________________________________________________\n",
            "max_pooling1d_1 (MaxPooling1D)  (None, 6, 32)        0           activation_3[0][0]               \n",
            "__________________________________________________________________________________________________\n",
            "conv1d_8 (Conv1D)               (None, 6, 64)        6208        max_pooling1d_1[0][0]            \n",
            "__________________________________________________________________________________________________\n",
            "activation_4 (Activation)       (None, 6, 64)        0           conv1d_8[0][0]                   \n",
            "__________________________________________________________________________________________________\n",
            "conv1d_9 (Conv1D)               (None, 6, 64)        12352       activation_4[0][0]               \n",
            "__________________________________________________________________________________________________\n",
            "activation_5 (Activation)       (None, 6, 64)        0           conv1d_9[0][0]                   \n",
            "__________________________________________________________________________________________________\n",
            "conv1d_10 (Conv1D)              (None, 6, 64)        12352       activation_5[0][0]               \n",
            "__________________________________________________________________________________________________\n",
            "conv1d_7 (Conv1D)               (None, 6, 64)        2112        max_pooling1d_1[0][0]            \n",
            "__________________________________________________________________________________________________\n",
            "add_6 (Add)                     (None, 6, 64)        0           conv1d_10[0][0]                  \n",
            "                                                                 conv1d_7[0][0]                   \n",
            "__________________________________________________________________________________________________\n",
            "activation_6 (Activation)       (None, 6, 64)        0           add_6[0][0]                      \n",
            "__________________________________________________________________________________________________\n",
            "max_pooling1d_2 (MaxPooling1D)  (None, 3, 64)        0           activation_6[0][0]               \n",
            "__________________________________________________________________________________________________\n",
            "average_pooling1d (AveragePooli (None, 1, 64)        0           max_pooling1d_2[0][0]            \n",
            "__________________________________________________________________________________________________\n",
            "flatten_3 (Flatten)             (None, 64)           0           average_pooling1d[0][0]          \n",
            "__________________________________________________________________________________________________\n",
            "dense_8 (Dense)                 (None, 128)          8320        flatten_3[0][0]                  \n",
            "__________________________________________________________________________________________________\n",
            "output (Dense)                  (None, 1)            129         dense_8[0][0]                    \n",
            "==================================================================================================\n",
            "Total params: 47,569\n",
            "Trainable params: 47,569\n",
            "Non-trainable params: 0\n",
            "__________________________________________________________________________________________________\n"
          ],
          "name": "stdout"
        }
      ]
    },
    {
      "cell_type": "code",
      "metadata": {
        "colab": {
          "base_uri": "https://localhost:8080/",
          "height": 716
        },
        "id": "pR9_YTJsTAXU",
        "outputId": "c8aa5ef0-5b72-4fdf-f72e-d63035c0ea2b"
      },
      "source": [
        "history = model.fit(X_train, y_train, batch_size=128*2, epochs=25, \n",
        "          validation_data=(X_valid, y_val), callbacks=[callback], verbose=1)\n",
        "plot_history(history)"
      ],
      "execution_count": 28,
      "outputs": [
        {
          "output_type": "stream",
          "text": [
            "Epoch 1/25\n",
            "709/709 [==============================] - 6s 7ms/step - loss: 19.9516 - accuracy: 0.5321 - val_loss: 1.9619 - val_accuracy: 0.5074\n",
            "Epoch 2/25\n",
            "709/709 [==============================] - 5s 7ms/step - loss: 2.0519 - accuracy: 0.5447 - val_loss: 0.9300 - val_accuracy: 0.5039\n",
            "Epoch 3/25\n",
            "709/709 [==============================] - 4s 6ms/step - loss: 0.8781 - accuracy: 0.5507 - val_loss: 0.7184 - val_accuracy: 0.5107\n",
            "Epoch 4/25\n",
            "709/709 [==============================] - 4s 6ms/step - loss: 0.7066 - accuracy: 0.5621 - val_loss: 0.7179 - val_accuracy: 0.5390\n",
            "Epoch 5/25\n",
            "709/709 [==============================] - 4s 6ms/step - loss: 0.6775 - accuracy: 0.5813 - val_loss: 0.7185 - val_accuracy: 0.5446\n",
            "Epoch 6/25\n",
            "709/709 [==============================] - 4s 6ms/step - loss: 0.6744 - accuracy: 0.5825 - val_loss: 0.7047 - val_accuracy: 0.5464\n",
            "Epoch 7/25\n",
            "709/709 [==============================] - 4s 6ms/step - loss: 0.6714 - accuracy: 0.5865 - val_loss: 0.7387 - val_accuracy: 0.5436\n",
            "Epoch 8/25\n",
            "709/709 [==============================] - 4s 6ms/step - loss: 0.6701 - accuracy: 0.5882 - val_loss: 0.7258 - val_accuracy: 0.5438\n",
            "Epoch 9/25\n",
            "709/709 [==============================] - 4s 6ms/step - loss: 0.6705 - accuracy: 0.5868 - val_loss: 0.7208 - val_accuracy: 0.5479\n",
            "Epoch 10/25\n",
            "709/709 [==============================] - 4s 6ms/step - loss: 0.6717 - accuracy: 0.5855 - val_loss: 0.7160 - val_accuracy: 0.5429\n",
            "Epoch 11/25\n",
            "709/709 [==============================] - 4s 6ms/step - loss: 0.6726 - accuracy: 0.5830 - val_loss: 0.7475 - val_accuracy: 0.5304\n",
            "Epoch 12/25\n",
            "709/709 [==============================] - 4s 6ms/step - loss: 0.6764 - accuracy: 0.5772 - val_loss: 0.7279 - val_accuracy: 0.5399\n"
          ],
          "name": "stdout"
        },
        {
          "output_type": "display_data",
          "data": {
            "image/png": "[encoded data removed]",
            "text/plain": [
              "<Figure size 1080x288 with 2 Axes>"
            ]
          },
          "metadata": {
            "tags": [],
            "needs_background": "light"
          }
        }
      ]
    },
    {
      "cell_type": "code",
      "metadata": {
        "colab": {
          "base_uri": "https://localhost:8080/"
        },
        "id": "KM8G-ua5TAXU",
        "outputId": "a0b4f3f5-5678-4ee8-fc11-93b2a69e1763"
      },
      "source": [
        "model.evaluate(X_valid, y_val)"
      ],
      "execution_count": 29,
      "outputs": [
        {
          "output_type": "stream",
          "text": [
            "709/709 [==============================] - 2s 3ms/step - loss: 0.7208 - accuracy: 0.5479\n"
          ],
          "name": "stdout"
        },
        {
          "output_type": "execute_result",
          "data": {
            "text/plain": [
              "[0.7208196520805359, 0.5478551983833313]"
            ]
          },
          "metadata": {
            "tags": []
          },
          "execution_count": 29
        }
      ]
    },
    {
      "cell_type": "markdown",
      "metadata": {
        "id": "-QIs2cYqTAXV"
      },
      "source": [
        "# CNN+LSTM"
      ]
    },
    {
      "cell_type": "code",
      "metadata": {
        "colab": {
          "base_uri": "https://localhost:8080/"
        },
        "id": "OeWRclcITAXV",
        "outputId": "c168d799-78f0-442c-99d6-dd742a56efc1"
      },
      "source": [
        "inputs = Input(shape=(X_train.shape[1],))\n",
        "\n",
        "x =     Embedding(input_dim=word_count,\n",
        "              input_length=training_length,\n",
        "              output_dim=30,\n",
        "              trainable=True,\n",
        "              mask_zero=True)(inputs)\n",
        "\n",
        "x = (Conv1D(filters=64, kernel_size=3, activation='relu', padding=\"same\"))(x)\n",
        "\n",
        "x = LSTM(64, return_sequences=True)(x)\n",
        "\n",
        "x = Flatten()(x)\n",
        "x = Dense(64, activation='relu')(x)\n",
        "x = Dropout(0.5)(x)\n",
        "x = Dense(1, activation='sigmoid')(x)\n",
        "\n",
        "\n",
        "\n",
        "model = Model(inputs=inputs, outputs=x)\n",
        "model.summary()\n",
        "model.compile(optimizer='adam', loss='binary_crossentropy', metrics=['accuracy'])"
      ],
      "execution_count": 30,
      "outputs": [
        {
          "output_type": "stream",
          "text": [
            "Model: \"model_5\"\n",
            "_________________________________________________________________\n",
            "Layer (type)                 Output Shape              Param #   \n",
            "=================================================================\n",
            "input_6 (InputLayer)         [(None, 27)]              0         \n",
            "_________________________________________________________________\n",
            "embedding_4 (Embedding)      (None, 27, 30)            7743240   \n",
            "_________________________________________________________________\n",
            "conv1d_11 (Conv1D)           (None, 27, 64)            5824      \n",
            "_________________________________________________________________\n",
            "lstm_5 (LSTM)                (None, 27, 64)            33024     \n",
            "_________________________________________________________________\n",
            "flatten_4 (Flatten)          (None, 1728)              0         \n",
            "_________________________________________________________________\n",
            "dense_9 (Dense)              (None, 64)                110656    \n",
            "_________________________________________________________________\n",
            "dropout_4 (Dropout)          (None, 64)                0         \n",
            "_________________________________________________________________\n",
            "dense_10 (Dense)             (None, 1)                 65        \n",
            "=================================================================\n",
            "Total params: 7,892,809\n",
            "Trainable params: 7,892,809\n",
            "Non-trainable params: 0\n",
            "_________________________________________________________________\n"
          ],
          "name": "stdout"
        }
      ]
    },
    {
      "cell_type": "code",
      "metadata": {
        "colab": {
          "base_uri": "https://localhost:8080/",
          "height": 444
        },
        "id": "HlEEw88BTAXW",
        "outputId": "269d947d-3a6e-49c0-9ef7-52053278df49"
      },
      "source": [
        "history = model.fit(X_train, y_train, batch_size=128*2, epochs=25, \n",
        "          validation_data=(X_valid, y_val), callbacks=[callback], verbose=1)\n",
        "plot_history(history)"
      ],
      "execution_count": 31,
      "outputs": [
        {
          "output_type": "stream",
          "text": [
            "Epoch 1/25\n",
            "709/709 [==============================] - 56s 75ms/step - loss: 0.5306 - accuracy: 0.7239 - val_loss: 0.4977 - val_accuracy: 0.7540\n",
            "Epoch 2/25\n",
            "709/709 [==============================] - 54s 76ms/step - loss: 0.2671 - accuracy: 0.8911 - val_loss: 0.6410 - val_accuracy: 0.7350\n",
            "Epoch 3/25\n",
            "709/709 [==============================] - 53s 75ms/step - loss: 0.1044 - accuracy: 0.9617 - val_loss: 0.8109 - val_accuracy: 0.7304\n",
            "Epoch 4/25\n",
            "709/709 [==============================] - 55s 77ms/step - loss: 0.0479 - accuracy: 0.9834 - val_loss: 1.1656 - val_accuracy: 0.7227\n"
          ],
          "name": "stdout"
        },
        {
          "output_type": "display_data",
          "data": {
            "image/png": "[encoded data removed]",
            "text/plain": [
              "<Figure size 1080x288 with 2 Axes>"
            ]
          },
          "metadata": {
            "tags": [],
            "needs_background": "light"
          }
        }
      ]
    },
    {
      "cell_type": "code",
      "metadata": {
        "colab": {
          "base_uri": "https://localhost:8080/"
        },
        "id": "W53gwcamTAXW",
        "outputId": "7e46efc9-99a1-4b67-c6ab-12c5ee841f82"
      },
      "source": [
        "model.evaluate(X_valid, y_val)"
      ],
      "execution_count": 32,
      "outputs": [
        {
          "output_type": "stream",
          "text": [
            "709/709 [==============================] - 2s 3ms/step - loss: 0.4977 - accuracy: 0.7540\n"
          ],
          "name": "stdout"
        },
        {
          "output_type": "execute_result",
          "data": {
            "text/plain": [
              "[0.49770060181617737, 0.7540007829666138]"
            ]
          },
          "metadata": {
            "tags": []
          },
          "execution_count": 32
        }
      ]
    },
    {
      "cell_type": "markdown",
      "metadata": {
        "id": "R5a34KOqTAXW"
      },
      "source": [
        "# ConvLSTM2D"
      ]
    },
    {
      "cell_type": "code",
      "metadata": {
        "colab": {
          "base_uri": "https://localhost:8080/"
        },
        "id": "vj0Of7_RTAXW",
        "outputId": "2a3f7be4-864e-43f8-9131-3a6d23159b48"
      },
      "source": [
        "inputs = Input(shape=(X_train.shape[1],))\n",
        "\n",
        "x =     Embedding(input_dim=word_count,\n",
        "              input_length=training_length,\n",
        "              output_dim=30,\n",
        "              trainable=True,\n",
        "              mask_zero=True)(inputs)\n",
        "\n",
        "\n",
        "x = tf.keras.layers.Reshape((27, 30, 1, 1))(x)\n",
        "x = tf.keras.layers.ConvLSTM2D(filters=64, kernel_size=(1,2), activation='relu', padding=\"same\")(x)\n",
        "\n",
        "\n",
        "x = Flatten()(x)\n",
        "x = Dense(64, activation='relu')(x)\n",
        "x = Dropout(0.5)(x)\n",
        "x = Dense(1, activation='sigmoid')(x)\n",
        "\n",
        "\n",
        "\n",
        "model = Model(inputs=inputs, outputs=x)\n",
        "model.summary()\n",
        "model.compile(optimizer='adam', loss='binary_crossentropy', metrics=['accuracy'])"
      ],
      "execution_count": 33,
      "outputs": [
        {
          "output_type": "stream",
          "text": [
            "Model: \"model_6\"\n",
            "_________________________________________________________________\n",
            "Layer (type)                 Output Shape              Param #   \n",
            "=================================================================\n",
            "input_7 (InputLayer)         [(None, 27)]              0         \n",
            "_________________________________________________________________\n",
            "embedding_5 (Embedding)      (None, 27, 30)            7743240   \n",
            "_________________________________________________________________\n",
            "reshape_1 (Reshape)          (None, 27, 30, 1, 1)      0         \n",
            "_________________________________________________________________\n",
            "conv_lst_m2d (ConvLSTM2D)    (None, 30, 1, 64)         33536     \n",
            "_________________________________________________________________\n",
            "flatten_5 (Flatten)          (None, 1920)              0         \n",
            "_________________________________________________________________\n",
            "dense_11 (Dense)             (None, 64)                122944    \n",
            "_________________________________________________________________\n",
            "dropout_5 (Dropout)          (None, 64)                0         \n",
            "_________________________________________________________________\n",
            "dense_12 (Dense)             (None, 1)                 65        \n",
            "=================================================================\n",
            "Total params: 7,899,785\n",
            "Trainable params: 7,899,785\n",
            "Non-trainable params: 0\n",
            "_________________________________________________________________\n"
          ],
          "name": "stdout"
        }
      ]
    },
    {
      "cell_type": "code",
      "metadata": {
        "colab": {
          "base_uri": "https://localhost:8080/",
          "height": 478
        },
        "id": "ulpUm8D7TAXX",
        "outputId": "17699d42-242a-40a5-8314-e51c68c034da"
      },
      "source": [
        "history = model.fit(X_train, y_train, batch_size=128*2, epochs=25, \n",
        "          validation_data=(X_valid, y_val), callbacks=[callback], verbose=1)\n",
        "plot_history(history)"
      ],
      "execution_count": 34,
      "outputs": [
        {
          "output_type": "stream",
          "text": [
            "Epoch 1/25\n",
            "709/709 [==============================] - 185s 256ms/step - loss: 0.5493 - accuracy: 0.7120 - val_loss: 0.5106 - val_accuracy: 0.7437\n",
            "Epoch 2/25\n",
            "709/709 [==============================] - 182s 256ms/step - loss: 0.3259 - accuracy: 0.8655 - val_loss: 0.5730 - val_accuracy: 0.7453\n",
            "Epoch 3/25\n",
            "709/709 [==============================] - 180s 254ms/step - loss: 0.1605 - accuracy: 0.9404 - val_loss: 0.7572 - val_accuracy: 0.7287\n",
            "Epoch 4/25\n",
            "709/709 [==============================] - 180s 254ms/step - loss: 0.0870 - accuracy: 0.9690 - val_loss: 0.9861 - val_accuracy: 0.7272\n",
            "Epoch 5/25\n",
            "709/709 [==============================] - 179s 252ms/step - loss: 0.0474 - accuracy: 0.9825 - val_loss: 1.3049 - val_accuracy: 0.7224\n"
          ],
          "name": "stdout"
        },
        {
          "output_type": "display_data",
          "data": {
            "image/png": "[encoded data removed]",
            "text/plain": [
              "<Figure size 1080x288 with 2 Axes>"
            ]
          },
          "metadata": {
            "tags": [],
            "needs_background": "light"
          }
        }
      ]
    },
    {
      "cell_type": "code",
      "metadata": {
        "colab": {
          "base_uri": "https://localhost:8080/"
        },
        "id": "VGvMLt3rTAXX",
        "outputId": "29d327bc-a779-4924-e2b7-c1cb93de6b45"
      },
      "source": [
        "model.evaluate(X_valid, y_val)"
      ],
      "execution_count": 35,
      "outputs": [
        {
          "output_type": "stream",
          "text": [
            "709/709 [==============================] - 13s 18ms/step - loss: 0.5730 - accuracy: 0.7453\n"
          ],
          "name": "stdout"
        },
        {
          "output_type": "execute_result",
          "data": {
            "text/plain": [
              "[0.5729637742042542, 0.7452718019485474]"
            ]
          },
          "metadata": {
            "tags": []
          },
          "execution_count": 35
        }
      ]
    },
    {
      "cell_type": "markdown",
      "metadata": {
        "id": "YNLka42cTAXX"
      },
      "source": [
        "# LSTM + CNN"
      ]
    },
    {
      "cell_type": "code",
      "metadata": {
        "colab": {
          "base_uri": "https://localhost:8080/"
        },
        "id": "Pq805yoaTAXX",
        "outputId": "afbe87fe-6460-4627-f797-d5411278ee5d"
      },
      "source": [
        "inputs = Input(shape=(X_train.shape[1],))\n",
        "\n",
        "x =     Embedding(input_dim=word_count,\n",
        "              input_length=training_length,\n",
        "              output_dim=30,\n",
        "              trainable=True,\n",
        "              mask_zero=True)(inputs)\n",
        "\n",
        "\n",
        "x = LSTM(64, return_sequences=True)(x)\n",
        "x = (Conv1D(filters=64, kernel_size=3, activation='relu', padding=\"same\"))(x)\n",
        "\n",
        "x = Flatten()(x)\n",
        "x = Dense(64, activation='relu')(x)\n",
        "x = Dropout(0.5)(x)\n",
        "x = Dense(1, activation='sigmoid')(x)\n",
        "\n",
        "\n",
        "\n",
        "model = Model(inputs=inputs, outputs=x)\n",
        "model.summary()\n",
        "model.compile(optimizer='adam', loss='binary_crossentropy', metrics=['accuracy'])"
      ],
      "execution_count": 36,
      "outputs": [
        {
          "output_type": "stream",
          "text": [
            "Model: \"model_7\"\n",
            "_________________________________________________________________\n",
            "Layer (type)                 Output Shape              Param #   \n",
            "=================================================================\n",
            "input_8 (InputLayer)         [(None, 27)]              0         \n",
            "_________________________________________________________________\n",
            "embedding_6 (Embedding)      (None, 27, 30)            7743240   \n",
            "_________________________________________________________________\n",
            "lstm_6 (LSTM)                (None, 27, 64)            24320     \n",
            "_________________________________________________________________\n",
            "conv1d_12 (Conv1D)           (None, 27, 64)            12352     \n",
            "_________________________________________________________________\n",
            "flatten_6 (Flatten)          (None, 1728)              0         \n",
            "_________________________________________________________________\n",
            "dense_13 (Dense)             (None, 64)                110656    \n",
            "_________________________________________________________________\n",
            "dropout_6 (Dropout)          (None, 64)                0         \n",
            "_________________________________________________________________\n",
            "dense_14 (Dense)             (None, 1)                 65        \n",
            "=================================================================\n",
            "Total params: 7,890,633\n",
            "Trainable params: 7,890,633\n",
            "Non-trainable params: 0\n",
            "_________________________________________________________________\n"
          ],
          "name": "stdout"
        }
      ]
    },
    {
      "cell_type": "code",
      "metadata": {
        "colab": {
          "base_uri": "https://localhost:8080/",
          "height": 444
        },
        "id": "MGHfidVMTAXX",
        "outputId": "454de3c9-1d62-4f84-bafb-9e62913d5533"
      },
      "source": [
        "history = model.fit(X_train, y_train, batch_size=128*2, epochs=25, \n",
        "          validation_data=(X_valid, y_val), callbacks=[callback], verbose=1)\n",
        "plot_history(history)"
      ],
      "execution_count": 37,
      "outputs": [
        {
          "output_type": "stream",
          "text": [
            "Epoch 1/25\n",
            "709/709 [==============================] - 104s 142ms/step - loss: 0.5316 - accuracy: 0.7253 - val_loss: 0.5038 - val_accuracy: 0.7477\n",
            "Epoch 2/25\n",
            "709/709 [==============================] - 100s 141ms/step - loss: 0.2846 - accuracy: 0.8826 - val_loss: 0.5947 - val_accuracy: 0.7394\n",
            "Epoch 3/25\n",
            "709/709 [==============================] - 101s 142ms/step - loss: 0.1317 - accuracy: 0.9504 - val_loss: 0.8722 - val_accuracy: 0.7307\n",
            "Epoch 4/25\n",
            "709/709 [==============================] - 99s 140ms/step - loss: 0.0710 - accuracy: 0.9740 - val_loss: 1.0092 - val_accuracy: 0.7312\n"
          ],
          "name": "stdout"
        },
        {
          "output_type": "display_data",
          "data": {
            "image/png": "[encoded data removed]",
            "text/plain": [
              "<Figure size 1080x288 with 2 Axes>"
            ]
          },
          "metadata": {
            "tags": [],
            "needs_background": "light"
          }
        }
      ]
    },
    {
      "cell_type": "code",
      "metadata": {
        "colab": {
          "base_uri": "https://localhost:8080/"
        },
        "id": "ZmRpSKP_TAXX",
        "outputId": "a6cb6bc6-31c6-4ecc-9010-cacb4b8f26da"
      },
      "source": [
        "model.evaluate(X_valid, y_val)"
      ],
      "execution_count": 38,
      "outputs": [
        {
          "output_type": "stream",
          "text": [
            "709/709 [==============================] - 5s 7ms/step - loss: 0.5038 - accuracy: 0.7477\n"
          ],
          "name": "stdout"
        },
        {
          "output_type": "execute_result",
          "data": {
            "text/plain": [
              "[0.5037987232208252, 0.7476524114608765]"
            ]
          },
          "metadata": {
            "tags": []
          },
          "execution_count": 38
        }
      ]
    },
    {
      "cell_type": "markdown",
      "metadata": {
        "id": "REZYUu4ZTAXY"
      },
      "source": [
        "# Выводы."
      ]
    },
    {
      "cell_type": "markdown",
      "metadata": {
        "id": "lQ6p3gVHTAXY"
      },
      "source": [
        "Лучше всего сработали (в порядке убывания результата) следующие архитектуры:\n",
        "\n",
        "    1. LSTM + CNN\n",
        "    2. CNN + LSTM\n",
        "    3. Стекинг из LSTM с residual connection.\n",
        "    \n",
        "При этом их результаты не сильно отличались и однозначно сказать что какая то архитектура лучше других нельзя."
      ]
    },
    {
      "cell_type": "markdown",
      "metadata": {
        "id": "WM1LNPP7TAXY"
      },
      "source": [
        "__P.S.__ Качество на тесте практически всех моделей падало после первой же эпохи. Это говорит о возможном переобучении уже в течении выполнения первой эпохи. Может быть имело смысл уменьшить размер датасета на трейне или хотя бы размер батча."
      ]
    },
    {
      "cell_type": "code",
      "metadata": {
        "id": "OBq45SnPTAXY"
      },
      "source": [
        ""
      ],
      "execution_count": 38,
      "outputs": []
    }
  ]
}