{
  "nbformat": 4,
  "nbformat_minor": 5,
  "metadata": {
    "kernelspec": {
      "display_name": "Python 3",
      "language": "python",
      "name": "python3"
    },
    "language_info": {
      "codemirror_mode": {
        "name": "ipython",
        "version": 3
      },
      "file_extension": ".py",
      "mimetype": "text/x-python",
      "name": "python",
      "nbconvert_exporter": "python",
      "pygments_lexer": "ipython3",
      "version": "3.8.8"
    },
    "colab": {
      "name": "ПЗ 9.ipynb",
      "provenance": []
    }
  },
  "cells": [
    {
      "cell_type": "markdown",
      "metadata": {
        "id": "b1a6110c"
      },
      "source": [
        "## ПЗ 9"
      ],
      "id": "b1a6110c"
    },
    {
      "cell_type": "code",
      "metadata": {
        "id": "20134083"
      },
      "source": [
        "import pandas as pd\n",
        "from string import punctuation\n",
        "from stop_words import get_stop_words\n",
        "from pymorphy2 import MorphAnalyzer\n",
        "import re\n",
        "import numpy as np\n",
        "import tensorflow as tf\n",
        "import os"
      ],
      "id": "20134083",
      "execution_count": null,
      "outputs": []
    },
    {
      "cell_type": "code",
      "metadata": {
        "id": "6ba3db7e"
      },
      "source": [
        "path_to_file = 'evgenyi_onegin.txt'\n",
        "text = open(path_to_file, 'rb').read().decode(encoding='utf-8')\n",
        "\n",
        "text = text.split('\\n\\n')"
      ],
      "id": "6ba3db7e",
      "execution_count": null,
      "outputs": []
    },
    {
      "cell_type": "code",
      "metadata": {
        "id": "bdd9fb6b",
        "outputId": "f157039d-cf52-4e08-e5b2-ace2bd0451bb"
      },
      "source": [
        "text[6]"
      ],
      "id": "bdd9fb6b",
      "execution_count": null,
      "outputs": [
        {
          "output_type": "execute_result",
          "data": {
            "text/plain": [
              "'                        \"Мой дядя самых честных правил,\\n                        Когда не в шутку занемог,\\n                        Он уважать себя заставил\\n                        И лучше выдумать не мог.\\n                        Его пример другим наука;\\n                        Но, боже мой, какая скука\\n                        С больным сидеть и день и ночь,\\n                        Не отходя ни шагу прочь!\\n                        Какое низкое коварство\\n                        Полуживого забавлять,\\n                        Ему подушки поправлять,\\n                        Печально подносить лекарство,\\n                        Вздыхать и думать про себя:\\n                        Когда же черт возьмет тебя!\"'"
            ]
          },
          "metadata": {
            "tags": []
          },
          "execution_count": 3
        }
      ]
    },
    {
      "cell_type": "code",
      "metadata": {
        "id": "f89d5aac",
        "outputId": "4be04b8f-bc8e-41b2-eb00-bc3869a1601f"
      },
      "source": [
        "len(text)"
      ],
      "id": "f89d5aac",
      "execution_count": null,
      "outputs": [
        {
          "output_type": "execute_result",
          "data": {
            "text/plain": [
              "782"
            ]
          },
          "metadata": {
            "tags": []
          },
          "execution_count": 4
        }
      ]
    },
    {
      "cell_type": "code",
      "metadata": {
        "id": "333d105c",
        "outputId": "900734e4-3f4a-4947-cca1-6f4bd8971ace"
      },
      "source": [
        "text_only = []\n",
        "for strofa in text:\n",
        "    if len(strofa) < 350:\n",
        "        continue\n",
        "    else:\n",
        "        text_only.append(strofa)\n",
        "len(text_only)"
      ],
      "id": "333d105c",
      "execution_count": null,
      "outputs": [
        {
          "output_type": "execute_result",
          "data": {
            "text/plain": [
              "376"
            ]
          },
          "metadata": {
            "tags": []
          },
          "execution_count": 5
        }
      ]
    },
    {
      "cell_type": "code",
      "metadata": {
        "id": "88eb5edc",
        "outputId": "fbf94e4e-cc9d-4b38-d0f2-6c8353641aa6"
      },
      "source": [
        "text_only[155]"
      ],
      "id": "88eb5edc",
      "execution_count": null,
      "outputs": [
        {
          "output_type": "execute_result",
          "data": {
            "text/plain": [
              "'                        Кого ж любить? Кому же верить?\\n                        Кто не изменит нам один?\\n                        Кто все дела, все речи мерит\\n                        Услужливо на наш аршин?\\n                        Кто клеветы про нас не сеет?\\n                        Кто нас заботливо лелеет?\\n                        Кому порок наш не беда?\\n                        Кто не наскучит никогда?\\n                        Призрака суетный искатель,\\n                        Трудов напрасно не губя,\\n                        Любите самого себя,\\n                        Достопочтенный мой читатель!\\n                        Предмет достойный: ничего\\n                        Любезней, верно, нет его.'"
            ]
          },
          "metadata": {
            "tags": []
          },
          "execution_count": 6
        }
      ]
    },
    {
      "cell_type": "code",
      "metadata": {
        "id": "fc4bd110",
        "outputId": "6c373626-d8a5-464c-f037-08686749d4c1"
      },
      "source": [
        "data = pd.DataFrame(text_only)\n",
        "data = data.rename(columns={0: \"Content\"})\n",
        "data"
      ],
      "id": "fc4bd110",
      "execution_count": null,
      "outputs": [
        {
          "output_type": "execute_result",
          "data": {
            "text/html": [
              "<div>\n",
              "<style scoped>\n",
              "    .dataframe tbody tr th:only-of-type {\n",
              "        vertical-align: middle;\n",
              "    }\n",
              "\n",
              "    .dataframe tbody tr th {\n",
              "        vertical-align: top;\n",
              "    }\n",
              "\n",
              "    .dataframe thead th {\n",
              "        text-align: right;\n",
              "    }\n",
              "</style>\n",
              "<table border=\"1\" class=\"dataframe\">\n",
              "  <thead>\n",
              "    <tr style=\"text-align: right;\">\n",
              "      <th></th>\n",
              "      <th>Content</th>\n",
              "    </tr>\n",
              "  </thead>\n",
              "  <tbody>\n",
              "    <tr>\n",
              "      <th>0</th>\n",
              "      <td>Не мысля гордый свет з...</td>\n",
              "    </tr>\n",
              "    <tr>\n",
              "      <th>1</th>\n",
              "      <td>\"Мой дядя самых честны...</td>\n",
              "    </tr>\n",
              "    <tr>\n",
              "      <th>2</th>\n",
              "      <td>Так думал молодой пове...</td>\n",
              "    </tr>\n",
              "    <tr>\n",
              "      <th>3</th>\n",
              "      <td>Служив отлично благоро...</td>\n",
              "    </tr>\n",
              "    <tr>\n",
              "      <th>4</th>\n",
              "      <td>Когда же юности мятежн...</td>\n",
              "    </tr>\n",
              "    <tr>\n",
              "      <th>...</th>\n",
              "      <td>...</td>\n",
              "    </tr>\n",
              "    <tr>\n",
              "      <th>371</th>\n",
              "      <td>А счастье было так воз...</td>\n",
              "    </tr>\n",
              "    <tr>\n",
              "      <th>372</th>\n",
              "      <td>Она ушла. Стоит Евгени...</td>\n",
              "    </tr>\n",
              "    <tr>\n",
              "      <th>373</th>\n",
              "      <td>Кто б ни был ты, о мой...</td>\n",
              "    </tr>\n",
              "    <tr>\n",
              "      <th>374</th>\n",
              "      <td>Прости ж и ты, мой спу...</td>\n",
              "    </tr>\n",
              "    <tr>\n",
              "      <th>375</th>\n",
              "      <td>Но те, которым в дружн...</td>\n",
              "    </tr>\n",
              "  </tbody>\n",
              "</table>\n",
              "<p>376 rows × 1 columns</p>\n",
              "</div>"
            ],
            "text/plain": [
              "                                               Content\n",
              "0                            Не мысля гордый свет з...\n",
              "1                            \"Мой дядя самых честны...\n",
              "2                            Так думал молодой пове...\n",
              "3                            Служив отлично благоро...\n",
              "4                            Когда же юности мятежн...\n",
              "..                                                 ...\n",
              "371                          А счастье было так воз...\n",
              "372                          Она ушла. Стоит Евгени...\n",
              "373                          Кто б ни был ты, о мой...\n",
              "374                          Прости ж и ты, мой спу...\n",
              "375                          Но те, которым в дружн...\n",
              "\n",
              "[376 rows x 1 columns]"
            ]
          },
          "metadata": {
            "tags": []
          },
          "execution_count": 7
        }
      ]
    },
    {
      "cell_type": "code",
      "metadata": {
        "id": "22f163f7",
        "outputId": "d92b1c3c-5315-4a3e-dd99-875b65d61451"
      },
      "source": [
        "sw = set(get_stop_words(\"ru\"))\n",
        "exclude = set(punctuation)\n",
        "morpher = MorphAnalyzer()\n",
        "\n",
        "\n",
        "\n",
        "\n",
        "def exclude_punctuation(txt):\n",
        "    txt = \"\".join(c for c in txt if c not in exclude)    \n",
        "    txt = re.sub(\"\\n\", \" \\n\", txt)    \n",
        "    return txt\n",
        "\n",
        "\n",
        "\n",
        "def preprocess_text(txt, morph = False):\n",
        "    txt = str(txt)\n",
        "    txt = txt.lower()\n",
        "    txt = re.sub(\"\\n\", \"zzz\", txt)\n",
        "    new_txt =[]\n",
        "    for word in txt.split():\n",
        "        if word == \"zzz\":\n",
        "            word = \" \\n\"\n",
        "            \n",
        "        else:\n",
        "            if morph:\n",
        "                word = morpher.parse(word)[0].normal_form\n",
        "            else:\n",
        "                pass\n",
        "        new_txt.append(word)\n",
        "\n",
        "    return new_txt\n",
        "\n",
        "\n",
        "data['Content_splited'] = data['Content'].apply(exclude_punctuation)\n",
        "\n",
        "\n",
        "data['Content_splited_morph'] = data['Content_splited'].apply(preprocess_text, morph = True)\n",
        "data['Content_splited'] = data['Content_splited'].apply(preprocess_text, morph = False)\n",
        "\n",
        "data"
      ],
      "id": "22f163f7",
      "execution_count": null,
      "outputs": [
        {
          "output_type": "execute_result",
          "data": {
            "text/html": [
              "<div>\n",
              "<style scoped>\n",
              "    .dataframe tbody tr th:only-of-type {\n",
              "        vertical-align: middle;\n",
              "    }\n",
              "\n",
              "    .dataframe tbody tr th {\n",
              "        vertical-align: top;\n",
              "    }\n",
              "\n",
              "    .dataframe thead th {\n",
              "        text-align: right;\n",
              "    }\n",
              "</style>\n",
              "<table border=\"1\" class=\"dataframe\">\n",
              "  <thead>\n",
              "    <tr style=\"text-align: right;\">\n",
              "      <th></th>\n",
              "      <th>Content</th>\n",
              "      <th>Content_splited</th>\n",
              "      <th>Content_splited_morph</th>\n",
              "    </tr>\n",
              "  </thead>\n",
              "  <tbody>\n",
              "    <tr>\n",
              "      <th>0</th>\n",
              "      <td>Не мысля гордый свет з...</td>\n",
              "      <td>[не, мысля, гордый, свет, забавить,  \\n, внима...</td>\n",
              "      <td>[не, мыслить, гордый, свет, забавить,  \\n, вни...</td>\n",
              "    </tr>\n",
              "    <tr>\n",
              "      <th>1</th>\n",
              "      <td>\"Мой дядя самых честны...</td>\n",
              "      <td>[мой, дядя, самых, честных, правил,  \\n, когда...</td>\n",
              "      <td>[мой, дядя, самый, честной, правило,  \\n, когд...</td>\n",
              "    </tr>\n",
              "    <tr>\n",
              "      <th>2</th>\n",
              "      <td>Так думал молодой пове...</td>\n",
              "      <td>[так, думал, молодой, повеса,  \\n, летя, в, пы...</td>\n",
              "      <td>[так, думать, молодой, повеса,  \\n, лететь, в,...</td>\n",
              "    </tr>\n",
              "    <tr>\n",
              "      <th>3</th>\n",
              "      <td>Служив отлично благоро...</td>\n",
              "      <td>[служив, отлично, благородно,  \\n, долгами, жи...</td>\n",
              "      <td>[служивый, отлично, благородно,  \\n, долг, жит...</td>\n",
              "    </tr>\n",
              "    <tr>\n",
              "      <th>4</th>\n",
              "      <td>Когда же юности мятежн...</td>\n",
              "      <td>[когда, же, юности, мятежной,  \\n, пришла, евг...</td>\n",
              "      <td>[когда, же, юность, мятежный,  \\n, прийти, евг...</td>\n",
              "    </tr>\n",
              "    <tr>\n",
              "      <th>...</th>\n",
              "      <td>...</td>\n",
              "      <td>...</td>\n",
              "      <td>...</td>\n",
              "    </tr>\n",
              "    <tr>\n",
              "      <th>371</th>\n",
              "      <td>А счастье было так воз...</td>\n",
              "      <td>[а, счастье, было, так, возможно,  \\n, так, бл...</td>\n",
              "      <td>[а, счастие, быть, так, возможно,  \\n, так, бл...</td>\n",
              "    </tr>\n",
              "    <tr>\n",
              "      <th>372</th>\n",
              "      <td>Она ушла. Стоит Евгени...</td>\n",
              "      <td>[она, ушла, стоит, евгений,  \\n, как, будто, г...</td>\n",
              "      <td>[она, уйти, стоить, евгений,  \\n, как, будто, ...</td>\n",
              "    </tr>\n",
              "    <tr>\n",
              "      <th>373</th>\n",
              "      <td>Кто б ни был ты, о мой...</td>\n",
              "      <td>[кто, б, ни, был, ты, о, мой, читатель,  \\n, д...</td>\n",
              "      <td>[кто, б, ни, быть, ты, о, мой, читатель,  \\n, ...</td>\n",
              "    </tr>\n",
              "    <tr>\n",
              "      <th>374</th>\n",
              "      <td>Прости ж и ты, мой спу...</td>\n",
              "      <td>[прости, ж, и, ты, мой, спутник, странный,  \\n...</td>\n",
              "      <td>[простить, ж, и, ты, мой, спутник, странный,  ...</td>\n",
              "    </tr>\n",
              "    <tr>\n",
              "      <th>375</th>\n",
              "      <td>Но те, которым в дружн...</td>\n",
              "      <td>[но, те, которым, в, дружной, встрече,  \\n, я,...</td>\n",
              "      <td>[но, тот, который, в, дружный, встреча,  \\n, я...</td>\n",
              "    </tr>\n",
              "  </tbody>\n",
              "</table>\n",
              "<p>376 rows × 3 columns</p>\n",
              "</div>"
            ],
            "text/plain": [
              "                                               Content  \\\n",
              "0                            Не мысля гордый свет з...   \n",
              "1                            \"Мой дядя самых честны...   \n",
              "2                            Так думал молодой пове...   \n",
              "3                            Служив отлично благоро...   \n",
              "4                            Когда же юности мятежн...   \n",
              "..                                                 ...   \n",
              "371                          А счастье было так воз...   \n",
              "372                          Она ушла. Стоит Евгени...   \n",
              "373                          Кто б ни был ты, о мой...   \n",
              "374                          Прости ж и ты, мой спу...   \n",
              "375                          Но те, которым в дружн...   \n",
              "\n",
              "                                       Content_splited  \\\n",
              "0    [не, мысля, гордый, свет, забавить,  \\n, внима...   \n",
              "1    [мой, дядя, самых, честных, правил,  \\n, когда...   \n",
              "2    [так, думал, молодой, повеса,  \\n, летя, в, пы...   \n",
              "3    [служив, отлично, благородно,  \\n, долгами, жи...   \n",
              "4    [когда, же, юности, мятежной,  \\n, пришла, евг...   \n",
              "..                                                 ...   \n",
              "371  [а, счастье, было, так, возможно,  \\n, так, бл...   \n",
              "372  [она, ушла, стоит, евгений,  \\n, как, будто, г...   \n",
              "373  [кто, б, ни, был, ты, о, мой, читатель,  \\n, д...   \n",
              "374  [прости, ж, и, ты, мой, спутник, странный,  \\n...   \n",
              "375  [но, те, которым, в, дружной, встрече,  \\n, я,...   \n",
              "\n",
              "                                 Content_splited_morph  \n",
              "0    [не, мыслить, гордый, свет, забавить,  \\n, вни...  \n",
              "1    [мой, дядя, самый, честной, правило,  \\n, когд...  \n",
              "2    [так, думать, молодой, повеса,  \\n, лететь, в,...  \n",
              "3    [служивый, отлично, благородно,  \\n, долг, жит...  \n",
              "4    [когда, же, юность, мятежный,  \\n, прийти, евг...  \n",
              "..                                                 ...  \n",
              "371  [а, счастие, быть, так, возможно,  \\n, так, бл...  \n",
              "372  [она, уйти, стоить, евгений,  \\n, как, будто, ...  \n",
              "373  [кто, б, ни, быть, ты, о, мой, читатель,  \\n, ...  \n",
              "374  [простить, ж, и, ты, мой, спутник, странный,  ...  \n",
              "375  [но, тот, который, в, дружный, встреча,  \\n, я...  \n",
              "\n",
              "[376 rows x 3 columns]"
            ]
          },
          "metadata": {
            "tags": []
          },
          "execution_count": 8
        }
      ]
    },
    {
      "cell_type": "code",
      "metadata": {
        "id": "e134e589"
      },
      "source": [
        "def get_w2i_i2w(column_data):\n",
        "    \n",
        "    dump = list(column_data.values)\n",
        "    dump_txt_split = []\n",
        "    for sublist in dump:\n",
        "        for item in sublist:\n",
        "            dump_txt_split.append(item)\n",
        "\n",
        "\n",
        "    vocab = sorted(set(dump_txt_split))\n",
        "\n",
        "    word2idx = {u:i for i, u in enumerate(vocab)}\n",
        "    idx2word = np.array(vocab)\n",
        "    \n",
        "    print(len(vocab), len(word2idx), len(idx2word))\n",
        "    return word2idx, idx2word\n",
        "    "
      ],
      "id": "e134e589",
      "execution_count": null,
      "outputs": []
    },
    {
      "cell_type": "markdown",
      "metadata": {
        "id": "7fb96b5f"
      },
      "source": [
        "Дальше можно работать с одним из двух вариантов.   \n",
        "Первый это с текстом __\"как есть\"__.    \n",
        "Второй с приведенным к __нормальной форме__.\n",
        "\n",
        "Для примера далее работаем с текстом __\"как есть\"__."
      ],
      "id": "7fb96b5f"
    },
    {
      "cell_type": "code",
      "metadata": {
        "id": "f26b3bb0",
        "outputId": "649df1ff-1ea6-4f74-b4f0-463d31ed0b3a"
      },
      "source": [
        "word2idx, idx2word = get_w2i_i2w(data['Content_splited'])        \n",
        "data['int_Content_splited'] = data['Content_splited'].apply(lambda x: [word2idx[c] for c in x])            "
      ],
      "id": "f26b3bb0",
      "execution_count": null,
      "outputs": [
        {
          "output_type": "stream",
          "text": [
            "8427 8427 8427\n"
          ],
          "name": "stdout"
        }
      ]
    },
    {
      "cell_type": "code",
      "metadata": {
        "id": "17d5f76f",
        "outputId": "cf6f571a-e104-426e-f4bc-280f82bc82d4"
      },
      "source": [
        "data"
      ],
      "id": "17d5f76f",
      "execution_count": null,
      "outputs": [
        {
          "output_type": "execute_result",
          "data": {
            "text/html": [
              "<div>\n",
              "<style scoped>\n",
              "    .dataframe tbody tr th:only-of-type {\n",
              "        vertical-align: middle;\n",
              "    }\n",
              "\n",
              "    .dataframe tbody tr th {\n",
              "        vertical-align: top;\n",
              "    }\n",
              "\n",
              "    .dataframe thead th {\n",
              "        text-align: right;\n",
              "    }\n",
              "</style>\n",
              "<table border=\"1\" class=\"dataframe\">\n",
              "  <thead>\n",
              "    <tr style=\"text-align: right;\">\n",
              "      <th></th>\n",
              "      <th>Content</th>\n",
              "      <th>Content_splited</th>\n",
              "      <th>Content_splited_morph</th>\n",
              "      <th>int_Content_splited</th>\n",
              "    </tr>\n",
              "  </thead>\n",
              "  <tbody>\n",
              "    <tr>\n",
              "      <th>0</th>\n",
              "      <td>Не мысля гордый свет з...</td>\n",
              "      <td>[не, мысля, гордый, свет, забавить,  \\n, внима...</td>\n",
              "      <td>[не, мыслить, гордый, свет, забавить,  \\n, вни...</td>\n",
              "      <td>[3817, 3634, 1358, 6327, 2071, 0, 878, 1844, 9...</td>\n",
              "    </tr>\n",
              "    <tr>\n",
              "      <th>1</th>\n",
              "      <td>\"Мой дядя самых честны...</td>\n",
              "      <td>[мой, дядя, самых, честных, правил,  \\n, когда...</td>\n",
              "      <td>[мой, дядя, самый, честной, правило,  \\n, когд...</td>\n",
              "      <td>[3487, 1912, 6292, 8129, 5394, 0, 2788, 3817, ...</td>\n",
              "    </tr>\n",
              "    <tr>\n",
              "      <th>2</th>\n",
              "      <td>Так думал молодой пове...</td>\n",
              "      <td>[так, думал, молодой, повеса,  \\n, летя, в, пы...</td>\n",
              "      <td>[так, думать, молодой, повеса,  \\n, лететь, в,...</td>\n",
              "      <td>[7249, 1867, 3505, 4930, 0, 3102, 565, 5872, 3...</td>\n",
              "    </tr>\n",
              "    <tr>\n",
              "      <th>3</th>\n",
              "      <td>Служив отлично благоро...</td>\n",
              "      <td>[служив, отлично, благородно,  \\n, долгами, жи...</td>\n",
              "      <td>[служивый, отлично, благородно,  \\n, долг, жит...</td>\n",
              "      <td>[6660, 4535, 325, 0, 1720, 2041, 1919, 4512, 0...</td>\n",
              "    </tr>\n",
              "    <tr>\n",
              "      <th>4</th>\n",
              "      <td>Когда же юности мятежн...</td>\n",
              "      <td>[когда, же, юности, мятежной,  \\n, пришла, евг...</td>\n",
              "      <td>[когда, же, юность, мятежный,  \\n, прийти, евг...</td>\n",
              "      <td>[2788, 1980, 8363, 3638, 0, 5651, 1915, 5222, ...</td>\n",
              "    </tr>\n",
              "    <tr>\n",
              "      <th>...</th>\n",
              "      <td>...</td>\n",
              "      <td>...</td>\n",
              "      <td>...</td>\n",
              "      <td>...</td>\n",
              "    </tr>\n",
              "    <tr>\n",
              "      <th>371</th>\n",
              "      <td>А счастье было так воз...</td>\n",
              "      <td>[а, счастье, было, так, возможно,  \\n, так, бл...</td>\n",
              "      <td>[а, счастие, быть, так, возможно,  \\n, так, бл...</td>\n",
              "      <td>[98, 7202, 550, 7249, 924, 0, 7249, 380, 4072,...</td>\n",
              "    </tr>\n",
              "    <tr>\n",
              "      <th>372</th>\n",
              "      <td>Она ушла. Стоит Евгени...</td>\n",
              "      <td>[она, ушла, стоит, евгений,  \\n, как, будто, г...</td>\n",
              "      <td>[она, уйти, стоить, евгений,  \\n, как, будто, ...</td>\n",
              "      <td>[4371, 7870, 7006, 1914, 0, 2637, 515, 1462, 5...</td>\n",
              "    </tr>\n",
              "    <tr>\n",
              "      <th>373</th>\n",
              "      <td>Кто б ни был ты, о мой...</td>\n",
              "      <td>[кто, б, ни, был, ты, о, мой, читатель,  \\n, д...</td>\n",
              "      <td>[кто, б, ни, быть, ты, о, мой, читатель,  \\n, ...</td>\n",
              "      <td>[2960, 160, 4037, 546, 7548, 4141, 3487, 8153,...</td>\n",
              "    </tr>\n",
              "    <tr>\n",
              "      <th>374</th>\n",
              "      <td>Прости ж и ты, мой спу...</td>\n",
              "      <td>[прости, ж, и, ты, мой, спутник, странный,  \\n...</td>\n",
              "      <td>[простить, ж, и, ты, мой, спутник, странный,  ...</td>\n",
              "      <td>[5751, 1951, 2446, 7548, 3487, 6916, 7049, 0, ...</td>\n",
              "    </tr>\n",
              "    <tr>\n",
              "      <th>375</th>\n",
              "      <td>Но те, которым в дружн...</td>\n",
              "      <td>[но, те, которым, в, дружной, встрече,  \\n, я,...</td>\n",
              "      <td>[но, тот, который, в, дружный, встреча,  \\n, я...</td>\n",
              "      <td>[4072, 7309, 2876, 565, 1849, 1132, 0, 8375, 7...</td>\n",
              "    </tr>\n",
              "  </tbody>\n",
              "</table>\n",
              "<p>376 rows × 4 columns</p>\n",
              "</div>"
            ],
            "text/plain": [
              "                                               Content  \\\n",
              "0                            Не мысля гордый свет з...   \n",
              "1                            \"Мой дядя самых честны...   \n",
              "2                            Так думал молодой пове...   \n",
              "3                            Служив отлично благоро...   \n",
              "4                            Когда же юности мятежн...   \n",
              "..                                                 ...   \n",
              "371                          А счастье было так воз...   \n",
              "372                          Она ушла. Стоит Евгени...   \n",
              "373                          Кто б ни был ты, о мой...   \n",
              "374                          Прости ж и ты, мой спу...   \n",
              "375                          Но те, которым в дружн...   \n",
              "\n",
              "                                       Content_splited  \\\n",
              "0    [не, мысля, гордый, свет, забавить,  \\n, внима...   \n",
              "1    [мой, дядя, самых, честных, правил,  \\n, когда...   \n",
              "2    [так, думал, молодой, повеса,  \\n, летя, в, пы...   \n",
              "3    [служив, отлично, благородно,  \\n, долгами, жи...   \n",
              "4    [когда, же, юности, мятежной,  \\n, пришла, евг...   \n",
              "..                                                 ...   \n",
              "371  [а, счастье, было, так, возможно,  \\n, так, бл...   \n",
              "372  [она, ушла, стоит, евгений,  \\n, как, будто, г...   \n",
              "373  [кто, б, ни, был, ты, о, мой, читатель,  \\n, д...   \n",
              "374  [прости, ж, и, ты, мой, спутник, странный,  \\n...   \n",
              "375  [но, те, которым, в, дружной, встрече,  \\n, я,...   \n",
              "\n",
              "                                 Content_splited_morph  \\\n",
              "0    [не, мыслить, гордый, свет, забавить,  \\n, вни...   \n",
              "1    [мой, дядя, самый, честной, правило,  \\n, когд...   \n",
              "2    [так, думать, молодой, повеса,  \\n, лететь, в,...   \n",
              "3    [служивый, отлично, благородно,  \\n, долг, жит...   \n",
              "4    [когда, же, юность, мятежный,  \\n, прийти, евг...   \n",
              "..                                                 ...   \n",
              "371  [а, счастие, быть, так, возможно,  \\n, так, бл...   \n",
              "372  [она, уйти, стоить, евгений,  \\n, как, будто, ...   \n",
              "373  [кто, б, ни, быть, ты, о, мой, читатель,  \\n, ...   \n",
              "374  [простить, ж, и, ты, мой, спутник, странный,  ...   \n",
              "375  [но, тот, который, в, дружный, встреча,  \\n, я...   \n",
              "\n",
              "                                   int_Content_splited  \n",
              "0    [3817, 3634, 1358, 6327, 2071, 0, 878, 1844, 9...  \n",
              "1    [3487, 1912, 6292, 8129, 5394, 0, 2788, 3817, ...  \n",
              "2    [7249, 1867, 3505, 4930, 0, 3102, 565, 5872, 3...  \n",
              "3    [6660, 4535, 325, 0, 1720, 2041, 1919, 4512, 0...  \n",
              "4    [2788, 1980, 8363, 3638, 0, 5651, 1915, 5222, ...  \n",
              "..                                                 ...  \n",
              "371  [98, 7202, 550, 7249, 924, 0, 7249, 380, 4072,...  \n",
              "372  [4371, 7870, 7006, 1914, 0, 2637, 515, 1462, 5...  \n",
              "373  [2960, 160, 4037, 546, 7548, 4141, 3487, 8153,...  \n",
              "374  [5751, 1951, 2446, 7548, 3487, 6916, 7049, 0, ...  \n",
              "375  [4072, 7309, 2876, 565, 1849, 1132, 0, 8375, 7...  \n",
              "\n",
              "[376 rows x 4 columns]"
            ]
          },
          "metadata": {
            "tags": []
          },
          "execution_count": 11
        }
      ]
    },
    {
      "cell_type": "code",
      "metadata": {
        "id": "7d23913d"
      },
      "source": [
        "def get_all_int(column_data):\n",
        "    \n",
        "    int_dump = column_data.values\n",
        "    all_txt_as_int = []\n",
        "\n",
        "    for sublist in int_dump:\n",
        "        for item in sublist:\n",
        "            all_txt_as_int.append(item)\n",
        "    all_txt_as_int = np.array(all_txt_as_int)    \n",
        "    \n",
        "    return all_txt_as_int\n",
        "\n",
        "all_txt_as_int = get_all_int(data['int_Content_splited'])"
      ],
      "id": "7d23913d",
      "execution_count": null,
      "outputs": []
    },
    {
      "cell_type": "code",
      "metadata": {
        "id": "71f861a8",
        "outputId": "174bae7c-9da5-4f81-aa99-59ec6e61e83c"
      },
      "source": [
        "seq_length = 45\n",
        "examples_per_epoch = len(all_txt_as_int)//(seq_length+1)\n",
        "\n",
        "word_dataset = tf.data.Dataset.from_tensor_slices(all_txt_as_int)\n",
        "\n",
        "\n",
        "\n",
        "for i in word_dataset.take(15):\n",
        "    print(idx2word[i.numpy()])"
      ],
      "id": "71f861a8",
      "execution_count": null,
      "outputs": [
        {
          "output_type": "stream",
          "text": [
            "не\n",
            "мысля\n",
            "гордый\n",
            "свет\n",
            "забавить\n",
            " \n",
            "\n",
            "вниманье\n",
            "дружбы\n",
            "возлюбя\n",
            " \n",
            "\n",
            "хотел\n",
            "бы\n",
            "я\n",
            "тебе\n",
            "представить\n"
          ],
          "name": "stdout"
        }
      ]
    },
    {
      "cell_type": "code",
      "metadata": {
        "id": "517d33cb"
      },
      "source": [
        "sequences = word_dataset.batch(seq_length+1, drop_remainder=True)"
      ],
      "id": "517d33cb",
      "execution_count": null,
      "outputs": []
    },
    {
      "cell_type": "code",
      "metadata": {
        "id": "f548bd72"
      },
      "source": [
        "def split_input_target(chunk):\n",
        "    input_text = chunk[:-1]\n",
        "    target_text = chunk[1:]\n",
        "    return input_text, target_text\n",
        "\n",
        "dataset = sequences.map(split_input_target)"
      ],
      "id": "f548bd72",
      "execution_count": null,
      "outputs": []
    },
    {
      "cell_type": "code",
      "metadata": {
        "id": "580c978b",
        "outputId": "e0c3b734-522b-4253-b6e6-0b43260d1c69"
      },
      "source": [
        "for input_example, target_example in  dataset.take(1):\n",
        "    print('Input data: ', repr(' '.join(idx2word[input_example.numpy()])))\n",
        "    print('Target data:', repr(' '.join(idx2word[target_example.numpy()])))"
      ],
      "id": "580c978b",
      "execution_count": null,
      "outputs": [
        {
          "output_type": "stream",
          "text": [
            "Input data:  'не мысля гордый свет забавить  \\n вниманье дружбы возлюбя  \\n хотел бы я тебе представить  \\n залог достойнее тебя  \\n достойнее души прекрасной  \\n святой исполненной мечты  \\n поэзии живой и ясной  \\n высоких дум и простоты  \\n но так и быть рукой пристрастной  \\n'\n",
            "Target data: 'мысля гордый свет забавить  \\n вниманье дружбы возлюбя  \\n хотел бы я тебе представить  \\n залог достойнее тебя  \\n достойнее души прекрасной  \\n святой исполненной мечты  \\n поэзии живой и ясной  \\n высоких дум и простоты  \\n но так и быть рукой пристрастной  \\n прими'\n"
          ],
          "name": "stdout"
        }
      ]
    },
    {
      "cell_type": "code",
      "metadata": {
        "id": "c588448a",
        "outputId": "a0b46e6f-4e3f-4d11-c456-154159e0c1f7"
      },
      "source": [
        "BATCH_SIZE = 64\n",
        "\n",
        "BUFFER_SIZE = 10000\n",
        "\n",
        "dataset = dataset.shuffle(BUFFER_SIZE).batch(BATCH_SIZE, drop_remainder=True)\n",
        "\n",
        "dataset"
      ],
      "id": "c588448a",
      "execution_count": null,
      "outputs": [
        {
          "output_type": "execute_result",
          "data": {
            "text/plain": [
              "<BatchDataset shapes: ((64, 45), (64, 45)), types: (tf.int64, tf.int64)>"
            ]
          },
          "metadata": {
            "tags": []
          },
          "execution_count": 17
        }
      ]
    },
    {
      "cell_type": "code",
      "metadata": {
        "id": "fe1f14b6"
      },
      "source": [
        "vocab_size = len(idx2word)\n",
        "\n",
        "embedding_dim = 256\n",
        "\n",
        "rnn_units = 1024"
      ],
      "id": "fe1f14b6",
      "execution_count": null,
      "outputs": []
    },
    {
      "cell_type": "code",
      "metadata": {
        "id": "8ecbed70"
      },
      "source": [
        "def build_model(vocab_size, embedding_dim, rnn_units, batch_size):\n",
        "  \n",
        "    \n",
        "    inputs = tf.keras.layers.Input(batch_input_shape=[batch_size, None])\n",
        "\n",
        "    x =     tf.keras.layers.Embedding(vocab_size, embedding_dim)(inputs)\n",
        "    print(x.shape)\n",
        "    x1 = tf.keras.layers.GRU(rnn_units,\n",
        "                            return_sequences=True,\n",
        "                            stateful=True,\n",
        "                            recurrent_initializer='glorot_uniform')(x)\n",
        "    x = tf.keras.layers.concatenate([x,x1], axis=-1)\n",
        "    \n",
        "    print(x.shape)\n",
        "    x2 = tf.keras.layers.GRU(rnn_units+embedding_dim,\n",
        "                            return_sequences=True,\n",
        "                            stateful=True,\n",
        "                            recurrent_initializer='glorot_uniform')(x)\n",
        "    x = tf.keras.layers.add([x,x2])\n",
        "    \n",
        "    print(x.shape)\n",
        "    x3 = tf.keras.layers.GRU(rnn_units+embedding_dim,\n",
        "                            return_sequences=True,\n",
        "                            stateful=True,\n",
        "                            recurrent_initializer='glorot_uniform')(x)   \n",
        "    \n",
        "    x = tf.keras.layers.add([x,x3])   \n",
        "    x = tf.keras.layers.Dense(vocab_size)(x)\n",
        "    print(x.shape)\n",
        "\n",
        "    model =tf.keras. Model(inputs=inputs, outputs=x)\n",
        "    \n",
        "        \n",
        "    return model"
      ],
      "id": "8ecbed70",
      "execution_count": null,
      "outputs": []
    },
    {
      "cell_type": "code",
      "metadata": {
        "id": "be72bae4",
        "outputId": "a9e11e83-2985-40ed-9b13-5bf2108c2a19"
      },
      "source": [
        "model = build_model(\n",
        "    vocab_size=vocab_size,\n",
        "    embedding_dim=embedding_dim,\n",
        "    rnn_units=rnn_units,\n",
        "    batch_size=BATCH_SIZE)"
      ],
      "id": "be72bae4",
      "execution_count": null,
      "outputs": [
        {
          "output_type": "stream",
          "text": [
            "(64, None, 256)\n",
            "(64, None, 1280)\n",
            "(64, None, 1280)\n",
            "(64, None, 8427)\n"
          ],
          "name": "stdout"
        }
      ]
    },
    {
      "cell_type": "code",
      "metadata": {
        "id": "7aba0de4",
        "outputId": "c507eab2-03bf-4bc3-c22f-ab09cadb653c"
      },
      "source": [
        "for input_example_batch, target_example_batch in dataset.take(1):\n",
        "    example_batch_predictions = model(input_example_batch)\n",
        "    print(example_batch_predictions.shape, \"# (batch_size, sequence_length, vocab_size)\")"
      ],
      "id": "7aba0de4",
      "execution_count": null,
      "outputs": [
        {
          "output_type": "stream",
          "text": [
            "(64, 45, 8427) # (batch_size, sequence_length, vocab_size)\n"
          ],
          "name": "stdout"
        }
      ]
    },
    {
      "cell_type": "code",
      "metadata": {
        "id": "79290e37",
        "outputId": "9c7dfc2a-ba30-4ccc-cccc-8f6a90cc2d99"
      },
      "source": [
        "model.summary()"
      ],
      "id": "79290e37",
      "execution_count": null,
      "outputs": [
        {
          "output_type": "stream",
          "text": [
            "Model: \"model\"\n",
            "__________________________________________________________________________________________________\n",
            "Layer (type)                    Output Shape         Param #     Connected to                     \n",
            "==================================================================================================\n",
            "input_1 (InputLayer)            [(64, None)]         0                                            \n",
            "__________________________________________________________________________________________________\n",
            "embedding (Embedding)           (64, None, 256)      2157312     input_1[0][0]                    \n",
            "__________________________________________________________________________________________________\n",
            "gru (GRU)                       (64, None, 1024)     3938304     embedding[0][0]                  \n",
            "__________________________________________________________________________________________________\n",
            "concatenate (Concatenate)       (64, None, 1280)     0           embedding[0][0]                  \n",
            "                                                                 gru[0][0]                        \n",
            "__________________________________________________________________________________________________\n",
            "gru_1 (GRU)                     (64, None, 1280)     9838080     concatenate[0][0]                \n",
            "__________________________________________________________________________________________________\n",
            "add (Add)                       (64, None, 1280)     0           concatenate[0][0]                \n",
            "                                                                 gru_1[0][0]                      \n",
            "__________________________________________________________________________________________________\n",
            "gru_2 (GRU)                     (64, None, 1280)     9838080     add[0][0]                        \n",
            "__________________________________________________________________________________________________\n",
            "add_1 (Add)                     (64, None, 1280)     0           add[0][0]                        \n",
            "                                                                 gru_2[0][0]                      \n",
            "__________________________________________________________________________________________________\n",
            "dense (Dense)                   (64, None, 8427)     10794987    add_1[0][0]                      \n",
            "==================================================================================================\n",
            "Total params: 36,566,763\n",
            "Trainable params: 36,566,763\n",
            "Non-trainable params: 0\n",
            "__________________________________________________________________________________________________\n"
          ],
          "name": "stdout"
        }
      ]
    },
    {
      "cell_type": "code",
      "metadata": {
        "id": "95992a2c",
        "outputId": "9710c7b9-97e0-4010-c0a6-6e7e29b1cc63"
      },
      "source": [
        "def loss(labels, logits):\n",
        "    return tf.keras.losses.sparse_categorical_crossentropy(labels, logits, from_logits=True)\n",
        "\n",
        "example_batch_loss = loss(target_example_batch, example_batch_predictions)\n",
        "print(\"Prediction shape: \", example_batch_predictions.shape, \" # (batch_size, sequence_length, vocab_size)\")\n",
        "print(\"scalar_loss:      \", example_batch_loss.numpy().mean())"
      ],
      "id": "95992a2c",
      "execution_count": null,
      "outputs": [
        {
          "output_type": "stream",
          "text": [
            "Prediction shape:  (64, 45, 8427)  # (batch_size, sequence_length, vocab_size)\n",
            "scalar_loss:       9.039167\n"
          ],
          "name": "stdout"
        }
      ]
    },
    {
      "cell_type": "code",
      "metadata": {
        "id": "3d49d2e1"
      },
      "source": [
        "model.compile(optimizer='adam', loss=loss)"
      ],
      "id": "3d49d2e1",
      "execution_count": null,
      "outputs": []
    },
    {
      "cell_type": "code",
      "metadata": {
        "id": "f8d8f73e",
        "outputId": "3018755c-2e8e-47e5-ad19-ddd502aed32e"
      },
      "source": [
        "checkpoint_dir = './training_checkpoints'\n",
        "\n",
        "checkpoint_prefix = os.path.join(checkpoint_dir, \"ckpt_{epoch}\")\n",
        "\n",
        "checkpoint_callback = tf.keras.callbacks.ModelCheckpoint(\n",
        "    filepath=checkpoint_prefix,\n",
        "    period=20,\n",
        "    save_weights_only=True)"
      ],
      "id": "f8d8f73e",
      "execution_count": null,
      "outputs": [
        {
          "output_type": "stream",
          "text": [
            "WARNING:tensorflow:`period` argument is deprecated. Please use `save_freq` to specify the frequency in number of batches seen.\n"
          ],
          "name": "stdout"
        }
      ]
    },
    {
      "cell_type": "code",
      "metadata": {
        "id": "f51192ff"
      },
      "source": [
        "EPOCHS = 150"
      ],
      "id": "f51192ff",
      "execution_count": null,
      "outputs": []
    },
    {
      "cell_type": "code",
      "metadata": {
        "scrolled": true,
        "id": "13d38fee",
        "outputId": "b001c35f-d368-4bcc-c58e-ae8ae7d1e71f"
      },
      "source": [
        "for i in range(EPOCHS):\n",
        "    model.fit(dataset, epochs=1, callbacks=[checkpoint_callback])\n",
        "    model.reset_states()"
      ],
      "id": "13d38fee",
      "execution_count": null,
      "outputs": [
        {
          "output_type": "stream",
          "text": [
            "9/9 [==============================] - 6s 406ms/step - loss: 8.5253\n",
            "9/9 [==============================] - 4s 402ms/step - loss: 7.3326\n",
            "9/9 [==============================] - 4s 409ms/step - loss: 7.0259\n",
            "9/9 [==============================] - 4s 402ms/step - loss: 6.8965\n",
            "9/9 [==============================] - 4s 402ms/step - loss: 6.7454\n",
            "9/9 [==============================] - 4s 404ms/step - loss: 6.5348\n",
            "9/9 [==============================] - 4s 403ms/step - loss: 6.3455\n",
            "9/9 [==============================] - 4s 407ms/step - loss: 6.1736\n",
            "9/9 [==============================] - 4s 407ms/step - loss: 6.0000\n",
            "9/9 [==============================] - 4s 406ms/step - loss: 5.8193\n",
            "9/9 [==============================] - 4s 407ms/step - loss: 5.5654\n",
            "9/9 [==============================] - 4s 407ms/step - loss: 5.2777\n",
            "9/9 [==============================] - 4s 407ms/step - loss: 4.9426\n",
            "9/9 [==============================] - 4s 406ms/step - loss: 4.6002\n",
            "9/9 [==============================] - 4s 407ms/step - loss: 4.2504\n",
            "9/9 [==============================] - 4s 408ms/step - loss: 3.8563\n",
            "9/9 [==============================] - 4s 407ms/step - loss: 3.5005\n",
            "9/9 [==============================] - 4s 407ms/step - loss: 3.1582\n",
            "9/9 [==============================] - 4s 408ms/step - loss: 2.8041\n",
            "9/9 [==============================] - 4s 406ms/step - loss: 2.4806\n",
            "9/9 [==============================] - 4s 408ms/step - loss: 2.1810\n",
            "9/9 [==============================] - 4s 407ms/step - loss: 1.9144\n",
            "9/9 [==============================] - 4s 423ms/step - loss: 1.6956\n",
            "9/9 [==============================] - 4s 421ms/step - loss: 1.5175\n",
            "9/9 [==============================] - 4s 426ms/step - loss: 1.3388\n",
            "9/9 [==============================] - 4s 421ms/step - loss: 1.1776\n",
            "9/9 [==============================] - 4s 421ms/step - loss: 1.0441\n",
            "9/9 [==============================] - 4s 420ms/step - loss: 0.9180\n",
            "9/9 [==============================] - 4s 412ms/step - loss: 0.8238\n",
            "9/9 [==============================] - 4s 410ms/step - loss: 0.7311\n",
            "9/9 [==============================] - 4s 408ms/step - loss: 0.6545\n",
            "9/9 [==============================] - 4s 411ms/step - loss: 0.5917\n",
            "9/9 [==============================] - 4s 409ms/step - loss: 0.5358\n",
            "9/9 [==============================] - 4s 413ms/step - loss: 0.4820\n",
            "9/9 [==============================] - 4s 411ms/step - loss: 0.4586\n",
            "9/9 [==============================] - 4s 407ms/step - loss: 0.4206\n",
            "9/9 [==============================] - 4s 411ms/step - loss: 0.3912\n",
            "9/9 [==============================] - 4s 417ms/step - loss: 0.3628\n",
            "9/9 [==============================] - 4s 409ms/step - loss: 0.3470\n",
            "9/9 [==============================] - 4s 409ms/step - loss: 0.3306\n",
            "9/9 [==============================] - 4s 406ms/step - loss: 0.3184\n",
            "9/9 [==============================] - 4s 410ms/step - loss: 0.3029\n",
            "9/9 [==============================] - 4s 404ms/step - loss: 0.2850\n",
            "9/9 [==============================] - 4s 410ms/step - loss: 0.2782\n",
            "9/9 [==============================] - 4s 408ms/step - loss: 0.2585\n",
            "9/9 [==============================] - 4s 407ms/step - loss: 0.2507\n",
            "9/9 [==============================] - 4s 407ms/step - loss: 0.2512\n",
            "9/9 [==============================] - 4s 406ms/step - loss: 0.2476\n",
            "9/9 [==============================] - 4s 406ms/step - loss: 0.2357\n",
            "9/9 [==============================] - 4s 407ms/step - loss: 0.2270\n",
            "9/9 [==============================] - 4s 405ms/step - loss: 0.2201\n",
            "9/9 [==============================] - 4s 407ms/step - loss: 0.2128\n",
            "9/9 [==============================] - 4s 408ms/step - loss: 0.2073\n",
            "9/9 [==============================] - 4s 408ms/step - loss: 0.2001\n",
            "9/9 [==============================] - 4s 407ms/step - loss: 0.1924\n",
            "9/9 [==============================] - 4s 407ms/step - loss: 0.1869\n",
            "9/9 [==============================] - 4s 409ms/step - loss: 0.1892\n",
            "9/9 [==============================] - 4s 408ms/step - loss: 0.1824\n",
            "9/9 [==============================] - 4s 407ms/step - loss: 0.1754\n",
            "9/9 [==============================] - 4s 407ms/step - loss: 0.1696\n",
            "9/9 [==============================] - 4s 407ms/step - loss: 0.1667\n",
            "9/9 [==============================] - 4s 408ms/step - loss: 0.1625\n",
            "9/9 [==============================] - 4s 407ms/step - loss: 0.1532\n",
            "9/9 [==============================] - 4s 407ms/step - loss: 0.1504\n",
            "9/9 [==============================] - 4s 407ms/step - loss: 0.1505\n",
            "9/9 [==============================] - 4s 410ms/step - loss: 0.1453\n",
            "9/9 [==============================] - 4s 409ms/step - loss: 0.1404\n",
            "9/9 [==============================] - 4s 407ms/step - loss: 0.1390\n",
            "9/9 [==============================] - 4s 409ms/step - loss: 0.1358\n",
            "9/9 [==============================] - 4s 407ms/step - loss: 0.1332\n",
            "9/9 [==============================] - 4s 406ms/step - loss: 0.1314\n",
            "9/9 [==============================] - 4s 407ms/step - loss: 0.1288\n",
            "9/9 [==============================] - 4s 408ms/step - loss: 0.1244\n",
            "9/9 [==============================] - 4s 409ms/step - loss: 0.1214\n",
            "9/9 [==============================] - 4s 409ms/step - loss: 0.1163\n",
            "9/9 [==============================] - 4s 407ms/step - loss: 0.1263\n",
            "9/9 [==============================] - 4s 407ms/step - loss: 0.1185\n",
            "9/9 [==============================] - 4s 408ms/step - loss: 0.1142\n",
            "9/9 [==============================] - 4s 407ms/step - loss: 0.1097\n",
            "9/9 [==============================] - 4s 408ms/step - loss: 0.1090\n",
            "9/9 [==============================] - 4s 408ms/step - loss: 0.1035\n",
            "9/9 [==============================] - 4s 408ms/step - loss: 0.1029\n",
            "9/9 [==============================] - 4s 407ms/step - loss: 0.0982\n",
            "9/9 [==============================] - 4s 406ms/step - loss: 0.1001\n",
            "9/9 [==============================] - 4s 406ms/step - loss: 0.0996\n",
            "9/9 [==============================] - 4s 407ms/step - loss: 0.0934\n",
            "9/9 [==============================] - 4s 407ms/step - loss: 0.0939\n",
            "9/9 [==============================] - 4s 408ms/step - loss: 0.0921\n",
            "9/9 [==============================] - 4s 410ms/step - loss: 0.0900\n",
            "9/9 [==============================] - 4s 410ms/step - loss: 0.0911\n",
            "9/9 [==============================] - 4s 409ms/step - loss: 0.0875\n",
            "9/9 [==============================] - 4s 407ms/step - loss: 0.0870\n",
            "9/9 [==============================] - 4s 407ms/step - loss: 0.0856\n",
            "9/9 [==============================] - 4s 409ms/step - loss: 0.0821\n",
            "9/9 [==============================] - 4s 406ms/step - loss: 0.0822\n",
            "9/9 [==============================] - 4s 408ms/step - loss: 0.0822\n",
            "9/9 [==============================] - 4s 409ms/step - loss: 0.0807\n",
            "9/9 [==============================] - 4s 410ms/step - loss: 0.0791\n",
            "9/9 [==============================] - 4s 410ms/step - loss: 0.0797\n",
            "9/9 [==============================] - 4s 407ms/step - loss: 0.0772\n",
            "9/9 [==============================] - 4s 410ms/step - loss: 0.0767\n",
            "9/9 [==============================] - 4s 408ms/step - loss: 0.0749\n",
            "9/9 [==============================] - 4s 407ms/step - loss: 0.0739\n",
            "9/9 [==============================] - 4s 406ms/step - loss: 0.0742\n",
            "9/9 [==============================] - 4s 409ms/step - loss: 0.0754\n",
            "9/9 [==============================] - 4s 407ms/step - loss: 0.0697\n",
            "9/9 [==============================] - 4s 407ms/step - loss: 0.0732\n",
            "9/9 [==============================] - 4s 408ms/step - loss: 0.0724\n",
            "9/9 [==============================] - 4s 406ms/step - loss: 0.0689\n",
            "9/9 [==============================] - 4s 410ms/step - loss: 0.0662\n",
            "9/9 [==============================] - 4s 408ms/step - loss: 0.0649\n",
            "9/9 [==============================] - 4s 408ms/step - loss: 0.0674\n",
            "9/9 [==============================] - 4s 413ms/step - loss: 0.0686\n",
            "9/9 [==============================] - 4s 422ms/step - loss: 0.0656\n",
            "9/9 [==============================] - 4s 419ms/step - loss: 0.0667\n",
            "9/9 [==============================] - 4s 406ms/step - loss: 0.0670\n",
            "9/9 [==============================] - 4s 436ms/step - loss: 0.0658\n",
            "9/9 [==============================] - 4s 429ms/step - loss: 0.0646\n",
            "9/9 [==============================] - 4s 409ms/step - loss: 0.0625\n",
            "9/9 [==============================] - 4s 409ms/step - loss: 0.0643\n"
          ],
          "name": "stdout"
        },
        {
          "output_type": "stream",
          "text": [
            "9/9 [==============================] - 4s 407ms/step - loss: 0.0630\n",
            "9/9 [==============================] - 4s 408ms/step - loss: 0.0625\n",
            "9/9 [==============================] - 4s 408ms/step - loss: 0.0612\n",
            "9/9 [==============================] - 4s 411ms/step - loss: 0.0598\n",
            "9/9 [==============================] - 4s 408ms/step - loss: 0.0616\n",
            "9/9 [==============================] - 4s 407ms/step - loss: 0.0675\n",
            "9/9 [==============================] - 4s 408ms/step - loss: 0.0609\n",
            "9/9 [==============================] - 4s 408ms/step - loss: 0.0597\n",
            "9/9 [==============================] - 4s 408ms/step - loss: 0.0581\n",
            "9/9 [==============================] - 4s 413ms/step - loss: 0.0566\n",
            "9/9 [==============================] - 4s 408ms/step - loss: 0.0580\n",
            "9/9 [==============================] - 4s 409ms/step - loss: 0.0587\n",
            "9/9 [==============================] - 4s 408ms/step - loss: 0.0582\n",
            "9/9 [==============================] - 4s 409ms/step - loss: 0.0563\n",
            "9/9 [==============================] - 4s 408ms/step - loss: 0.0546\n",
            "9/9 [==============================] - 4s 409ms/step - loss: 0.0557\n",
            "9/9 [==============================] - 4s 407ms/step - loss: 0.0591\n",
            "9/9 [==============================] - 4s 410ms/step - loss: 0.0589\n",
            "9/9 [==============================] - 4s 410ms/step - loss: 0.0563\n",
            "9/9 [==============================] - 4s 407ms/step - loss: 0.0563\n",
            "9/9 [==============================] - 4s 408ms/step - loss: 0.0568\n",
            "9/9 [==============================] - 4s 407ms/step - loss: 0.0543\n",
            "9/9 [==============================] - 4s 410ms/step - loss: 0.0563\n",
            "9/9 [==============================] - 4s 406ms/step - loss: 0.0529\n",
            "9/9 [==============================] - 4s 407ms/step - loss: 0.0553\n",
            "9/9 [==============================] - 4s 407ms/step - loss: 0.0549\n",
            "9/9 [==============================] - 4s 409ms/step - loss: 0.0535\n",
            "9/9 [==============================] - 4s 409ms/step - loss: 0.0541\n",
            "9/9 [==============================] - 4s 409ms/step - loss: 0.0536\n",
            "9/9 [==============================] - 4s 408ms/step - loss: 0.0534\n"
          ],
          "name": "stdout"
        }
      ]
    },
    {
      "cell_type": "code",
      "metadata": {
        "id": "2b24105c",
        "outputId": "3720608a-3146-4013-ae4c-269417fb98ff"
      },
      "source": [
        "tf.train.latest_checkpoint(checkpoint_dir)"
      ],
      "id": "2b24105c",
      "execution_count": null,
      "outputs": [
        {
          "output_type": "execute_result",
          "data": {
            "text/plain": [
              "'./training_checkpoints/ckpt_1'"
            ]
          },
          "metadata": {
            "tags": []
          },
          "execution_count": 28
        }
      ]
    },
    {
      "cell_type": "code",
      "metadata": {
        "id": "f02218cd",
        "outputId": "6bcc8557-9a09-4ed9-e0e4-60b362105585"
      },
      "source": [
        "model = build_model(vocab_size, embedding_dim, rnn_units, batch_size=1)\n",
        "\n",
        "model.load_weights(tf.train.latest_checkpoint(checkpoint_dir))\n",
        "\n",
        "model.build(tf.TensorShape([1, None]))"
      ],
      "id": "f02218cd",
      "execution_count": null,
      "outputs": [
        {
          "output_type": "stream",
          "text": [
            "(1, None, 256)\n",
            "(1, None, 1280)\n",
            "(1, None, 1280)\n",
            "(1, None, 8427)\n"
          ],
          "name": "stdout"
        }
      ]
    },
    {
      "cell_type": "code",
      "metadata": {
        "id": "99e7387d"
      },
      "source": [
        "def generate_text(model, start_string):\n",
        "    \n",
        "    start_string = exclude_punctuation(start_string)\n",
        "    start_string_asis = preprocess_text(start_string, morph = False)\n",
        "\n",
        "    num_generate = 30\n",
        "\n",
        "    input_eval = [word2idx[s] for s in start_string_asis]\n",
        "    input_eval = tf.expand_dims(input_eval, 0)\n",
        "\n",
        "    text_generated = []\n",
        "\n",
        "    temperature = 1.3\n",
        "\n",
        "    model.reset_states()\n",
        "    for i in range(num_generate):\n",
        "        predictions = model(input_eval)\n",
        "        predictions = tf.squeeze(predictions, 0)\n",
        "\n",
        "        predictions = predictions / temperature\n",
        "        predicted_id = tf.random.categorical(predictions, num_samples=1)[-1, 0].numpy()\n",
        "\n",
        "        input_eval = tf.expand_dims([predicted_id], 0)\n",
        "\n",
        "        text_generated.append(idx2word[predicted_id])\n",
        "\n",
        "    return (start_string + ' '.join(text_generated))"
      ],
      "id": "99e7387d",
      "execution_count": null,
      "outputs": []
    },
    {
      "cell_type": "code",
      "metadata": {
        "id": "f405ca3e",
        "outputId": "6ab5cae4-77c5-45a9-e820-c7642dd6cb08"
      },
      "source": [
        "print(generate_text(model, start_string=u\"дядя \"))"
      ],
      "id": "f405ca3e",
      "execution_count": null,
      "outputs": [
        {
          "output_type": "stream",
          "text": [
            "дядя скоро все перевелось  \n",
            " корсет альбом княжну алину  \n",
            " стишков чувствительных тетрадь  \n",
            " она забыла стала звать  \n",
            " акулькой прежнюю селину  \n",
            " и обновила наконец  \n",
            " на вате шлафор и\n"
          ],
          "name": "stdout"
        }
      ]
    },
    {
      "cell_type": "code",
      "metadata": {
        "id": "92d64b1d",
        "outputId": "07539b6d-96ad-4c84-d360-33d400c26000"
      },
      "source": [
        "start_string = \"Мой дядя  \"\n",
        "print(generate_text(model, start_string=start_string))"
      ],
      "id": "92d64b1d",
      "execution_count": null,
      "outputs": [
        {
          "output_type": "stream",
          "text": [
            "Мой дядя  утра навсегда читать б еще ты был проказник  \n",
            " и тот же шпиц и тот же муж  \n",
            " а он все клуба член исправный  \n",
            " все так же смирен так\n"
          ],
          "name": "stdout"
        }
      ]
    },
    {
      "cell_type": "code",
      "metadata": {
        "id": "fa9db626"
      },
      "source": [
        ""
      ],
      "id": "fa9db626",
      "execution_count": null,
      "outputs": []
    }
  ]
}