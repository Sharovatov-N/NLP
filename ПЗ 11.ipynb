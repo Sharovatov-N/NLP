{
  "nbformat": 4,
  "nbformat_minor": 0,
  "metadata": {
    "accelerator": "GPU",
    "colab": {
      "name": "ПЗ 11.ipynb",
      "provenance": [],
      "collapsed_sections": [],
      "toc_visible": true
    },
    "kernelspec": {
      "display_name": "Python 3",
      "language": "python",
      "name": "python3"
    },
    "language_info": {
      "codemirror_mode": {
        "name": "ipython",
        "version": 3
      },
      "file_extension": ".py",
      "mimetype": "text/x-python",
      "name": "python",
      "nbconvert_exporter": "python",
      "pygments_lexer": "ipython3",
      "version": "3.8.6"
    }
  },
  "cells": [
    {
      "cell_type": "markdown",
      "metadata": {
        "id": "J0Qjg6vuaHNt"
      },
      "source": [
        "# Neural machine translation"
      ]
    },
    {
      "cell_type": "code",
      "metadata": {
        "id": "tnxXKDjq3jEL"
      },
      "source": [
        "import tensorflow as tf\n",
        "\n",
        "import matplotlib.pyplot as plt\n",
        "import matplotlib.ticker as ticker\n",
        "from sklearn.model_selection import train_test_split\n",
        "\n",
        "import unicodedata\n",
        "import re\n",
        "import numpy as np\n",
        "import os\n",
        "import io\n",
        "import time"
      ],
      "execution_count": null,
      "outputs": []
    },
    {
      "cell_type": "markdown",
      "metadata": {
        "id": "wfodePkj3jEa"
      },
      "source": [
        "## Download and prepare the dataset\n",
        "\n",
        "We'll use a language dataset provided by http://www.manythings.org/anki/"
      ]
    },
    {
      "cell_type": "code",
      "metadata": {
        "id": "CNvjhDyAKk3U"
      },
      "source": [
        "#!wget http://www.manythings.org/anki/rus-eng.zip"
      ],
      "execution_count": null,
      "outputs": []
    },
    {
      "cell_type": "code",
      "metadata": {
        "id": "83bg17Lr-7XK"
      },
      "source": [
        "#!mkdir rus-eng\n",
        "#!unzip rus-eng.zip -d rus-eng/"
      ],
      "execution_count": null,
      "outputs": []
    },
    {
      "cell_type": "code",
      "metadata": {
        "id": "7o5L92efMMhf"
      },
      "source": [
        "#!ls /content/rus-eng/ -lah"
      ],
      "execution_count": null,
      "outputs": []
    },
    {
      "cell_type": "code",
      "metadata": {
        "id": "kRVATYOgJs1b"
      },
      "source": [
        "# Download the file\n",
        "path_to_file = \"./content/rus-eng/rus.txt\""
      ],
      "execution_count": null,
      "outputs": []
    },
    {
      "cell_type": "code",
      "metadata": {
        "id": "rd0jw-eC3jEh"
      },
      "source": [
        "def preprocess_sentence(w):\n",
        "    w = w.lower().strip()\n",
        "\n",
        "    # creating a space between a word and the punctuation following it\n",
        "    # eg: \"he is a boy.\" => \"he is a boy .\"\n",
        "    # Reference:- https://stackoverflow.com/questions/3645931/python-padding-punctuation-with-white-spaces-keeping-punctuation\n",
        "    w = re.sub(r\"([?.!,])\", r\" \\1 \", w)\n",
        "    w = re.sub(r'[\" \"]+', \" \", w)\n",
        "\n",
        "    # replacing everything with space except (a-z, A-Z, \".\", \"?\", \"!\", \",\")\n",
        "    w = re.sub(r\"[^a-zA-Zа-яА-Я?.!,']+\", \" \", w)\n",
        "\n",
        "    w = w.strip()\n",
        "\n",
        "    # adding a start and an end token to the sentence\n",
        "    # so that the model know when to start and stop predicting.\n",
        "    w = '<start> ' + w + ' <end>'\n",
        "    return w"
      ],
      "execution_count": null,
      "outputs": []
    },
    {
      "cell_type": "code",
      "metadata": {
        "colab": {
          "base_uri": "https://localhost:8080/",
          "height": 35
        },
        "id": "yV9lZXQXNbnH",
        "outputId": "91c2ca2a-4e3a-4cb2-a4b6-57898c682af6"
      },
      "source": [
        "preprocess_sentence(\"I can't go.\")"
      ],
      "execution_count": null,
      "outputs": [
        {
          "output_type": "execute_result",
          "data": {
            "text/plain": [
              "\"<start> i can't go . <end>\""
            ]
          },
          "metadata": {
            "tags": []
          },
          "execution_count": 7
        }
      ]
    },
    {
      "cell_type": "code",
      "metadata": {
        "id": "OHn4Dct23jEm"
      },
      "source": [
        "# 1. Remove the accents\n",
        "# 2. Clean the sentences\n",
        "# 3. Return word pairs in the format: [ENGLISH, SPANISH]\n",
        "def create_dataset(path, num_examples):\n",
        "    lines = io.open(path, encoding='UTF-8').read().strip().split('\\n')\n",
        "\n",
        "    word_pairs = [[preprocess_sentence(w) for w in l.split('\\t')[:2]]  for l in lines[:num_examples]]\n",
        "\n",
        "    return zip(*word_pairs)"
      ],
      "execution_count": null,
      "outputs": []
    },
    {
      "cell_type": "code",
      "metadata": {
        "colab": {
          "base_uri": "https://localhost:8080/"
        },
        "id": "cTbSbBz55QtF",
        "outputId": "68deb5e0-bf6c-4e8e-8cf9-f19a1ab4bb4e"
      },
      "source": [
        "en, ru = create_dataset(path_to_file, None)\n",
        "print(en[-1])\n",
        "print(ru[-1])"
      ],
      "execution_count": null,
      "outputs": [
        {
          "output_type": "stream",
          "text": [
            "<start> doubtless there exists in this world precisely the right woman for any given man to marry and vice versa but when you consider that a human being has the opportunity of being acquainted with only a few hundred people , and out of the few hundred that there are but a dozen or less whom he knows intimately , and out of the dozen , one or two friends at most , it will easily be seen , when we remember the number of millions who inhabit this world , that probably , since the earth was created , the right man has never yet met the right woman . <end>\n",
            "<start> несомненно , для каждого мужчины в этом мире где то есть подходящая женщина , которая может стать ему женой , обратное верно и для женщин . но если учесть , что у человека может быть максимум несколько сотен знакомых , из которых лишь дюжина , а то и меньше , тех , кого он знает близко , а из этой дюжины у него один или от силы два друга , то можно легко увидеть , что с уч том миллионов живущих на земле людей , ни один подходящий мужчина , возможно , ещ не встретил подходящую женщину . <end>\n"
          ],
          "name": "stdout"
        }
      ]
    },
    {
      "cell_type": "code",
      "metadata": {
        "id": "bIOn8RCNDJXG"
      },
      "source": [
        "def tokenize(lang):\n",
        "    lang_tokenizer = tf.keras.preprocessing.text.Tokenizer(\n",
        "      filters='')\n",
        "    lang_tokenizer.fit_on_texts(lang)\n",
        "\n",
        "    tensor = lang_tokenizer.texts_to_sequences(lang)\n",
        "\n",
        "    tensor = tf.keras.preprocessing.sequence.pad_sequences(tensor,\n",
        "                                                         padding='post')\n",
        "\n",
        "    return tensor, lang_tokenizer"
      ],
      "execution_count": null,
      "outputs": []
    },
    {
      "cell_type": "code",
      "metadata": {
        "id": "eAY9k49G3jE_"
      },
      "source": [
        "def load_dataset(path, num_examples=None):\n",
        "    # creating cleaned input, output pairs\n",
        "    targ_lang, inp_lang = create_dataset(path, num_examples)\n",
        "\n",
        "    input_tensor, inp_lang_tokenizer = tokenize(inp_lang)\n",
        "    target_tensor, targ_lang_tokenizer = tokenize(targ_lang)\n",
        "\n",
        "    return input_tensor, target_tensor, inp_lang_tokenizer, targ_lang_tokenizer"
      ],
      "execution_count": null,
      "outputs": []
    },
    {
      "cell_type": "markdown",
      "metadata": {
        "id": "GOi42V79Ydlr"
      },
      "source": [
        "### Limit the size of the dataset to experiment faster (optional)\n"
      ]
    },
    {
      "cell_type": "code",
      "metadata": {
        "colab": {
          "base_uri": "https://localhost:8080/"
        },
        "id": "C8j9g9AnIeZV",
        "outputId": "07e6e03d-4a80-4419-c092-bedfaffd87b8"
      },
      "source": [
        "len(en), len(ru)"
      ],
      "execution_count": null,
      "outputs": [
        {
          "output_type": "execute_result",
          "data": {
            "text/plain": [
              "(429117, 429117)"
            ]
          },
          "metadata": {
            "tags": []
          },
          "execution_count": 12
        }
      ]
    },
    {
      "cell_type": "code",
      "metadata": {
        "id": "cnxC7q-j3jFD"
      },
      "source": [
        "# Try experimenting with the size of that dataset\n",
        "num_examples = 100000\n",
        "input_tensor, target_tensor, inp_lang, targ_lang = load_dataset(path_to_file, num_examples)\n",
        "\n",
        "# Calculate max_length of the target tensors\n",
        "max_length_targ, max_length_inp = target_tensor.shape[1], input_tensor.shape[1]"
      ],
      "execution_count": null,
      "outputs": []
    },
    {
      "cell_type": "code",
      "metadata": {
        "colab": {
          "base_uri": "https://localhost:8080/"
        },
        "id": "4QILQkOs3jFG",
        "outputId": "cd610938-12a5-4618-9ddd-a8777253e6ac"
      },
      "source": [
        "# Creating training and validation sets using an 80-20 split\n",
        "input_tensor_train, input_tensor_val, target_tensor_train, target_tensor_val = train_test_split(input_tensor, target_tensor, test_size=0.2)\n",
        "\n",
        "# Show length\n",
        "print(len(input_tensor_train), len(target_tensor_train), len(input_tensor_val), len(target_tensor_val))"
      ],
      "execution_count": null,
      "outputs": [
        {
          "output_type": "stream",
          "text": [
            "80000 80000 20000 20000\n"
          ],
          "name": "stdout"
        }
      ]
    },
    {
      "cell_type": "code",
      "metadata": {
        "id": "lJPmLZGMeD5q"
      },
      "source": [
        "def convert(lang, tensor):\n",
        "    for t in tensor:\n",
        "        if t!=0:\n",
        "            print (\"%d ----> %s\" % (t, lang.index_word[t]))"
      ],
      "execution_count": null,
      "outputs": []
    },
    {
      "cell_type": "code",
      "metadata": {
        "colab": {
          "base_uri": "https://localhost:8080/"
        },
        "id": "VXukARTDd7MT",
        "outputId": "a3c58700-25d9-4093-cc2a-4cea4c26637b"
      },
      "source": [
        "print (\"Input Language; index to word mapping\")\n",
        "convert(inp_lang, input_tensor_train[0])\n",
        "print ()\n",
        "print (\"Target Language; index to word mapping\")\n",
        "convert(targ_lang, target_tensor_train[0])"
      ],
      "execution_count": null,
      "outputs": [
        {
          "output_type": "stream",
          "text": [
            "Input Language; index to word mapping\n",
            "1 ----> <start>\n",
            "161 ----> время\n",
            "14 ----> у\n",
            "17 ----> меня\n",
            "32 ----> есть\n",
            "3 ----> .\n",
            "2 ----> <end>\n",
            "\n",
            "Target Language; index to word mapping\n",
            "1 ----> <start>\n",
            "4 ----> i\n",
            "24 ----> have\n",
            "125 ----> time\n",
            "3 ----> .\n",
            "2 ----> <end>\n"
          ],
          "name": "stdout"
        }
      ]
    },
    {
      "cell_type": "markdown",
      "metadata": {
        "id": "rgCLkfv5uO3d"
      },
      "source": [
        "### Create a tf.data dataset"
      ]
    },
    {
      "cell_type": "code",
      "metadata": {
        "id": "TqHsArVZ3jFS"
      },
      "source": [
        "BUFFER_SIZE = len(input_tensor_train)\n",
        "BATCH_SIZE = 64\n",
        "steps_per_epoch = len(input_tensor_train)//BATCH_SIZE\n",
        "embedding_dim = 256\n",
        "units = 1024\n",
        "vocab_inp_size = len(inp_lang.word_index)+1\n",
        "vocab_tar_size = len(targ_lang.word_index)+1\n",
        "\n",
        "dataset = tf.data.Dataset.from_tensor_slices((input_tensor_train, target_tensor_train)).shuffle(BUFFER_SIZE)\n",
        "dataset = dataset.batch(BATCH_SIZE, drop_remainder=True)"
      ],
      "execution_count": null,
      "outputs": []
    },
    {
      "cell_type": "code",
      "metadata": {
        "colab": {
          "base_uri": "https://localhost:8080/"
        },
        "id": "qc6-NK1GtWQt",
        "outputId": "d49eb7f4-eed6-43fa-91e9-2a142698e60f"
      },
      "source": [
        "example_input_batch, example_target_batch = next(iter(dataset))\n",
        "example_input_batch.shape, example_target_batch.shape"
      ],
      "execution_count": null,
      "outputs": [
        {
          "output_type": "execute_result",
          "data": {
            "text/plain": [
              "(TensorShape([64, 15]), TensorShape([64, 11]))"
            ]
          },
          "metadata": {
            "tags": []
          },
          "execution_count": 18
        }
      ]
    },
    {
      "cell_type": "code",
      "metadata": {
        "id": "nZ2rI24i3jFg"
      },
      "source": [
        "class Encoder(tf.keras.Model):\n",
        "    def __init__(self, vocab_size, embedding_dim, enc_units, batch_sz):\n",
        "        super(Encoder, self).__init__()\n",
        "        self.batch_sz = batch_sz\n",
        "        self.enc_units = enc_units\n",
        "        self.embedding = tf.keras.layers.Embedding(vocab_size, embedding_dim)\n",
        "        self.gru = tf.keras.layers.GRU(self.enc_units,\n",
        "                                       return_sequences=False,\n",
        "                                       return_state=False,\n",
        "                                       recurrent_initializer='glorot_uniform')\n",
        "\n",
        "    def call(self, x, hidden):\n",
        "        x = self.embedding(x)\n",
        "        state = self.gru(x, initial_state = hidden)\n",
        "        return state\n",
        "\n",
        "    def initialize_hidden_state(self):\n",
        "        return tf.zeros((self.batch_sz, self.enc_units))"
      ],
      "execution_count": null,
      "outputs": []
    },
    {
      "cell_type": "code",
      "metadata": {
        "colab": {
          "base_uri": "https://localhost:8080/"
        },
        "id": "60gSVh05Jl6l",
        "outputId": "3d84b8d3-5b59-457c-ac45-b35cc297d581"
      },
      "source": [
        "encoder = Encoder(vocab_inp_size, embedding_dim, units, BATCH_SIZE)\n",
        "\n",
        "# sample input\n",
        "sample_hidden = encoder.initialize_hidden_state()\n",
        "sample_hidden = encoder(example_input_batch, sample_hidden)\n",
        "# print ('Encoder output shape: (batch size, sequence length, units) {}'.format(sample_output.shape))\n",
        "print ('Encoder Hidden state shape: (batch size, units) {}'.format(sample_hidden.shape))"
      ],
      "execution_count": null,
      "outputs": [
        {
          "output_type": "stream",
          "text": [
            "Encoder Hidden state shape: (batch size, units) (64, 1024)\n"
          ],
          "name": "stdout"
        }
      ]
    },
    {
      "cell_type": "code",
      "metadata": {
        "id": "yJ_B3mhW3jFk"
      },
      "source": [
        "class Decoder(tf.keras.Model):\n",
        "    def __init__(self, vocab_size, embedding_dim, dec_units, batch_sz):\n",
        "        super(Decoder, self).__init__()\n",
        "        self.batch_sz = batch_sz\n",
        "        self.dec_units = dec_units\n",
        "        self.embedding = tf.keras.layers.Embedding(vocab_size, embedding_dim)\n",
        "        self.gru = tf.keras.layers.GRU(self.dec_units,\n",
        "                                       return_sequences=True,\n",
        "                                       return_state=True,\n",
        "                                       recurrent_initializer='glorot_uniform')\n",
        "        self.fc = tf.keras.layers.Dense(vocab_size)\n",
        "\n",
        "        # used for attention\n",
        "        # self.attention = BahdanauAttention(self.dec_units)\n",
        "\n",
        "    def call(self, x, hidden):\n",
        "        # enc_output shape == (batch_size, max_length, hidden_size)\n",
        "\n",
        "        # x shape after passing through embedding == (batch_size, 1, embedding_dim)\n",
        "        x = self.embedding(x)\n",
        "\n",
        "        # x shape after concatenation == (batch_size, 1, embedding_dim + hidden_size)\n",
        "\n",
        "        # passing the concatenated vector to the GRU\n",
        "        output, state = self.gru(x, initial_state=hidden)\n",
        "\n",
        "        # output shape == (batch_size * 1, hidden_size)\n",
        "        output = tf.reshape(output, (-1, output.shape[2]))\n",
        "\n",
        "        # output shape == (batch_size, vocab)\n",
        "        x = self.fc(output)\n",
        "\n",
        "        return x, state"
      ],
      "execution_count": null,
      "outputs": []
    },
    {
      "cell_type": "code",
      "metadata": {
        "id": "P5UY8wko3jFp"
      },
      "source": [
        "decoder = Decoder(vocab_tar_size, embedding_dim, units, BATCH_SIZE)\n",
        "\n",
        "decoder_sample_x, decoder_sample_h = decoder(tf.random.uniform((BATCH_SIZE, 1)),\n",
        "                                      sample_hidden)\n",
        "\n"
      ],
      "execution_count": null,
      "outputs": []
    },
    {
      "cell_type": "code",
      "metadata": {
        "colab": {
          "base_uri": "https://localhost:8080/"
        },
        "id": "6y0HF-zMF_vp",
        "outputId": "35e0f328-05a3-475d-8fe6-3961a429c117"
      },
      "source": [
        "decoder_sample_h.shape"
      ],
      "execution_count": null,
      "outputs": [
        {
          "output_type": "execute_result",
          "data": {
            "text/plain": [
              "TensorShape([64, 1024])"
            ]
          },
          "metadata": {
            "tags": []
          },
          "execution_count": 23
        }
      ]
    },
    {
      "cell_type": "markdown",
      "metadata": {
        "id": "_ch_71VbIRfK"
      },
      "source": [
        "## Define the optimizer and the loss function"
      ]
    },
    {
      "cell_type": "code",
      "metadata": {
        "id": "WmTHr5iV3jFr"
      },
      "source": [
        "optimizer = tf.keras.optimizers.Adam()\n",
        "loss_object = tf.keras.losses.SparseCategoricalCrossentropy(\n",
        "    from_logits=True, reduction='none')\n",
        "\n",
        "def loss_function(real, pred):\n",
        "    mask = tf.math.logical_not(tf.math.equal(real, 0))\n",
        "    loss_ = loss_object(real, pred)\n",
        "\n",
        "    mask = tf.cast(mask, dtype=loss_.dtype)\n",
        "    loss_ *= mask\n",
        "\n",
        "    return tf.reduce_mean(loss_)"
      ],
      "execution_count": null,
      "outputs": []
    },
    {
      "cell_type": "markdown",
      "metadata": {
        "id": "DMVWzzsfNl4e"
      },
      "source": [
        "## Checkpoints (Object-based saving)"
      ]
    },
    {
      "cell_type": "code",
      "metadata": {
        "id": "Zj8bXQTgNwrF"
      },
      "source": [
        "checkpoint_dir = './training_checkpoints'\n",
        "checkpoint_prefix = os.path.join(checkpoint_dir, \"ckpt\")\n",
        "checkpoint = tf.train.Checkpoint(optimizer=optimizer,\n",
        "                                 encoder=encoder,\n",
        "                                 decoder=decoder)"
      ],
      "execution_count": null,
      "outputs": []
    },
    {
      "cell_type": "code",
      "metadata": {
        "id": "sC9ArXSsVfqn"
      },
      "source": [
        "@tf.function\n",
        "def train_step(inp, targ, enc_hidden):\n",
        "    loss = 0\n",
        "\n",
        "    with tf.GradientTape() as tape:\n",
        "        enc_hidden = encoder(inp, enc_hidden)\n",
        "\n",
        "        dec_hidden = enc_hidden\n",
        "\n",
        "        dec_input = tf.expand_dims([targ_lang.word_index['<start>']] * BATCH_SIZE, 1)\n",
        "\n",
        "        # Teacher forcing - feeding the target as the next input\n",
        "        for t in range(1, targ.shape[1]):\n",
        "            # passing enc_output to the decoder\n",
        "            predictions, dec_hidden = decoder(dec_input, dec_hidden)\n",
        "\n",
        "            loss += loss_function(targ[:, t], predictions)\n",
        "\n",
        "            # using teacher forcing\n",
        "            dec_input = tf.expand_dims(targ[:, t], 1)\n",
        "\n",
        "        batch_loss = (loss / int(targ.shape[1]))\n",
        "\n",
        "        variables = encoder.trainable_variables + decoder.trainable_variables\n",
        "\n",
        "        gradients = tape.gradient(loss, variables)\n",
        "\n",
        "        optimizer.apply_gradients(zip(gradients, variables))\n",
        "\n",
        "    return batch_loss"
      ],
      "execution_count": null,
      "outputs": []
    },
    {
      "cell_type": "code",
      "metadata": {
        "colab": {
          "base_uri": "https://localhost:8080/"
        },
        "id": "ddefjBMa3jF0",
        "scrolled": false,
        "outputId": "c431b4f1-b28f-4266-ccf6-b172905843b9"
      },
      "source": [
        "EPOCHS = 50\n",
        "loss_info_to_plot=[]\n",
        "\n",
        "for epoch in range(EPOCHS):\n",
        "    start = time.time()\n",
        "\n",
        "    enc_hidden = encoder.initialize_hidden_state()\n",
        "    total_loss = 0\n",
        "\n",
        "    for (batch, (inp, targ)) in enumerate(dataset.take(steps_per_epoch)):\n",
        "        batch_loss = train_step(inp, targ, enc_hidden)\n",
        "        total_loss += batch_loss\n",
        "\n",
        "        if batch % 100 == 0:\n",
        "            print('Epoch {} Batch {} Loss {:.4f}'.format(epoch + 1,\n",
        "                                                       batch,\n",
        "                                                       batch_loss.numpy()))\n",
        "            \n",
        "            loss_info_to_plot.append(batch_loss.numpy())\n",
        "    # saving (checkpoint) the model every 2 epochs\n",
        "    if (epoch + 1) % 2 == 0:\n",
        "        checkpoint.save(file_prefix = checkpoint_prefix)\n",
        "        \n",
        "    \n",
        "    print('Epoch {} Loss {:.4f}'.format(epoch + 1,\n",
        "                                      total_loss / steps_per_epoch))\n",
        "    print('Time taken for 1 epoch {} sec\\n'.format(time.time() - start))"
      ],
      "execution_count": null,
      "outputs": [
        {
          "output_type": "stream",
          "text": [
            "Epoch 1 Batch 0 Loss 4.6195\n",
            "Epoch 1 Batch 100 Loss 1.9620\n",
            "Epoch 1 Batch 200 Loss 1.8121\n",
            "Epoch 1 Batch 300 Loss 1.7051\n",
            "Epoch 1 Batch 400 Loss 1.6295\n",
            "Epoch 1 Batch 500 Loss 1.5172\n",
            "Epoch 1 Batch 600 Loss 1.4993\n",
            "Epoch 1 Batch 700 Loss 1.2375\n",
            "Epoch 1 Batch 800 Loss 1.1137\n",
            "Epoch 1 Batch 900 Loss 1.0774\n",
            "Epoch 1 Batch 1000 Loss 1.0285\n",
            "Epoch 1 Batch 1100 Loss 0.9228\n",
            "Epoch 1 Batch 1200 Loss 0.9938\n",
            "Epoch 1 Loss 1.4439\n",
            "Time taken for 1 epoch 99.18611359596252 sec\n",
            "\n",
            "Epoch 2 Batch 0 Loss 0.8079\n",
            "Epoch 2 Batch 100 Loss 0.8847\n",
            "Epoch 2 Batch 200 Loss 0.8949\n",
            "Epoch 2 Batch 300 Loss 0.7438\n",
            "Epoch 2 Batch 400 Loss 0.7852\n",
            "Epoch 2 Batch 500 Loss 0.7611\n",
            "Epoch 2 Batch 600 Loss 0.7419\n",
            "Epoch 2 Batch 700 Loss 0.6991\n",
            "Epoch 2 Batch 800 Loss 0.7266\n",
            "Epoch 2 Batch 900 Loss 0.8408\n",
            "Epoch 2 Batch 1000 Loss 0.6807\n",
            "Epoch 2 Batch 1100 Loss 0.6675\n",
            "Epoch 2 Batch 1200 Loss 0.6382\n",
            "Epoch 2 Loss 0.7369\n",
            "Time taken for 1 epoch 91.10360097885132 sec\n",
            "\n",
            "Epoch 3 Batch 0 Loss 0.3818\n",
            "Epoch 3 Batch 100 Loss 0.4381\n",
            "Epoch 3 Batch 200 Loss 0.4675\n",
            "Epoch 3 Batch 300 Loss 0.4954\n",
            "Epoch 3 Batch 400 Loss 0.4084\n",
            "Epoch 3 Batch 500 Loss 0.5070\n",
            "Epoch 3 Batch 600 Loss 0.3798\n",
            "Epoch 3 Batch 700 Loss 0.3600\n",
            "Epoch 3 Batch 800 Loss 0.3811\n",
            "Epoch 3 Batch 900 Loss 0.4551\n",
            "Epoch 3 Batch 1000 Loss 0.3386\n",
            "Epoch 3 Batch 1100 Loss 0.3300\n",
            "Epoch 3 Batch 1200 Loss 0.3151\n",
            "Epoch 3 Loss 0.4124\n",
            "Time taken for 1 epoch 84.1913697719574 sec\n",
            "\n",
            "Epoch 4 Batch 0 Loss 0.2253\n",
            "Epoch 4 Batch 100 Loss 0.2175\n",
            "Epoch 4 Batch 200 Loss 0.2368\n",
            "Epoch 4 Batch 300 Loss 0.2475\n",
            "Epoch 4 Batch 400 Loss 0.1894\n",
            "Epoch 4 Batch 500 Loss 0.2646\n",
            "Epoch 4 Batch 600 Loss 0.2521\n",
            "Epoch 4 Batch 700 Loss 0.2883\n",
            "Epoch 4 Batch 800 Loss 0.2693\n",
            "Epoch 4 Batch 900 Loss 0.2386\n",
            "Epoch 4 Batch 1000 Loss 0.2519\n",
            "Epoch 4 Batch 1100 Loss 0.1852\n",
            "Epoch 4 Batch 1200 Loss 0.2551\n",
            "Epoch 4 Loss 0.2488\n",
            "Time taken for 1 epoch 87.40222787857056 sec\n",
            "\n",
            "Epoch 5 Batch 0 Loss 0.1507\n",
            "Epoch 5 Batch 100 Loss 0.1342\n",
            "Epoch 5 Batch 200 Loss 0.1800\n",
            "Epoch 5 Batch 300 Loss 0.1727\n",
            "Epoch 5 Batch 400 Loss 0.1547\n",
            "Epoch 5 Batch 500 Loss 0.1933\n",
            "Epoch 5 Batch 600 Loss 0.1544\n",
            "Epoch 5 Batch 700 Loss 0.1487\n",
            "Epoch 5 Batch 800 Loss 0.1551\n",
            "Epoch 5 Batch 900 Loss 0.2065\n",
            "Epoch 5 Batch 1000 Loss 0.1973\n",
            "Epoch 5 Batch 1100 Loss 0.1798\n",
            "Epoch 5 Batch 1200 Loss 0.1692\n",
            "Epoch 5 Loss 0.1684\n",
            "Time taken for 1 epoch 85.24669337272644 sec\n",
            "\n",
            "Epoch 6 Batch 0 Loss 0.1146\n",
            "Epoch 6 Batch 100 Loss 0.1329\n",
            "Epoch 6 Batch 200 Loss 0.0951\n",
            "Epoch 6 Batch 300 Loss 0.1357\n",
            "Epoch 6 Batch 400 Loss 0.0948\n",
            "Epoch 6 Batch 500 Loss 0.1088\n",
            "Epoch 6 Batch 600 Loss 0.1394\n",
            "Epoch 6 Batch 700 Loss 0.1628\n",
            "Epoch 6 Batch 800 Loss 0.1128\n",
            "Epoch 6 Batch 900 Loss 0.1539\n",
            "Epoch 6 Batch 1000 Loss 0.1628\n",
            "Epoch 6 Batch 1100 Loss 0.1097\n",
            "Epoch 6 Batch 1200 Loss 0.1096\n",
            "Epoch 6 Loss 0.1275\n",
            "Time taken for 1 epoch 88.19803953170776 sec\n",
            "\n",
            "Epoch 7 Batch 0 Loss 0.0963\n",
            "Epoch 7 Batch 100 Loss 0.0835\n",
            "Epoch 7 Batch 200 Loss 0.0906\n",
            "Epoch 7 Batch 300 Loss 0.1244\n",
            "Epoch 7 Batch 400 Loss 0.0690\n",
            "Epoch 7 Batch 500 Loss 0.1238\n",
            "Epoch 7 Batch 600 Loss 0.0986\n",
            "Epoch 7 Batch 700 Loss 0.1161\n",
            "Epoch 7 Batch 800 Loss 0.1145\n",
            "Epoch 7 Batch 900 Loss 0.0931\n",
            "Epoch 7 Batch 1000 Loss 0.0807\n",
            "Epoch 7 Batch 1100 Loss 0.1016\n",
            "Epoch 7 Batch 1200 Loss 0.0930\n",
            "Epoch 7 Loss 0.1065\n",
            "Time taken for 1 epoch 84.66891121864319 sec\n",
            "\n",
            "Epoch 8 Batch 0 Loss 0.0999\n",
            "Epoch 8 Batch 100 Loss 0.0778\n",
            "Epoch 8 Batch 200 Loss 0.0894\n",
            "Epoch 8 Batch 300 Loss 0.0697\n",
            "Epoch 8 Batch 400 Loss 0.0959\n",
            "Epoch 8 Batch 500 Loss 0.0861\n",
            "Epoch 8 Batch 600 Loss 0.0889\n",
            "Epoch 8 Batch 700 Loss 0.0935\n",
            "Epoch 8 Batch 800 Loss 0.0815\n",
            "Epoch 8 Batch 900 Loss 0.1240\n",
            "Epoch 8 Batch 1000 Loss 0.0792\n",
            "Epoch 8 Batch 1100 Loss 0.0907\n",
            "Epoch 8 Batch 1200 Loss 0.0948\n",
            "Epoch 8 Loss 0.0936\n",
            "Time taken for 1 epoch 87.62948727607727 sec\n",
            "\n",
            "Epoch 9 Batch 0 Loss 0.0721\n",
            "Epoch 9 Batch 100 Loss 0.0711\n",
            "Epoch 9 Batch 200 Loss 0.1017\n",
            "Epoch 9 Batch 300 Loss 0.0700\n",
            "Epoch 9 Batch 400 Loss 0.0713\n",
            "Epoch 9 Batch 500 Loss 0.1367\n",
            "Epoch 9 Batch 600 Loss 0.0842\n",
            "Epoch 9 Batch 700 Loss 0.0634\n",
            "Epoch 9 Batch 800 Loss 0.1369\n",
            "Epoch 9 Batch 900 Loss 0.1586\n",
            "Epoch 9 Batch 1000 Loss 0.0950\n",
            "Epoch 9 Batch 1100 Loss 0.0771\n",
            "Epoch 9 Batch 1200 Loss 0.0674\n",
            "Epoch 9 Loss 0.0871\n",
            "Time taken for 1 epoch 84.87225532531738 sec\n",
            "\n",
            "Epoch 10 Batch 0 Loss 0.0792\n",
            "Epoch 10 Batch 100 Loss 0.0819\n",
            "Epoch 10 Batch 200 Loss 0.0517\n",
            "Epoch 10 Batch 300 Loss 0.0867\n",
            "Epoch 10 Batch 400 Loss 0.0834\n",
            "Epoch 10 Batch 500 Loss 0.0637\n",
            "Epoch 10 Batch 600 Loss 0.0811\n",
            "Epoch 10 Batch 700 Loss 0.1208\n",
            "Epoch 10 Batch 800 Loss 0.0889\n",
            "Epoch 10 Batch 900 Loss 0.1479\n",
            "Epoch 10 Batch 1000 Loss 0.0818\n",
            "Epoch 10 Batch 1100 Loss 0.0935\n",
            "Epoch 10 Batch 1200 Loss 0.1247\n",
            "Epoch 10 Loss 0.0814\n",
            "Time taken for 1 epoch 88.32269835472107 sec\n",
            "\n",
            "Epoch 11 Batch 0 Loss 0.0629\n",
            "Epoch 11 Batch 100 Loss 0.0790\n",
            "Epoch 11 Batch 200 Loss 0.0690\n",
            "Epoch 11 Batch 300 Loss 0.0572\n",
            "Epoch 11 Batch 400 Loss 0.0933\n",
            "Epoch 11 Batch 500 Loss 0.0803\n",
            "Epoch 11 Batch 600 Loss 0.0863\n",
            "Epoch 11 Batch 700 Loss 0.0625\n",
            "Epoch 11 Batch 800 Loss 0.0796\n",
            "Epoch 11 Batch 900 Loss 0.1219\n",
            "Epoch 11 Batch 1000 Loss 0.1273\n",
            "Epoch 11 Batch 1100 Loss 0.0923\n",
            "Epoch 11 Batch 1200 Loss 0.0517\n",
            "Epoch 11 Loss 0.0771\n",
            "Time taken for 1 epoch 85.11171364784241 sec\n",
            "\n",
            "Epoch 12 Batch 0 Loss 0.1175\n",
            "Epoch 12 Batch 100 Loss 0.0541\n",
            "Epoch 12 Batch 200 Loss 0.0686\n",
            "Epoch 12 Batch 300 Loss 0.1163\n",
            "Epoch 12 Batch 400 Loss 0.0677\n",
            "Epoch 12 Batch 500 Loss 0.1203\n",
            "Epoch 12 Batch 600 Loss 0.0420\n",
            "Epoch 12 Batch 700 Loss 0.0471\n",
            "Epoch 12 Batch 800 Loss 0.0632\n",
            "Epoch 12 Batch 900 Loss 0.0671\n",
            "Epoch 12 Batch 1000 Loss 0.0777\n",
            "Epoch 12 Batch 1100 Loss 0.0707\n",
            "Epoch 12 Batch 1200 Loss 0.0726\n",
            "Epoch 12 Loss 0.0758\n",
            "Time taken for 1 epoch 87.68006801605225 sec\n",
            "\n",
            "Epoch 13 Batch 0 Loss 0.0359\n",
            "Epoch 13 Batch 100 Loss 0.0527\n",
            "Epoch 13 Batch 200 Loss 0.0574\n",
            "Epoch 13 Batch 300 Loss 0.0699\n",
            "Epoch 13 Batch 400 Loss 0.0559\n",
            "Epoch 13 Batch 500 Loss 0.0851\n",
            "Epoch 13 Batch 600 Loss 0.1069\n",
            "Epoch 13 Batch 700 Loss 0.0463\n",
            "Epoch 13 Batch 800 Loss 0.0533\n",
            "Epoch 13 Batch 900 Loss 0.0669\n",
            "Epoch 13 Batch 1000 Loss 0.1335\n",
            "Epoch 13 Batch 1100 Loss 0.0972\n",
            "Epoch 13 Batch 1200 Loss 0.0430\n",
            "Epoch 13 Loss 0.0723\n",
            "Time taken for 1 epoch 84.51734948158264 sec\n",
            "\n",
            "Epoch 14 Batch 0 Loss 0.0399\n",
            "Epoch 14 Batch 100 Loss 0.0554\n",
            "Epoch 14 Batch 200 Loss 0.0745\n",
            "Epoch 14 Batch 300 Loss 0.0621\n",
            "Epoch 14 Batch 400 Loss 0.0844\n",
            "Epoch 14 Batch 500 Loss 0.0388\n",
            "Epoch 14 Batch 600 Loss 0.0577\n",
            "Epoch 14 Batch 700 Loss 0.0344\n",
            "Epoch 14 Batch 800 Loss 0.0962\n",
            "Epoch 14 Batch 900 Loss 0.0930\n",
            "Epoch 14 Batch 1000 Loss 0.0570\n",
            "Epoch 14 Batch 1100 Loss 0.0622\n",
            "Epoch 14 Batch 1200 Loss 0.0539\n",
            "Epoch 14 Loss 0.0708\n",
            "Time taken for 1 epoch 87.896080493927 sec\n",
            "\n",
            "Epoch 15 Batch 0 Loss 0.0266\n",
            "Epoch 15 Batch 100 Loss 0.0681\n",
            "Epoch 15 Batch 200 Loss 0.0446\n",
            "Epoch 15 Batch 300 Loss 0.0342\n",
            "Epoch 15 Batch 400 Loss 0.0758\n",
            "Epoch 15 Batch 500 Loss 0.0522\n",
            "Epoch 15 Batch 600 Loss 0.0429\n",
            "Epoch 15 Batch 700 Loss 0.0403\n",
            "Epoch 15 Batch 800 Loss 0.0673\n",
            "Epoch 15 Batch 900 Loss 0.0809\n",
            "Epoch 15 Batch 1000 Loss 0.0878\n",
            "Epoch 15 Batch 1100 Loss 0.0872\n",
            "Epoch 15 Batch 1200 Loss 0.0893\n",
            "Epoch 15 Loss 0.0691\n",
            "Time taken for 1 epoch 85.37939119338989 sec\n",
            "\n",
            "Epoch 16 Batch 0 Loss 0.0298\n",
            "Epoch 16 Batch 100 Loss 0.0710\n",
            "Epoch 16 Batch 200 Loss 0.0560\n",
            "Epoch 16 Batch 300 Loss 0.0592\n",
            "Epoch 16 Batch 400 Loss 0.0465\n",
            "Epoch 16 Batch 500 Loss 0.0384\n",
            "Epoch 16 Batch 600 Loss 0.0543\n",
            "Epoch 16 Batch 700 Loss 0.0571\n",
            "Epoch 16 Batch 800 Loss 0.0689\n",
            "Epoch 16 Batch 900 Loss 0.0341\n",
            "Epoch 16 Batch 1000 Loss 0.0914\n",
            "Epoch 16 Batch 1100 Loss 0.1274\n",
            "Epoch 16 Batch 1200 Loss 0.1262\n",
            "Epoch 16 Loss 0.0679\n",
            "Time taken for 1 epoch 88.02630090713501 sec\n",
            "\n",
            "Epoch 17 Batch 0 Loss 0.0787\n",
            "Epoch 17 Batch 100 Loss 0.0717\n",
            "Epoch 17 Batch 200 Loss 0.0748\n",
            "Epoch 17 Batch 300 Loss 0.0502\n",
            "Epoch 17 Batch 400 Loss 0.0742\n",
            "Epoch 17 Batch 500 Loss 0.0574\n",
            "Epoch 17 Batch 600 Loss 0.0397\n",
            "Epoch 17 Batch 700 Loss 0.0561\n",
            "Epoch 17 Batch 800 Loss 0.0294\n",
            "Epoch 17 Batch 900 Loss 0.0658\n",
            "Epoch 17 Batch 1000 Loss 0.0583\n",
            "Epoch 17 Batch 1100 Loss 0.0610\n",
            "Epoch 17 Batch 1200 Loss 0.1078\n",
            "Epoch 17 Loss 0.0660\n",
            "Time taken for 1 epoch 85.46206068992615 sec\n",
            "\n",
            "Epoch 18 Batch 0 Loss 0.0683\n",
            "Epoch 18 Batch 100 Loss 0.0599\n",
            "Epoch 18 Batch 200 Loss 0.0553\n",
            "Epoch 18 Batch 300 Loss 0.0558\n",
            "Epoch 18 Batch 400 Loss 0.0572\n",
            "Epoch 18 Batch 500 Loss 0.0724\n",
            "Epoch 18 Batch 600 Loss 0.0433\n",
            "Epoch 18 Batch 700 Loss 0.0644\n",
            "Epoch 18 Batch 800 Loss 0.0790\n",
            "Epoch 18 Batch 900 Loss 0.0496\n",
            "Epoch 18 Batch 1000 Loss 0.0590\n"
          ],
          "name": "stdout"
        },
        {
          "output_type": "stream",
          "text": [
            "Epoch 18 Batch 1100 Loss 0.1049\n",
            "Epoch 18 Batch 1200 Loss 0.0755\n",
            "Epoch 18 Loss 0.0653\n",
            "Time taken for 1 epoch 88.7690806388855 sec\n",
            "\n",
            "Epoch 19 Batch 0 Loss 0.0326\n",
            "Epoch 19 Batch 100 Loss 0.0486\n",
            "Epoch 19 Batch 200 Loss 0.0578\n",
            "Epoch 19 Batch 300 Loss 0.0394\n",
            "Epoch 19 Batch 400 Loss 0.0466\n",
            "Epoch 19 Batch 500 Loss 0.0672\n",
            "Epoch 19 Batch 600 Loss 0.0531\n",
            "Epoch 19 Batch 700 Loss 0.1089\n",
            "Epoch 19 Batch 800 Loss 0.0627\n",
            "Epoch 19 Batch 900 Loss 0.0641\n",
            "Epoch 19 Batch 1000 Loss 0.0514\n",
            "Epoch 19 Batch 1100 Loss 0.0385\n",
            "Epoch 19 Batch 1200 Loss 0.0588\n",
            "Epoch 19 Loss 0.0632\n",
            "Time taken for 1 epoch 84.92843723297119 sec\n",
            "\n",
            "Epoch 20 Batch 0 Loss 0.0211\n",
            "Epoch 20 Batch 100 Loss 0.0504\n",
            "Epoch 20 Batch 200 Loss 0.0436\n",
            "Epoch 20 Batch 300 Loss 0.0444\n",
            "Epoch 20 Batch 400 Loss 0.0599\n",
            "Epoch 20 Batch 500 Loss 0.0705\n",
            "Epoch 20 Batch 600 Loss 0.0690\n",
            "Epoch 20 Batch 700 Loss 0.0675\n",
            "Epoch 20 Batch 800 Loss 0.0729\n",
            "Epoch 20 Batch 900 Loss 0.0561\n",
            "Epoch 20 Batch 1000 Loss 0.0638\n",
            "Epoch 20 Batch 1100 Loss 0.0801\n",
            "Epoch 20 Batch 1200 Loss 0.1146\n",
            "Epoch 20 Loss 0.0626\n",
            "Time taken for 1 epoch 88.51854515075684 sec\n",
            "\n",
            "Epoch 21 Batch 0 Loss 0.0178\n",
            "Epoch 21 Batch 100 Loss 0.0519\n",
            "Epoch 21 Batch 200 Loss 0.0651\n",
            "Epoch 21 Batch 300 Loss 0.0376\n",
            "Epoch 21 Batch 400 Loss 0.1022\n",
            "Epoch 21 Batch 500 Loss 0.0361\n",
            "Epoch 21 Batch 600 Loss 0.0644\n",
            "Epoch 21 Batch 700 Loss 0.0569\n",
            "Epoch 21 Batch 800 Loss 0.0531\n",
            "Epoch 21 Batch 900 Loss 0.1007\n",
            "Epoch 21 Batch 1000 Loss 0.0198\n",
            "Epoch 21 Batch 1100 Loss 0.0771\n",
            "Epoch 21 Batch 1200 Loss 0.0883\n",
            "Epoch 21 Loss 0.0620\n",
            "Time taken for 1 epoch 84.6970579624176 sec\n",
            "\n",
            "Epoch 22 Batch 0 Loss 0.0794\n",
            "Epoch 22 Batch 100 Loss 0.0370\n",
            "Epoch 22 Batch 200 Loss 0.0423\n",
            "Epoch 22 Batch 300 Loss 0.0542\n",
            "Epoch 22 Batch 400 Loss 0.0520\n",
            "Epoch 22 Batch 500 Loss 0.0557\n",
            "Epoch 22 Batch 600 Loss 0.0691\n",
            "Epoch 22 Batch 700 Loss 0.0695\n",
            "Epoch 22 Batch 800 Loss 0.0566\n",
            "Epoch 22 Batch 900 Loss 0.0552\n",
            "Epoch 22 Batch 1000 Loss 0.0457\n",
            "Epoch 22 Batch 1100 Loss 0.1251\n",
            "Epoch 22 Batch 1200 Loss 0.0540\n",
            "Epoch 22 Loss 0.0606\n",
            "Time taken for 1 epoch 87.99917006492615 sec\n",
            "\n",
            "Epoch 23 Batch 0 Loss 0.0676\n",
            "Epoch 23 Batch 100 Loss 0.0385\n",
            "Epoch 23 Batch 200 Loss 0.0629\n",
            "Epoch 23 Batch 300 Loss 0.0506\n",
            "Epoch 23 Batch 400 Loss 0.0710\n",
            "Epoch 23 Batch 500 Loss 0.0407\n",
            "Epoch 23 Batch 600 Loss 0.0481\n",
            "Epoch 23 Batch 700 Loss 0.0651\n",
            "Epoch 23 Batch 800 Loss 0.0582\n",
            "Epoch 23 Batch 900 Loss 0.0415\n",
            "Epoch 23 Batch 1000 Loss 0.0640\n",
            "Epoch 23 Batch 1100 Loss 0.0527\n",
            "Epoch 23 Batch 1200 Loss 0.0791\n",
            "Epoch 23 Loss 0.0602\n",
            "Time taken for 1 epoch 85.02139902114868 sec\n",
            "\n",
            "Epoch 24 Batch 0 Loss 0.0689\n",
            "Epoch 24 Batch 100 Loss 0.0518\n",
            "Epoch 24 Batch 200 Loss 0.0291\n",
            "Epoch 24 Batch 300 Loss 0.0411\n",
            "Epoch 24 Batch 400 Loss 0.0517\n",
            "Epoch 24 Batch 500 Loss 0.1008\n",
            "Epoch 24 Batch 600 Loss 0.0682\n",
            "Epoch 24 Batch 700 Loss 0.0588\n",
            "Epoch 24 Batch 800 Loss 0.0504\n",
            "Epoch 24 Batch 900 Loss 0.0276\n",
            "Epoch 24 Batch 1000 Loss 0.1066\n",
            "Epoch 24 Batch 1100 Loss 0.0730\n",
            "Epoch 24 Batch 1200 Loss 0.0820\n",
            "Epoch 24 Loss 0.0594\n",
            "Time taken for 1 epoch 88.66619205474854 sec\n",
            "\n",
            "Epoch 25 Batch 0 Loss 0.0341\n",
            "Epoch 25 Batch 100 Loss 0.0493\n",
            "Epoch 25 Batch 200 Loss 0.0557\n",
            "Epoch 25 Batch 300 Loss 0.0665\n",
            "Epoch 25 Batch 400 Loss 0.0667\n",
            "Epoch 25 Batch 500 Loss 0.0400\n",
            "Epoch 25 Batch 600 Loss 0.1028\n",
            "Epoch 25 Batch 700 Loss 0.0568\n",
            "Epoch 25 Batch 800 Loss 0.0875\n",
            "Epoch 25 Batch 900 Loss 0.0586\n",
            "Epoch 25 Batch 1000 Loss 0.0641\n",
            "Epoch 25 Batch 1100 Loss 0.0810\n",
            "Epoch 25 Batch 1200 Loss 0.0478\n",
            "Epoch 25 Loss 0.0584\n",
            "Time taken for 1 epoch 85.69902420043945 sec\n",
            "\n",
            "Epoch 26 Batch 0 Loss 0.0261\n",
            "Epoch 26 Batch 100 Loss 0.0324\n",
            "Epoch 26 Batch 200 Loss 0.0457\n",
            "Epoch 26 Batch 300 Loss 0.0572\n",
            "Epoch 26 Batch 400 Loss 0.0430\n",
            "Epoch 26 Batch 500 Loss 0.0776\n",
            "Epoch 26 Batch 600 Loss 0.0549\n",
            "Epoch 26 Batch 700 Loss 0.0661\n",
            "Epoch 26 Batch 800 Loss 0.0537\n",
            "Epoch 26 Batch 900 Loss 0.0933\n",
            "Epoch 26 Batch 1000 Loss 0.0376\n",
            "Epoch 26 Batch 1100 Loss 0.0365\n",
            "Epoch 26 Batch 1200 Loss 0.0675\n",
            "Epoch 26 Loss 0.0577\n",
            "Time taken for 1 epoch 89.1224913597107 sec\n",
            "\n",
            "Epoch 27 Batch 0 Loss 0.0717\n",
            "Epoch 27 Batch 100 Loss 0.0415\n",
            "Epoch 27 Batch 200 Loss 0.0431\n",
            "Epoch 27 Batch 300 Loss 0.0464\n",
            "Epoch 27 Batch 400 Loss 0.0708\n",
            "Epoch 27 Batch 500 Loss 0.0986\n",
            "Epoch 27 Batch 600 Loss 0.0524\n",
            "Epoch 27 Batch 700 Loss 0.0566\n",
            "Epoch 27 Batch 800 Loss 0.0917\n",
            "Epoch 27 Batch 900 Loss 0.0532\n",
            "Epoch 27 Batch 1000 Loss 0.0632\n",
            "Epoch 27 Batch 1100 Loss 0.0463\n",
            "Epoch 27 Batch 1200 Loss 0.0534\n",
            "Epoch 27 Loss 0.0566\n",
            "Time taken for 1 epoch 85.91859078407288 sec\n",
            "\n",
            "Epoch 28 Batch 0 Loss 0.0380\n",
            "Epoch 28 Batch 100 Loss 0.0646\n",
            "Epoch 28 Batch 200 Loss 0.0748\n",
            "Epoch 28 Batch 300 Loss 0.0430\n",
            "Epoch 28 Batch 400 Loss 0.0425\n",
            "Epoch 28 Batch 500 Loss 0.0533\n",
            "Epoch 28 Batch 600 Loss 0.0519\n",
            "Epoch 28 Batch 700 Loss 0.0288\n",
            "Epoch 28 Batch 800 Loss 0.1004\n",
            "Epoch 28 Batch 900 Loss 0.0696\n",
            "Epoch 28 Batch 1000 Loss 0.0524\n",
            "Epoch 28 Batch 1100 Loss 0.0592\n",
            "Epoch 28 Batch 1200 Loss 0.0635\n",
            "Epoch 28 Loss 0.0558\n",
            "Time taken for 1 epoch 88.37073707580566 sec\n",
            "\n",
            "Epoch 29 Batch 0 Loss 0.0417\n",
            "Epoch 29 Batch 100 Loss 0.0275\n",
            "Epoch 29 Batch 200 Loss 0.0475\n",
            "Epoch 29 Batch 300 Loss 0.0438\n",
            "Epoch 29 Batch 400 Loss 0.0626\n",
            "Epoch 29 Batch 500 Loss 0.0402\n",
            "Epoch 29 Batch 600 Loss 0.0276\n",
            "Epoch 29 Batch 700 Loss 0.0523\n",
            "Epoch 29 Batch 800 Loss 0.0757\n",
            "Epoch 29 Batch 900 Loss 0.0586\n",
            "Epoch 29 Batch 1000 Loss 0.0746\n",
            "Epoch 29 Batch 1100 Loss 0.0845\n",
            "Epoch 29 Batch 1200 Loss 0.0811\n",
            "Epoch 29 Loss 0.0556\n",
            "Time taken for 1 epoch 85.09581208229065 sec\n",
            "\n",
            "Epoch 30 Batch 0 Loss 0.0406\n",
            "Epoch 30 Batch 100 Loss 0.0647\n",
            "Epoch 30 Batch 200 Loss 0.0477\n",
            "Epoch 30 Batch 300 Loss 0.0659\n",
            "Epoch 30 Batch 400 Loss 0.0418\n",
            "Epoch 30 Batch 500 Loss 0.0286\n",
            "Epoch 30 Batch 600 Loss 0.0400\n",
            "Epoch 30 Batch 700 Loss 0.0532\n",
            "Epoch 30 Batch 800 Loss 0.0477\n",
            "Epoch 30 Batch 900 Loss 0.0660\n",
            "Epoch 30 Batch 1000 Loss 0.0344\n",
            "Epoch 30 Batch 1100 Loss 0.1042\n",
            "Epoch 30 Batch 1200 Loss 0.0738\n",
            "Epoch 30 Loss 0.0551\n",
            "Time taken for 1 epoch 91.02388787269592 sec\n",
            "\n",
            "Epoch 31 Batch 0 Loss 0.0594\n",
            "Epoch 31 Batch 100 Loss 0.0417\n",
            "Epoch 31 Batch 200 Loss 0.0318\n",
            "Epoch 31 Batch 300 Loss 0.0221\n",
            "Epoch 31 Batch 400 Loss 0.0498\n",
            "Epoch 31 Batch 500 Loss 0.0426\n",
            "Epoch 31 Batch 600 Loss 0.0468\n",
            "Epoch 31 Batch 700 Loss 0.0729\n",
            "Epoch 31 Batch 800 Loss 0.0560\n",
            "Epoch 31 Batch 900 Loss 0.0590\n",
            "Epoch 31 Batch 1000 Loss 0.0588\n",
            "Epoch 31 Batch 1100 Loss 0.0839\n",
            "Epoch 31 Batch 1200 Loss 0.0378\n",
            "Epoch 31 Loss 0.0543\n",
            "Time taken for 1 epoch 85.20897388458252 sec\n",
            "\n",
            "Epoch 32 Batch 0 Loss 0.0510\n",
            "Epoch 32 Batch 100 Loss 0.0783\n",
            "Epoch 32 Batch 200 Loss 0.0189\n",
            "Epoch 32 Batch 300 Loss 0.0557\n",
            "Epoch 32 Batch 400 Loss 0.0352\n",
            "Epoch 32 Batch 500 Loss 0.0533\n",
            "Epoch 32 Batch 600 Loss 0.0715\n",
            "Epoch 32 Batch 700 Loss 0.0680\n",
            "Epoch 32 Batch 800 Loss 0.0612\n",
            "Epoch 32 Batch 900 Loss 0.0410\n",
            "Epoch 32 Batch 1000 Loss 0.0754\n",
            "Epoch 32 Batch 1100 Loss 0.0643\n",
            "Epoch 32 Batch 1200 Loss 0.0593\n",
            "Epoch 32 Loss 0.0543\n",
            "Time taken for 1 epoch 88.74361300468445 sec\n",
            "\n",
            "Epoch 33 Batch 0 Loss 0.0311\n",
            "Epoch 33 Batch 100 Loss 0.0263\n",
            "Epoch 33 Batch 200 Loss 0.0487\n",
            "Epoch 33 Batch 300 Loss 0.0581\n",
            "Epoch 33 Batch 400 Loss 0.0492\n",
            "Epoch 33 Batch 500 Loss 0.0335\n",
            "Epoch 33 Batch 600 Loss 0.0666\n",
            "Epoch 33 Batch 700 Loss 0.0762\n",
            "Epoch 33 Batch 800 Loss 0.0625\n",
            "Epoch 33 Batch 900 Loss 0.0702\n",
            "Epoch 33 Batch 1000 Loss 0.0604\n",
            "Epoch 33 Batch 1100 Loss 0.0674\n",
            "Epoch 33 Batch 1200 Loss 0.0660\n",
            "Epoch 33 Loss 0.0528\n",
            "Time taken for 1 epoch 86.57882833480835 sec\n",
            "\n",
            "Epoch 34 Batch 0 Loss 0.0613\n",
            "Epoch 34 Batch 100 Loss 0.0250\n",
            "Epoch 34 Batch 200 Loss 0.0638\n",
            "Epoch 34 Batch 300 Loss 0.0628\n",
            "Epoch 34 Batch 400 Loss 0.0479\n",
            "Epoch 34 Batch 500 Loss 0.0486\n",
            "Epoch 34 Batch 600 Loss 0.0411\n",
            "Epoch 34 Batch 700 Loss 0.0471\n",
            "Epoch 34 Batch 800 Loss 0.0384\n",
            "Epoch 34 Batch 900 Loss 0.0522\n",
            "Epoch 34 Batch 1000 Loss 0.0477\n",
            "Epoch 34 Batch 1100 Loss 0.1100\n",
            "Epoch 34 Batch 1200 Loss 0.0406\n",
            "Epoch 34 Loss 0.0523\n",
            "Time taken for 1 epoch 89.76474905014038 sec\n",
            "\n",
            "Epoch 35 Batch 0 Loss 0.0644\n",
            "Epoch 35 Batch 100 Loss 0.0311\n",
            "Epoch 35 Batch 200 Loss 0.0140\n",
            "Epoch 35 Batch 300 Loss 0.0606\n",
            "Epoch 35 Batch 400 Loss 0.0647\n",
            "Epoch 35 Batch 500 Loss 0.0473\n",
            "Epoch 35 Batch 600 Loss 0.0502\n",
            "Epoch 35 Batch 700 Loss 0.0385\n",
            "Epoch 35 Batch 800 Loss 0.0658\n",
            "Epoch 35 Batch 900 Loss 0.0676\n",
            "Epoch 35 Batch 1000 Loss 0.0570\n",
            "Epoch 35 Batch 1100 Loss 0.0392\n",
            "Epoch 35 Batch 1200 Loss 0.0834\n",
            "Epoch 35 Loss 0.0520\n",
            "Time taken for 1 epoch 85.03502774238586 sec\n",
            "\n",
            "Epoch 36 Batch 0 Loss 0.0188\n",
            "Epoch 36 Batch 100 Loss 0.0289\n"
          ],
          "name": "stdout"
        },
        {
          "output_type": "stream",
          "text": [
            "Epoch 36 Batch 200 Loss 0.0383\n",
            "Epoch 36 Batch 300 Loss 0.0827\n",
            "Epoch 36 Batch 400 Loss 0.0306\n",
            "Epoch 36 Batch 500 Loss 0.0312\n",
            "Epoch 36 Batch 600 Loss 0.0664\n",
            "Epoch 36 Batch 700 Loss 0.0600\n",
            "Epoch 36 Batch 800 Loss 0.0731\n",
            "Epoch 36 Batch 900 Loss 0.0726\n",
            "Epoch 36 Batch 1000 Loss 0.0827\n",
            "Epoch 36 Batch 1100 Loss 0.0750\n",
            "Epoch 36 Batch 1200 Loss 0.0945\n",
            "Epoch 36 Loss 0.0516\n",
            "Time taken for 1 epoch 88.13980269432068 sec\n",
            "\n",
            "Epoch 37 Batch 0 Loss 0.0407\n",
            "Epoch 37 Batch 100 Loss 0.0426\n",
            "Epoch 37 Batch 200 Loss 0.0428\n",
            "Epoch 37 Batch 300 Loss 0.0588\n",
            "Epoch 37 Batch 400 Loss 0.0598\n",
            "Epoch 37 Batch 500 Loss 0.0612\n",
            "Epoch 37 Batch 600 Loss 0.0279\n",
            "Epoch 37 Batch 700 Loss 0.0390\n",
            "Epoch 37 Batch 800 Loss 0.0297\n",
            "Epoch 37 Batch 900 Loss 0.0519\n",
            "Epoch 37 Batch 1000 Loss 0.0322\n",
            "Epoch 37 Batch 1100 Loss 0.0813\n",
            "Epoch 37 Batch 1200 Loss 0.1049\n",
            "Epoch 37 Loss 0.0512\n",
            "Time taken for 1 epoch 84.84851145744324 sec\n",
            "\n",
            "Epoch 38 Batch 0 Loss 0.0232\n",
            "Epoch 38 Batch 100 Loss 0.0418\n",
            "Epoch 38 Batch 200 Loss 0.0482\n",
            "Epoch 38 Batch 300 Loss 0.0211\n",
            "Epoch 38 Batch 400 Loss 0.0717\n",
            "Epoch 38 Batch 500 Loss 0.0375\n",
            "Epoch 38 Batch 600 Loss 0.0475\n",
            "Epoch 38 Batch 700 Loss 0.0561\n",
            "Epoch 38 Batch 800 Loss 0.0451\n",
            "Epoch 38 Batch 900 Loss 0.1187\n",
            "Epoch 38 Batch 1000 Loss 0.0932\n",
            "Epoch 38 Batch 1100 Loss 0.0789\n",
            "Epoch 38 Batch 1200 Loss 0.0606\n",
            "Epoch 38 Loss 0.0506\n",
            "Time taken for 1 epoch 88.0778214931488 sec\n",
            "\n",
            "Epoch 39 Batch 0 Loss 0.0329\n",
            "Epoch 39 Batch 100 Loss 0.0679\n",
            "Epoch 39 Batch 200 Loss 0.0455\n",
            "Epoch 39 Batch 300 Loss 0.0779\n",
            "Epoch 39 Batch 400 Loss 0.0401\n",
            "Epoch 39 Batch 500 Loss 0.0291\n",
            "Epoch 39 Batch 600 Loss 0.0713\n",
            "Epoch 39 Batch 700 Loss 0.0496\n",
            "Epoch 39 Batch 800 Loss 0.0207\n",
            "Epoch 39 Batch 900 Loss 0.0763\n",
            "Epoch 39 Batch 1000 Loss 0.1025\n",
            "Epoch 39 Batch 1100 Loss 0.0429\n",
            "Epoch 39 Batch 1200 Loss 0.0766\n",
            "Epoch 39 Loss 0.0504\n",
            "Time taken for 1 epoch 85.17545342445374 sec\n",
            "\n",
            "Epoch 40 Batch 0 Loss 0.0209\n",
            "Epoch 40 Batch 100 Loss 0.0268\n",
            "Epoch 40 Batch 200 Loss 0.0431\n",
            "Epoch 40 Batch 300 Loss 0.0560\n",
            "Epoch 40 Batch 400 Loss 0.0480\n",
            "Epoch 40 Batch 500 Loss 0.0368\n",
            "Epoch 40 Batch 600 Loss 0.0306\n",
            "Epoch 40 Batch 700 Loss 0.0412\n",
            "Epoch 40 Batch 800 Loss 0.0577\n",
            "Epoch 40 Batch 900 Loss 0.0239\n",
            "Epoch 40 Batch 1000 Loss 0.0340\n",
            "Epoch 40 Batch 1100 Loss 0.0559\n",
            "Epoch 40 Batch 1200 Loss 0.0463\n",
            "Epoch 40 Loss 0.0500\n",
            "Time taken for 1 epoch 89.061931848526 sec\n",
            "\n",
            "Epoch 41 Batch 0 Loss 0.0473\n",
            "Epoch 41 Batch 100 Loss 0.0338\n",
            "Epoch 41 Batch 200 Loss 0.0261\n",
            "Epoch 41 Batch 300 Loss 0.0369\n",
            "Epoch 41 Batch 400 Loss 0.0340\n",
            "Epoch 41 Batch 500 Loss 0.0479\n",
            "Epoch 41 Batch 600 Loss 0.0307\n",
            "Epoch 41 Batch 700 Loss 0.0632\n",
            "Epoch 41 Batch 800 Loss 0.0419\n",
            "Epoch 41 Batch 900 Loss 0.0331\n",
            "Epoch 41 Batch 1000 Loss 0.1012\n",
            "Epoch 41 Batch 1100 Loss 0.0494\n",
            "Epoch 41 Batch 1200 Loss 0.0731\n",
            "Epoch 41 Loss 0.0496\n",
            "Time taken for 1 epoch 86.2412519454956 sec\n",
            "\n",
            "Epoch 42 Batch 0 Loss 0.0243\n",
            "Epoch 42 Batch 100 Loss 0.0732\n",
            "Epoch 42 Batch 200 Loss 0.0257\n",
            "Epoch 42 Batch 300 Loss 0.0335\n",
            "Epoch 42 Batch 400 Loss 0.0362\n",
            "Epoch 42 Batch 500 Loss 0.0699\n",
            "Epoch 42 Batch 600 Loss 0.0473\n",
            "Epoch 42 Batch 700 Loss 0.0626\n",
            "Epoch 42 Batch 800 Loss 0.0386\n",
            "Epoch 42 Batch 900 Loss 0.0594\n",
            "Epoch 42 Batch 1000 Loss 0.0624\n",
            "Epoch 42 Batch 1100 Loss 0.0696\n",
            "Epoch 42 Batch 1200 Loss 0.0664\n",
            "Epoch 42 Loss 0.0492\n",
            "Time taken for 1 epoch 89.18715524673462 sec\n",
            "\n",
            "Epoch 43 Batch 0 Loss 0.0405\n",
            "Epoch 43 Batch 100 Loss 0.0503\n",
            "Epoch 43 Batch 200 Loss 0.0538\n",
            "Epoch 43 Batch 300 Loss 0.0652\n",
            "Epoch 43 Batch 400 Loss 0.0677\n",
            "Epoch 43 Batch 500 Loss 0.0482\n",
            "Epoch 43 Batch 600 Loss 0.0557\n",
            "Epoch 43 Batch 700 Loss 0.0615\n",
            "Epoch 43 Batch 800 Loss 0.0553\n",
            "Epoch 43 Batch 900 Loss 0.0695\n",
            "Epoch 43 Batch 1000 Loss 0.0435\n",
            "Epoch 43 Batch 1100 Loss 0.0557\n",
            "Epoch 43 Batch 1200 Loss 0.0457\n",
            "Epoch 43 Loss 0.0488\n",
            "Time taken for 1 epoch 85.80350661277771 sec\n",
            "\n",
            "Epoch 44 Batch 0 Loss 0.0367\n",
            "Epoch 44 Batch 100 Loss 0.0252\n",
            "Epoch 44 Batch 200 Loss 0.0289\n",
            "Epoch 44 Batch 300 Loss 0.0447\n",
            "Epoch 44 Batch 400 Loss 0.0426\n",
            "Epoch 44 Batch 500 Loss 0.0345\n",
            "Epoch 44 Batch 600 Loss 0.0305\n",
            "Epoch 44 Batch 700 Loss 0.0356\n",
            "Epoch 44 Batch 800 Loss 0.0443\n",
            "Epoch 44 Batch 900 Loss 0.0865\n",
            "Epoch 44 Batch 1000 Loss 0.0581\n",
            "Epoch 44 Batch 1100 Loss 0.0335\n",
            "Epoch 44 Batch 1200 Loss 0.0715\n",
            "Epoch 44 Loss 0.0482\n",
            "Time taken for 1 epoch 88.90594553947449 sec\n",
            "\n",
            "Epoch 45 Batch 0 Loss 0.0340\n",
            "Epoch 45 Batch 100 Loss 0.0484\n",
            "Epoch 45 Batch 200 Loss 0.0213\n",
            "Epoch 45 Batch 300 Loss 0.0368\n",
            "Epoch 45 Batch 400 Loss 0.0731\n",
            "Epoch 45 Batch 500 Loss 0.0458\n",
            "Epoch 45 Batch 600 Loss 0.0629\n",
            "Epoch 45 Batch 700 Loss 0.0363\n",
            "Epoch 45 Batch 800 Loss 0.0489\n",
            "Epoch 45 Batch 900 Loss 0.0658\n",
            "Epoch 45 Batch 1000 Loss 0.0402\n",
            "Epoch 45 Batch 1100 Loss 0.0627\n",
            "Epoch 45 Batch 1200 Loss 0.0831\n",
            "Epoch 45 Loss 0.0482\n",
            "Time taken for 1 epoch 86.24373364448547 sec\n",
            "\n",
            "Epoch 46 Batch 0 Loss 0.0197\n",
            "Epoch 46 Batch 100 Loss 0.0492\n",
            "Epoch 46 Batch 200 Loss 0.0469\n",
            "Epoch 46 Batch 300 Loss 0.0443\n",
            "Epoch 46 Batch 400 Loss 0.0525\n",
            "Epoch 46 Batch 500 Loss 0.0500\n",
            "Epoch 46 Batch 600 Loss 0.0690\n",
            "Epoch 46 Batch 700 Loss 0.0841\n",
            "Epoch 46 Batch 800 Loss 0.0499\n",
            "Epoch 46 Batch 900 Loss 0.0465\n",
            "Epoch 46 Batch 1000 Loss 0.0540\n",
            "Epoch 46 Batch 1100 Loss 0.0436\n",
            "Epoch 46 Batch 1200 Loss 0.0538\n",
            "Epoch 46 Loss 0.0482\n",
            "Time taken for 1 epoch 89.43255066871643 sec\n",
            "\n",
            "Epoch 47 Batch 0 Loss 0.0232\n",
            "Epoch 47 Batch 100 Loss 0.0294\n",
            "Epoch 47 Batch 200 Loss 0.0345\n",
            "Epoch 47 Batch 300 Loss 0.0826\n",
            "Epoch 47 Batch 400 Loss 0.0559\n",
            "Epoch 47 Batch 500 Loss 0.0671\n",
            "Epoch 47 Batch 600 Loss 0.0347\n",
            "Epoch 47 Batch 700 Loss 0.0417\n",
            "Epoch 47 Batch 800 Loss 0.0306\n",
            "Epoch 47 Batch 900 Loss 0.0592\n",
            "Epoch 47 Batch 1000 Loss 0.0522\n",
            "Epoch 47 Batch 1100 Loss 0.0407\n",
            "Epoch 47 Batch 1200 Loss 0.0620\n",
            "Epoch 47 Loss 0.0478\n",
            "Time taken for 1 epoch 86.06283259391785 sec\n",
            "\n",
            "Epoch 48 Batch 0 Loss 0.0437\n",
            "Epoch 48 Batch 100 Loss 0.0412\n",
            "Epoch 48 Batch 200 Loss 0.0218\n",
            "Epoch 48 Batch 300 Loss 0.0519\n",
            "Epoch 48 Batch 400 Loss 0.0296\n",
            "Epoch 48 Batch 500 Loss 0.0411\n",
            "Epoch 48 Batch 600 Loss 0.0380\n",
            "Epoch 48 Batch 700 Loss 0.0499\n",
            "Epoch 48 Batch 800 Loss 0.0528\n",
            "Epoch 48 Batch 900 Loss 0.0452\n",
            "Epoch 48 Batch 1000 Loss 0.0333\n",
            "Epoch 48 Batch 1100 Loss 0.0535\n",
            "Epoch 48 Batch 1200 Loss 0.0627\n",
            "Epoch 48 Loss 0.0469\n",
            "Time taken for 1 epoch 89.01904344558716 sec\n",
            "\n",
            "Epoch 49 Batch 0 Loss 0.0243\n",
            "Epoch 49 Batch 100 Loss 0.0439\n",
            "Epoch 49 Batch 200 Loss 0.0328\n",
            "Epoch 49 Batch 300 Loss 0.0446\n",
            "Epoch 49 Batch 400 Loss 0.0736\n",
            "Epoch 49 Batch 500 Loss 0.0637\n",
            "Epoch 49 Batch 600 Loss 0.0439\n",
            "Epoch 49 Batch 700 Loss 0.0481\n",
            "Epoch 49 Batch 800 Loss 0.0462\n",
            "Epoch 49 Batch 900 Loss 0.0742\n",
            "Epoch 49 Batch 1000 Loss 0.0578\n",
            "Epoch 49 Batch 1100 Loss 0.0401\n",
            "Epoch 49 Batch 1200 Loss 0.0513\n",
            "Epoch 49 Loss 0.0469\n",
            "Time taken for 1 epoch 86.11167025566101 sec\n",
            "\n",
            "Epoch 50 Batch 0 Loss 0.0348\n",
            "Epoch 50 Batch 100 Loss 0.0354\n",
            "Epoch 50 Batch 200 Loss 0.0525\n",
            "Epoch 50 Batch 300 Loss 0.0310\n",
            "Epoch 50 Batch 400 Loss 0.0454\n",
            "Epoch 50 Batch 500 Loss 0.0342\n",
            "Epoch 50 Batch 600 Loss 0.0785\n",
            "Epoch 50 Batch 700 Loss 0.0354\n",
            "Epoch 50 Batch 800 Loss 0.0550\n",
            "Epoch 50 Batch 900 Loss 0.0609\n",
            "Epoch 50 Batch 1000 Loss 0.0416\n",
            "Epoch 50 Batch 1100 Loss 0.0451\n",
            "Epoch 50 Batch 1200 Loss 0.1211\n",
            "Epoch 50 Loss 0.0468\n",
            "Time taken for 1 epoch 89.78893947601318 sec\n",
            "\n"
          ],
          "name": "stdout"
        }
      ]
    },
    {
      "cell_type": "code",
      "metadata": {
        "id": "OUVzTypGNspM",
        "outputId": "b589344f-9ca9-4c56-c869-57978301d616"
      },
      "source": [
        "plt.figure(figsize=(8, 6))\n",
        "plt.plot(loss_info_to_plot)\n",
        "plt.grid(True)\n",
        "plt.show()"
      ],
      "execution_count": null,
      "outputs": [
        {
          "output_type": "display_data",
          "data": {
            "image/png": "[encoded data removed]",
            "text/plain": [
              "<Figure size 576x432 with 1 Axes>"
            ]
          },
          "metadata": {
            "tags": [],
            "needs_background": "light"
          }
        }
      ]
    },
    {
      "cell_type": "markdown",
      "metadata": {
        "id": "mU3Ce8M6I3rz"
      },
      "source": [
        "## Translate\n",
        "\n",
        "* The evaluate function is similar to the training loop, except we don't use *teacher forcing* here. The input to the decoder at each time step is its previous predictions along with the hidden state and the encoder output.\n",
        "* Stop predicting when the model predicts the *end token*.\n",
        "* And store the *attention weights for every time step*.\n",
        "\n",
        "Note: The encoder output is calculated only once for one input."
      ]
    },
    {
      "cell_type": "code",
      "metadata": {
        "id": "EbQpyYs13jF_"
      },
      "source": [
        "def evaluate(sentence):\n",
        "    attention_plot = np.zeros((max_length_targ, max_length_inp))\n",
        "\n",
        "    sentence = preprocess_sentence(sentence)\n",
        "\n",
        "    inputs = [inp_lang.word_index[i] for i in sentence.split(' ')]\n",
        "    inputs = tf.keras.preprocessing.sequence.pad_sequences([inputs],\n",
        "                                                         maxlen=max_length_inp,\n",
        "                                                         padding='post')\n",
        "    inputs = tf.convert_to_tensor(inputs)\n",
        "\n",
        "    result = ''\n",
        "\n",
        "    hidden = [tf.zeros((1, units))]\n",
        "    enc_hidden = encoder(inputs, hidden)\n",
        "\n",
        "    dec_hidden = enc_hidden\n",
        "    dec_input = tf.expand_dims([targ_lang.word_index['<start>']], 0)\n",
        "\n",
        "    for t in range(max_length_targ):\n",
        "        predictions, dec_hidden = decoder(dec_input, dec_hidden)\n",
        "\n",
        "        # storing the attention weights to plot later on\n",
        "        predicted_id = tf.argmax(predictions[0]).numpy()\n",
        "        result += targ_lang.index_word[predicted_id] + ' '\n",
        "\n",
        "        if targ_lang.index_word[predicted_id] == '<end>':\n",
        "            return result, sentence\n",
        "\n",
        "        # the predicted ID is fed back into the model\n",
        "        dec_input = tf.expand_dims([predicted_id], 0)\n",
        "\n",
        "    return result, sentence"
      ],
      "execution_count": null,
      "outputs": []
    },
    {
      "cell_type": "code",
      "metadata": {
        "id": "sl9zUHzg3jGI"
      },
      "source": [
        "def translate(sentence):\n",
        "    result, sentence = evaluate(sentence)\n",
        "\n",
        "    print('Input: %s' % (sentence))\n",
        "    print('Predicted translation: {}'.format(result))"
      ],
      "execution_count": null,
      "outputs": []
    },
    {
      "cell_type": "markdown",
      "metadata": {
        "id": "n250XbnjOaqP"
      },
      "source": [
        "## Restore the latest checkpoint and test"
      ]
    },
    {
      "cell_type": "code",
      "metadata": {
        "colab": {
          "base_uri": "https://localhost:8080/"
        },
        "id": "UJpT9D5_OgP6",
        "outputId": "d65a0803-025f-4810-f49d-4f71e4944528"
      },
      "source": [
        "# restoring the latest checkpoint in checkpoint_dir\n",
        "checkpoint.restore(tf.train.latest_checkpoint(checkpoint_dir))"
      ],
      "execution_count": null,
      "outputs": [
        {
          "output_type": "execute_result",
          "data": {
            "text/plain": [
              "<tensorflow.python.training.tracking.util.CheckpointLoadStatus at 0x24600e360d0>"
            ]
          },
          "metadata": {
            "tags": []
          },
          "execution_count": 31
        }
      ]
    },
    {
      "cell_type": "code",
      "metadata": {
        "colab": {
          "base_uri": "https://localhost:8080/"
        },
        "id": "WrAM0FDomq3E",
        "outputId": "143e39a1-fa22-4635-e852-5e641ed0a086"
      },
      "source": [
        "translate('Здесь хорошо.')"
      ],
      "execution_count": null,
      "outputs": [
        {
          "output_type": "stream",
          "text": [
            "Input: <start> здесь хорошо . <end>\n",
            "Predicted translation: it's good here . <end> \n"
          ],
          "name": "stdout"
        }
      ]
    },
    {
      "cell_type": "code",
      "metadata": {
        "colab": {
          "base_uri": "https://localhost:8080/"
        },
        "id": "5bhFfwcIMX5i",
        "outputId": "5cf5d1a2-0e5e-44e9-89c3-ed89fed9c7df"
      },
      "source": [
        "translate('Я не смогу поехать.')"
      ],
      "execution_count": null,
      "outputs": [
        {
          "output_type": "stream",
          "text": [
            "Input: <start> я не смогу поехать . <end>\n",
            "Predicted translation: i can't go . <end> \n"
          ],
          "name": "stdout"
        }
      ]
    },
    {
      "cell_type": "code",
      "metadata": {
        "colab": {
          "base_uri": "https://localhost:8080/"
        },
        "id": "zSx2iM36EZQZ",
        "outputId": "d4cfe232-ef0b-4ab4-a0b2-110733aaa36c"
      },
      "source": [
        "translate(u'Вы еще дома?')"
      ],
      "execution_count": null,
      "outputs": [
        {
          "output_type": "stream",
          "text": [
            "Input: <start> вы еще дома ? <end>\n",
            "Predicted translation: are you home yet ? <end> \n"
          ],
          "name": "stdout"
        }
      ]
    },
    {
      "cell_type": "code",
      "metadata": {
        "colab": {
          "base_uri": "https://localhost:8080/"
        },
        "id": "A3LLCx3ZE0Ls",
        "outputId": "b64aa087-8232-474e-e3c7-98c186081845"
      },
      "source": [
        "translate(u'Вы все еще дома?')"
      ],
      "execution_count": null,
      "outputs": [
        {
          "output_type": "stream",
          "text": [
            "Input: <start> вы все еще дома ? <end>\n",
            "Predicted translation: are you still at home ? <end> \n"
          ],
          "name": "stdout"
        }
      ]
    },
    {
      "cell_type": "code",
      "metadata": {
        "colab": {
          "base_uri": "https://localhost:8080/"
        },
        "id": "DUQVLVqUE1YW",
        "outputId": "b13a0911-5243-463c-ac2b-5381fe027c51"
      },
      "source": [
        "translate(u'Попробуй сделать это.')"
      ],
      "execution_count": null,
      "outputs": [
        {
          "output_type": "stream",
          "text": [
            "Input: <start> попробуй сделать это . <end>\n",
            "Predicted translation: try and do it . <end> \n"
          ],
          "name": "stdout"
        }
      ]
    },
    {
      "cell_type": "code",
      "metadata": {
        "colab": {
          "base_uri": "https://localhost:8080/"
        },
        "id": "f09_hUFx9EJh",
        "outputId": "c23aaff7-a432-45f3-f15e-4cfa2b5d74a7"
      },
      "source": [
        "translate(u'Я люблю, когда идет снег.')"
      ],
      "execution_count": null,
      "outputs": [
        {
          "output_type": "stream",
          "text": [
            "Input: <start> я люблю , когда идет снег . <end>\n",
            "Predicted translation: i think we'll snow today . <end> \n"
          ],
          "name": "stdout"
        }
      ]
    },
    {
      "cell_type": "code",
      "metadata": {
        "colab": {
          "base_uri": "https://localhost:8080/"
        },
        "id": "e7c5p8rmkHQG",
        "outputId": "d4682d71-f778-41f5-e4a9-2e1235976123"
      },
      "source": [
        "translate(u'Я никогда такого не делаю.')"
      ],
      "execution_count": null,
      "outputs": [
        {
          "output_type": "stream",
          "text": [
            "Input: <start> я никогда такого не делаю . <end>\n",
            "Predicted translation: i never do that . <end> \n"
          ],
          "name": "stdout"
        }
      ]
    },
    {
      "cell_type": "code",
      "metadata": {
        "id": "vDjihb7XNspQ"
      },
      "source": [
        "#tf.expand_dims([targ_lang.word_index['<start>']] * BATCH_SIZE, 1)"
      ],
      "execution_count": null,
      "outputs": []
    },
    {
      "cell_type": "code",
      "metadata": {
        "id": "uuLplrjINspQ"
      },
      "source": [
        ""
      ],
      "execution_count": null,
      "outputs": []
    }
  ]
}