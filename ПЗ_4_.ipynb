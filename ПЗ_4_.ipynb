{
  "nbformat": 4,
  "nbformat_minor": 0,
  "metadata": {
    "colab": {
      "name": "ПЗ 4 .ipynb",
      "provenance": [],
      "collapsed_sections": [
        "oy0GNiJ4jbWZ"
      ],
      "toc_visible": true
    },
    "kernelspec": {
      "display_name": "Python 3",
      "language": "python",
      "name": "python3"
    },
    "language_info": {
      "codemirror_mode": {
        "name": "ipython",
        "version": 3
      },
      "file_extension": ".py",
      "mimetype": "text/x-python",
      "name": "python",
      "nbconvert_exporter": "python",
      "pygments_lexer": "ipython3",
      "version": "3.8.8"
    },
    "widgets": {
      "application/vnd.jupyter.widget-state+json": {
        "c5db15f805134b869887817835f301b1": {
          "model_module": "@jupyter-widgets/controls",
          "model_name": "HBoxModel",
          "state": {
            "_dom_classes": [],
            "_model_module": "@jupyter-widgets/controls",
            "_model_module_version": "1.5.0",
            "_model_name": "HBoxModel",
            "_view_count": null,
            "_view_module": "@jupyter-widgets/controls",
            "_view_module_version": "1.5.0",
            "_view_name": "HBoxView",
            "box_style": "",
            "children": [
              "IPY_MODEL_85065c1565e34dcf949fe1b000cae741",
              "IPY_MODEL_4161c2a28c2e4d53993e0c60232ba619"
            ],
            "layout": "IPY_MODEL_c6ad8e27121c4f909e74ec993281570d"
          }
        },
        "c6ad8e27121c4f909e74ec993281570d": {
          "model_module": "@jupyter-widgets/base",
          "model_name": "LayoutModel",
          "state": {
            "_model_module": "@jupyter-widgets/base",
            "_model_module_version": "1.2.0",
            "_model_name": "LayoutModel",
            "_view_count": null,
            "_view_module": "@jupyter-widgets/base",
            "_view_module_version": "1.2.0",
            "_view_name": "LayoutView",
            "align_content": null,
            "align_items": null,
            "align_self": null,
            "border": null,
            "bottom": null,
            "display": null,
            "flex": null,
            "flex_flow": null,
            "grid_area": null,
            "grid_auto_columns": null,
            "grid_auto_flow": null,
            "grid_auto_rows": null,
            "grid_column": null,
            "grid_gap": null,
            "grid_row": null,
            "grid_template_areas": null,
            "grid_template_columns": null,
            "grid_template_rows": null,
            "height": null,
            "justify_content": null,
            "justify_items": null,
            "left": null,
            "margin": null,
            "max_height": null,
            "max_width": null,
            "min_height": null,
            "min_width": null,
            "object_fit": null,
            "object_position": null,
            "order": null,
            "overflow": null,
            "overflow_x": null,
            "overflow_y": null,
            "padding": null,
            "right": null,
            "top": null,
            "visibility": null,
            "width": null
          }
        },
        "85065c1565e34dcf949fe1b000cae741": {
          "model_module": "@jupyter-widgets/controls",
          "model_name": "FloatProgressModel",
          "state": {
            "_dom_classes": [],
            "_model_module": "@jupyter-widgets/controls",
            "_model_module_version": "1.5.0",
            "_model_name": "FloatProgressModel",
            "_view_count": null,
            "_view_module": "@jupyter-widgets/controls",
            "_view_module_version": "1.5.0",
            "_view_name": "ProgressView",
            "bar_style": "success",
            "description": "100%",
            "description_tooltip": null,
            "layout": "IPY_MODEL_15bf3aeff54047258371a0d0e2babf7c",
            "max": 10000,
            "min": 0,
            "orientation": "horizontal",
            "style": "IPY_MODEL_32891e0e6ed5423cbe9b35b9712411d5",
            "value": 10000
          }
        },
        "4161c2a28c2e4d53993e0c60232ba619": {
          "model_module": "@jupyter-widgets/controls",
          "model_name": "HTMLModel",
          "state": {
            "_dom_classes": [],
            "_model_module": "@jupyter-widgets/controls",
            "_model_module_version": "1.5.0",
            "_model_name": "HTMLModel",
            "_view_count": null,
            "_view_module": "@jupyter-widgets/controls",
            "_view_module_version": "1.5.0",
            "_view_name": "HTMLView",
            "description": "",
            "description_tooltip": null,
            "layout": "IPY_MODEL_b4e7967843e94cae8c4a8d0cc8d41ce3",
            "placeholder": "​",
            "style": "IPY_MODEL_7695232c7bb54bc2b9b679c127b2706e",
            "value": " 10000/10000 [25:35&lt;00:00,  6.51it/s]"
          }
        },
        "32891e0e6ed5423cbe9b35b9712411d5": {
          "model_module": "@jupyter-widgets/controls",
          "model_name": "ProgressStyleModel",
          "state": {
            "_model_module": "@jupyter-widgets/controls",
            "_model_module_version": "1.5.0",
            "_model_name": "ProgressStyleModel",
            "_view_count": null,
            "_view_module": "@jupyter-widgets/base",
            "_view_module_version": "1.2.0",
            "_view_name": "StyleView",
            "bar_color": null,
            "description_width": "initial"
          }
        },
        "15bf3aeff54047258371a0d0e2babf7c": {
          "model_module": "@jupyter-widgets/base",
          "model_name": "LayoutModel",
          "state": {
            "_model_module": "@jupyter-widgets/base",
            "_model_module_version": "1.2.0",
            "_model_name": "LayoutModel",
            "_view_count": null,
            "_view_module": "@jupyter-widgets/base",
            "_view_module_version": "1.2.0",
            "_view_name": "LayoutView",
            "align_content": null,
            "align_items": null,
            "align_self": null,
            "border": null,
            "bottom": null,
            "display": null,
            "flex": null,
            "flex_flow": null,
            "grid_area": null,
            "grid_auto_columns": null,
            "grid_auto_flow": null,
            "grid_auto_rows": null,
            "grid_column": null,
            "grid_gap": null,
            "grid_row": null,
            "grid_template_areas": null,
            "grid_template_columns": null,
            "grid_template_rows": null,
            "height": null,
            "justify_content": null,
            "justify_items": null,
            "left": null,
            "margin": null,
            "max_height": null,
            "max_width": null,
            "min_height": null,
            "min_width": null,
            "object_fit": null,
            "object_position": null,
            "order": null,
            "overflow": null,
            "overflow_x": null,
            "overflow_y": null,
            "padding": null,
            "right": null,
            "top": null,
            "visibility": null,
            "width": null
          }
        },
        "7695232c7bb54bc2b9b679c127b2706e": {
          "model_module": "@jupyter-widgets/controls",
          "model_name": "DescriptionStyleModel",
          "state": {
            "_model_module": "@jupyter-widgets/controls",
            "_model_module_version": "1.5.0",
            "_model_name": "DescriptionStyleModel",
            "_view_count": null,
            "_view_module": "@jupyter-widgets/base",
            "_view_module_version": "1.2.0",
            "_view_name": "StyleView",
            "description_width": ""
          }
        },
        "b4e7967843e94cae8c4a8d0cc8d41ce3": {
          "model_module": "@jupyter-widgets/base",
          "model_name": "LayoutModel",
          "state": {
            "_model_module": "@jupyter-widgets/base",
            "_model_module_version": "1.2.0",
            "_model_name": "LayoutModel",
            "_view_count": null,
            "_view_module": "@jupyter-widgets/base",
            "_view_module_version": "1.2.0",
            "_view_name": "LayoutView",
            "align_content": null,
            "align_items": null,
            "align_self": null,
            "border": null,
            "bottom": null,
            "display": null,
            "flex": null,
            "flex_flow": null,
            "grid_area": null,
            "grid_auto_columns": null,
            "grid_auto_flow": null,
            "grid_auto_rows": null,
            "grid_column": null,
            "grid_gap": null,
            "grid_row": null,
            "grid_template_areas": null,
            "grid_template_columns": null,
            "grid_template_rows": null,
            "height": null,
            "justify_content": null,
            "justify_items": null,
            "left": null,
            "margin": null,
            "max_height": null,
            "max_width": null,
            "min_height": null,
            "min_width": null,
            "object_fit": null,
            "object_position": null,
            "order": null,
            "overflow": null,
            "overflow_x": null,
            "overflow_y": null,
            "padding": null,
            "right": null,
            "top": null,
            "visibility": null,
            "width": null
          }
        }
      }
    }
  },
  "cells": [
    {
      "cell_type": "markdown",
      "metadata": {
        "id": "BFe4TBFLf6Mm"
      },
      "source": [
        "## ПЗ 4"
      ]
    },
    {
      "cell_type": "markdown",
      "metadata": {
        "id": "iF-hpkh8f6Mn"
      },
      "source": [
        "Построим тематические модели для корпуса новостей Lenta.ru."
      ]
    },
    {
      "cell_type": "code",
      "metadata": {
        "colab": {
          "base_uri": "https://localhost:8080/"
        },
        "id": "YAtVRJjKHs9s",
        "outputId": "87c792bb-6d30-4695-ad09-0561600c3a4d"
      },
      "source": [
        "from corus import load_lenta\n",
        "\n",
        "path = 'lenta-ru-news.csv.gz'\n",
        "records = load_lenta(path)\n",
        "next(records)"
      ],
      "execution_count": null,
      "outputs": [
        {
          "output_type": "execute_result",
          "data": {
            "text/plain": [
              "LentaRecord(\n",
              "    url='https://lenta.ru/news/2018/12/14/cancer/',\n",
              "    title='Названы регионы России с\\xa0самой высокой смертностью от\\xa0рака',\n",
              "    text='Вице-премьер по социальным вопросам Татьяна Голикова рассказала, в каких регионах России зафиксирована наиболее высокая смертность от рака, сообщает РИА Новости. По словам Голиковой, чаще всего онкологические заболевания становились причиной смерти в Псковской, Тверской, Тульской и Орловской областях, а также в Севастополе. Вице-премьер напомнила, что главные факторы смертности в России — рак и болезни системы кровообращения. В начале года стало известно, что смертность от онкологических заболеваний среди россиян снизилась впервые за три года. По данным Росстата, в 2017 году от рака умерли 289 тысяч человек. Это на 3,5 процента меньше, чем годом ранее.',\n",
              "    topic='Россия',\n",
              "    tags='Общество',\n",
              "    date=None\n",
              ")"
            ]
          },
          "metadata": {
            "tags": []
          },
          "execution_count": 1
        }
      ]
    },
    {
      "cell_type": "code",
      "metadata": {
        "id": "ITPj_bowH-IW"
      },
      "source": [
        "data = [(record.title, record.topic, record.text, record.tags) for record in records]"
      ],
      "execution_count": null,
      "outputs": []
    },
    {
      "cell_type": "code",
      "metadata": {
        "colab": {
          "base_uri": "https://localhost:8080/"
        },
        "id": "GCcPptuCIHnf",
        "outputId": "f06717c7-d6d9-40a0-d805-d191fb8c9d03"
      },
      "source": [
        "import pandas as pd\n",
        "pd.set_option('display.max_columns', None)  \n",
        "pd.set_option('display.expand_frame_repr', False)\n",
        "pd.set_option('max_colwidth', -1)"
      ],
      "execution_count": null,
      "outputs": [
        {
          "output_type": "stream",
          "text": [
            "<ipython-input-3-5b7176a9d163>:4: FutureWarning: Passing a negative integer is deprecated in version 1.0 and will not be supported in future version. Instead, use None to not limit the column width.\n",
            "  pd.set_option('max_colwidth', -1)\n"
          ],
          "name": "stderr"
        }
      ]
    },
    {
      "cell_type": "code",
      "metadata": {
        "id": "Ei4q1iWsIEfv"
      },
      "source": [
        "data = pd.DataFrame(data, columns=['title','topic','text','tags'])"
      ],
      "execution_count": null,
      "outputs": []
    },
    {
      "cell_type": "code",
      "metadata": {
        "colab": {
          "base_uri": "https://localhost:8080/",
          "height": 703
        },
        "id": "dFGkSw3mIMHi",
        "outputId": "fc42ea37-7e71-405c-ff3e-d213b3692b4b"
      },
      "source": [
        "data.sample(3)"
      ],
      "execution_count": null,
      "outputs": [
        {
          "output_type": "execute_result",
          "data": {
            "text/html": [
              "<div>\n",
              "<style scoped>\n",
              "    .dataframe tbody tr th:only-of-type {\n",
              "        vertical-align: middle;\n",
              "    }\n",
              "\n",
              "    .dataframe tbody tr th {\n",
              "        vertical-align: top;\n",
              "    }\n",
              "\n",
              "    .dataframe thead th {\n",
              "        text-align: right;\n",
              "    }\n",
              "</style>\n",
              "<table border=\"1\" class=\"dataframe\">\n",
              "  <thead>\n",
              "    <tr style=\"text-align: right;\">\n",
              "      <th></th>\n",
              "      <th>title</th>\n",
              "      <th>topic</th>\n",
              "      <th>text</th>\n",
              "      <th>tags</th>\n",
              "    </tr>\n",
              "  </thead>\n",
              "  <tbody>\n",
              "    <tr>\n",
              "      <th>23430</th>\n",
              "      <td>Евросоюз рассказал о судьбе России в «Большой восьмерке»</td>\n",
              "      <td>Мир</td>\n",
              "      <td>Евросоюз не желает видеть Россию в формате «Большой восьмерки». Об этом заявил председатель Совета ЕС Дональд Туск, передает Deutsche Welle. По его словам, Москва сама не заинтересована в возвращении в формат G8, а семь — хорошее число. «Меня беспокоит, что основанный на правилах миропорядок ставится под вопрос, как это ни странно, его важнейшим архитектором и гарантом — Соединенными Штатами», — отметил он. Слова президента США Дональда Трампа о необходимости вернуть Россию в G8 раскритиковали также в МИД Канады, передавал CBC News. По словам спикера ведомства, позиция страны по этому вопросу не изменилась: Оттава считает впредь недопустимым присутствие президента России Владимира Путина на саммите. Ранее 8 июня американский лидер заявил, что Россия должна вернуться в клуб и присутствовать за столом переговоров. Позицию Трампа поддержал премьер-министр Италии Джузеппе Конте. 4 июня пресс-секретарь президента России Дмитрий Песков сообщил журналистам, что G8 теряет свою актуальность для российской стороны. По его словам, для Москвы более актуальны такие форматы, как «Большая двадцатка», в котором Россия принимает активное участие. Согласится ли Кремль присоединиться к «восьмерке» в случае соответствующего предложения, Песков не уточнил. Формат G8 прекратил свое существование в 2014 году после присоединения Крыма к России. Тогда лидеры ведущих мировых держав отказались участвовать в саммите «восьмерки», который Россия как председатель должна была проводить в Сочи. Вместо этого в Брюсселе прошла встреча «семерки» — G7 (Франция, Великобритания, США, Германия, Япония, Италия и Канада). В саммите также принимают участие представители Евросоюза (председатели Совета ЕС и Еврокомиссии).</td>\n",
              "      <td>Политика</td>\n",
              "    </tr>\n",
              "    <tr>\n",
              "      <th>255457</th>\n",
              "      <td>Денису Лебедеву вернули титул чемпиона мира по боксу</td>\n",
              "      <td>Спорт</td>\n",
              "      <td>Российскому боксеру Денису Лебедеву вернули титул чемпиона мира по версии WBA (Всемирная боксерская ассоциация) в весе до 90,7 килограмма, которого он лишился после поражения в бою с Гильермо Джонсом из Панамы. Джонс, проваливший допинг-тест после этого поединка, признан виновным в применении запрещенных препаратов. Об этом сообщает интернет-издание Fightnews. Лишить Джонса титула постановил комитет WBA по чемпионским боям. По сведениям Fightnews, анализ контрольной допинг-пробы не проводился. Ранее Джонс утверждал, что контрольная проба была вскрыта и наличие в организме боксера допинга не подтвердилось. Будут ли к Джонсу применены какие-то дополнительные санкции (например, штраф или  дисквалификация), не уточняется. По данным издания, WBA назначила бой-реванш между российским и панамским боксером. Если представители спортсменов не договорятся, право организации этого поединка будет выставлено на торги. Поединок Лебедев — Джонс состоялся 17 мая 2013 года в Москве. В этом бою Джонс победил техническим нокаутом в 11-м раунде. Благодаря победе над Лебедевым панамский боксер вернул чемпионский титул, которого его ранее лишили из-за того, что бой Джонса с россиянином несколько раз срывался (поединок с Лебедевым панамец проводил в статусе «временно недействующего» чемпиона). СМИ сообщали, что по окончании боя Джонс отказывался пройти допинг-тест и согласился только после долгих убеждений. Анализ пробы, проведенный в лаборатории Российского антидопингового агентства (РУСАДА), показал, что в организме спортсмена содержался запрещенный фуросемид. Этот мочегонный препарат сам по себе не помогает улучшить спортивные результаты, но может использоваться либо для сгонки веса, либо как маскирующий агент — чтобы скрыть следы применения стероидов. Узнав о результатах анализа, Джонс заявил, что не употреблял запрещенные вещества, а допинг-скандал назвал «оправданием для русских».</td>\n",
              "      <td>Бокс и ММА</td>\n",
              "    </tr>\n",
              "    <tr>\n",
              "      <th>596069</th>\n",
              "      <td>Шведская легкоатлетка побила мировой рекорд в прыжках в высоту</td>\n",
              "      <td>Спорт</td>\n",
              "      <td>Шведская легкоатлетка Кайса Бергквист побила мировой рекорд по прыжкам в высоту в закрытых помещениях на соревнованиях в немецком Арнштадте. Она показала результат 2 метра и 8 сантиметров, на 1 сантиметр улучшив достижение Хайке Хенкель (Германия), установленное еще в 1992 году. \"Прыжок получился фантастическим, я давно не испытывала столько радостных эмоций, - сказала Бергквист после соревнований. - У меня было предчувствие, что сегодня может произойти что-то особенное\". Отметим, что рекорд мира на соревнованиях под открытым небом принадлежит болгарской спортсменке Стефке Костадиновой - 2 метра 9 сантиметров. Мужской турнир прыгунов в высоту выиграл россиянин Ярослав Рыбаков. Его результат (2 метра 37 сантиметров) является на данный момент лучшим в нынешнем сезоне.</td>\n",
              "      <td>Все</td>\n",
              "    </tr>\n",
              "  </tbody>\n",
              "</table>\n",
              "</div>"
            ],
            "text/plain": [
              "                                                                 title  topic                                                                                                                                                                                                                                                                                                                                                                                                                                                                                                                                                                                                                                                                                                                                                                                                                                                                                                                                                                                                                                                                                                                                                                                                                                                                                                                                                                                                                                                                                                                                                                                                                                                                                                                                                                                                                                                                                                                                                                     text        tags\n",
              "23430   Евросоюз рассказал о судьбе России в «Большой восьмерке»        Мир    Евросоюз не желает видеть Россию в формате «Большой восьмерки». Об этом заявил председатель Совета ЕС Дональд Туск, передает Deutsche Welle. По его словам, Москва сама не заинтересована в возвращении в формат G8, а семь — хорошее число. «Меня беспокоит, что основанный на правилах миропорядок ставится под вопрос, как это ни странно, его важнейшим архитектором и гарантом — Соединенными Штатами», — отметил он. Слова президента США Дональда Трампа о необходимости вернуть Россию в G8 раскритиковали также в МИД Канады, передавал CBC News. По словам спикера ведомства, позиция страны по этому вопросу не изменилась: Оттава считает впредь недопустимым присутствие президента России Владимира Путина на саммите. Ранее 8 июня американский лидер заявил, что Россия должна вернуться в клуб и присутствовать за столом переговоров. Позицию Трампа поддержал премьер-министр Италии Джузеппе Конте. 4 июня пресс-секретарь президента России Дмитрий Песков сообщил журналистам, что G8 теряет свою актуальность для российской стороны. По его словам, для Москвы более актуальны такие форматы, как «Большая двадцатка», в котором Россия принимает активное участие. Согласится ли Кремль присоединиться к «восьмерке» в случае соответствующего предложения, Песков не уточнил. Формат G8 прекратил свое существование в 2014 году после присоединения Крыма к России. Тогда лидеры ведущих мировых держав отказались участвовать в саммите «восьмерки», который Россия как председатель должна была проводить в Сочи. Вместо этого в Брюсселе прошла встреча «семерки» — G7 (Франция, Великобритания, США, Германия, Япония, Италия и Канада). В саммите также принимают участие представители Евросоюза (председатели Совета ЕС и Еврокомиссии).                                                                                                                                                                                               Политика  \n",
              "255457  Денису Лебедеву вернули титул чемпиона мира по боксу            Спорт  Российскому боксеру Денису Лебедеву вернули титул чемпиона мира по версии WBA (Всемирная боксерская ассоциация) в весе до 90,7 килограмма, которого он лишился после поражения в бою с Гильермо Джонсом из Панамы. Джонс, проваливший допинг-тест после этого поединка, признан виновным в применении запрещенных препаратов. Об этом сообщает интернет-издание Fightnews. Лишить Джонса титула постановил комитет WBA по чемпионским боям. По сведениям Fightnews, анализ контрольной допинг-пробы не проводился. Ранее Джонс утверждал, что контрольная проба была вскрыта и наличие в организме боксера допинга не подтвердилось. Будут ли к Джонсу применены какие-то дополнительные санкции (например, штраф или  дисквалификация), не уточняется. По данным издания, WBA назначила бой-реванш между российским и панамским боксером. Если представители спортсменов не договорятся, право организации этого поединка будет выставлено на торги. Поединок Лебедев — Джонс состоялся 17 мая 2013 года в Москве. В этом бою Джонс победил техническим нокаутом в 11-м раунде. Благодаря победе над Лебедевым панамский боксер вернул чемпионский титул, которого его ранее лишили из-за того, что бой Джонса с россиянином несколько раз срывался (поединок с Лебедевым панамец проводил в статусе «временно недействующего» чемпиона). СМИ сообщали, что по окончании боя Джонс отказывался пройти допинг-тест и согласился только после долгих убеждений. Анализ пробы, проведенный в лаборатории Российского антидопингового агентства (РУСАДА), показал, что в организме спортсмена содержался запрещенный фуросемид. Этот мочегонный препарат сам по себе не помогает улучшить спортивные результаты, но может использоваться либо для сгонки веса, либо как маскирующий агент — чтобы скрыть следы применения стероидов. Узнав о результатах анализа, Джонс заявил, что не употреблял запрещенные вещества, а допинг-скандал назвал «оправданием для русских».  Бокс и ММА\n",
              "596069  Шведская легкоатлетка побила мировой рекорд в прыжках в высоту  Спорт  Шведская легкоатлетка Кайса Бергквист побила мировой рекорд по прыжкам в высоту в закрытых помещениях на соревнованиях в немецком Арнштадте. Она показала результат 2 метра и 8 сантиметров, на 1 сантиметр улучшив достижение Хайке Хенкель (Германия), установленное еще в 1992 году. \"Прыжок получился фантастическим, я давно не испытывала столько радостных эмоций, - сказала Бергквист после соревнований. - У меня было предчувствие, что сегодня может произойти что-то особенное\". Отметим, что рекорд мира на соревнованиях под открытым небом принадлежит болгарской спортсменке Стефке Костадиновой - 2 метра 9 сантиметров. Мужской турнир прыгунов в высоту выиграл россиянин Ярослав Рыбаков. Его результат (2 метра 37 сантиметров) является на данный момент лучшим в нынешнем сезоне.                                                                                                                                                                                                                                                                                                                                                                                                                                                                                                                                                                                                                                                                                                                                                                                                                                                                                                                                                                                                                                                                                                                                                                 Все       "
            ]
          },
          "metadata": {
            "tags": []
          },
          "execution_count": 5
        }
      ]
    },
    {
      "cell_type": "code",
      "metadata": {
        "colab": {
          "base_uri": "https://localhost:8080/"
        },
        "id": "yQn0BZNTf6Mo",
        "outputId": "bfb1c088-3186-4c22-dff8-2eb28d932c13"
      },
      "source": [
        "len(data)"
      ],
      "execution_count": null,
      "outputs": [
        {
          "output_type": "execute_result",
          "data": {
            "text/plain": [
              "739350"
            ]
          },
          "metadata": {
            "tags": []
          },
          "execution_count": 6
        }
      ]
    },
    {
      "cell_type": "code",
      "metadata": {
        "colab": {
          "base_uri": "https://localhost:8080/"
        },
        "id": "0NVPadeXf6Mo",
        "outputId": "5d990738-fa1a-4fca-a161-418090146019"
      },
      "source": [
        "data.topic.value_counts().head(15)"
      ],
      "execution_count": null,
      "outputs": [
        {
          "output_type": "execute_result",
          "data": {
            "text/plain": [
              "Россия               160518\n",
              "Мир                  136680\n",
              "Экономика            79538 \n",
              "Спорт                64421 \n",
              "Культура             53803 \n",
              "Бывший СССР          53402 \n",
              "Наука и техника      53136 \n",
              "Интернет и СМИ       44675 \n",
              "Из жизни             27611 \n",
              "Дом                  21734 \n",
              "Силовые структуры    19596 \n",
              "Ценности             7766  \n",
              "Бизнес               7399  \n",
              "Путешествия          6408  \n",
              "69-я параллель       1268  \n",
              "Name: topic, dtype: int64"
            ]
          },
          "metadata": {
            "tags": []
          },
          "execution_count": 7
        }
      ]
    },
    {
      "cell_type": "markdown",
      "metadata": {
        "id": "zIR00Sgaf6Mp"
      },
      "source": [
        "Для ускорения вычислений оставим тексты из 5 тем:"
      ]
    },
    {
      "cell_type": "code",
      "metadata": {
        "colab": {
          "base_uri": "https://localhost:8080/"
        },
        "id": "gBwWYrLLf6Mp",
        "outputId": "69c69ce0-de91-4cc9-b8ae-56a782c41b3b"
      },
      "source": [
        "topics = ['Бывший СССР', 'Мир', 'Интернет и СМИ', 'Бизнес', \n",
        "          'Дом']\n",
        "\n",
        "\n",
        "data = data[data.topic.isin(topics)]\n",
        "data.dropna(inplace=True)\n",
        "len(data)"
      ],
      "execution_count": null,
      "outputs": [
        {
          "output_type": "execute_result",
          "data": {
            "text/plain": [
              "263890"
            ]
          },
          "metadata": {
            "tags": []
          },
          "execution_count": 8
        }
      ]
    },
    {
      "cell_type": "markdown",
      "metadata": {
        "id": "bsWr6XDzf6Mp"
      },
      "source": [
        "### Предобработка\n",
        "\n",
        "\n",
        "Все модели, с которыми мы будем работать далее, работают с предобработанными текстами, поэтому сперва проведем стандартную предобработку текста:"
      ]
    },
    {
      "cell_type": "code",
      "metadata": {
        "id": "JVrWuN09f6Mp"
      },
      "source": [
        "import re\n",
        "import numpy as np\n",
        "import nltk\n",
        "from nltk.corpus import stopwords\n",
        "from tqdm.notebook import tqdm\n",
        "from multiprocessing import Pool"
      ],
      "execution_count": null,
      "outputs": []
    },
    {
      "cell_type": "code",
      "metadata": {
        "id": "XDBV03ENKhgu"
      },
      "source": [
        "import pymorphy2\n",
        "morph = pymorphy2.MorphAnalyzer()"
      ],
      "execution_count": null,
      "outputs": []
    },
    {
      "cell_type": "code",
      "metadata": {
        "id": "V3a8Btmff6Mp"
      },
      "source": [
        "words_regex = re.compile('\\w+')\n",
        "\n",
        "def find_words(text, regex = words_regex):\n",
        "    tokens =  regex.findall(text.lower())\n",
        "    return [w for w in tokens if w.isalpha() and len(w) >= 3]\n",
        "\n",
        "\n",
        "stopwords_list = stopwords.words('russian')\n",
        "\n",
        "def lemmatize(words, lemmer = morph, stopwords = stopwords_list):\n",
        "    lemmas = [lemmer.parse(w)[0].normal_form for w in words]\n",
        "    return [w for w in lemmas if not w in stopwords \n",
        "            and w.isalpha()]\n",
        "\n",
        "def preprocess(text):\n",
        "    return (lemmatize(find_words(text)))"
      ],
      "execution_count": null,
      "outputs": []
    },
    {
      "cell_type": "code",
      "metadata": {
        "colab": {
          "base_uri": "https://localhost:8080/",
          "height": 120
        },
        "id": "zkxfy_uXf6Mp",
        "outputId": "84474359-0294-44f7-e071-57a69d26787c"
      },
      "source": [
        "data.text.iloc[1]"
      ],
      "execution_count": null,
      "outputs": [
        {
          "output_type": "execute_result",
          "data": {
            "text/plain": [
              "'Хакерская группировка Anonymous опубликовала новые документы о деятельности британского аналитического центра Integrity Initiative. Из материалов следует, что центр получает финансирование от некого Института государственного управления под руководством Кристофера Доннелли. Хакеры выложили в открытый доступ его паспорт, резюме, а также сведения о его связях с Министерством обороны Великобритании. Согласно документам, в 2014 году Доннелли выдвинул ряд предложений британским властям в связи с ситуацией в Крыму. В частности, он планировал заминировать Севастопольскую бухту, окружить полуостров войсками, а также уничтожить оставшиеся в Крыму самолеты «в знак серьезности намерений». После публикации заметки часть документов, на которые члены группировки ссылаются в своем расследовании, была удалена. Также хакеры утверждают, что Доннелли был инициатором расследования «российского вмешательства» в референдум о независимости в Каталонии. Он пригласил членов испанского отделения Integrity Initiative в качестве свидетелей. По данным группировки, Доннелли получал деньги на это от Министерства иностранных дел Великобритании. «Британская разведка платила собственным агентам за фальшивые доказательства вмешательства России в каталонский референдум, а затем приказала им солгать в парламенте с целью убедить их предпринять антироссийские шаги», — пишут хакеры. Члены Anonymous опубликовали только часть документов, связанных с деятельностью Кристофера Доннелли. Если расследование Великобритании в отношении Integrity Initiative не даст результатов, они пригрозили выложить новые доказательства того, что Доннелли тесно взаимодействует с британскими спецслужбами и использует свое положение для влияния на политику страны. 23 ноября Anonymous впервые опубликовали документы Integrity Initiative, которые содержат инструкции по борьбе с российской пропагандой и примеры дезинформации со стороны Москвы. Хакеры утверждают, что этот проект финансируется правительством Великобритании и работает сразу в нескольких странах, в том числе в Германии, Франции, Испании.'"
            ]
          },
          "metadata": {
            "tags": []
          },
          "execution_count": 12
        }
      ]
    },
    {
      "cell_type": "markdown",
      "metadata": {
        "id": "5ldobYBOf6Mp"
      },
      "source": [
        "Ниже мы оставим только случайные 10,000 текстов из нашей коллекции, чтобы ускорить вычисления:"
      ]
    },
    {
      "cell_type": "code",
      "metadata": {
        "colab": {
          "base_uri": "https://localhost:8080/"
        },
        "id": "Cp9UP1pCf6Mp",
        "outputId": "ed90d55a-0dc2-4afd-f8f9-7cc204495692"
      },
      "source": [
        "data = data.sample(10000)\n",
        "data.topic.value_counts()"
      ],
      "execution_count": null,
      "outputs": [
        {
          "output_type": "execute_result",
          "data": {
            "text/plain": [
              "Мир               5251\n",
              "Бывший СССР       1964\n",
              "Интернет и СМИ    1687\n",
              "Дом               819 \n",
              "Бизнес            279 \n",
              "Name: topic, dtype: int64"
            ]
          },
          "metadata": {
            "tags": []
          },
          "execution_count": 13
        }
      ]
    },
    {
      "cell_type": "code",
      "metadata": {
        "colab": {
          "base_uri": "https://localhost:8080/",
          "height": 66,
          "referenced_widgets": [
            "c5db15f805134b869887817835f301b1",
            "c6ad8e27121c4f909e74ec993281570d",
            "85065c1565e34dcf949fe1b000cae741",
            "4161c2a28c2e4d53993e0c60232ba619",
            "32891e0e6ed5423cbe9b35b9712411d5",
            "15bf3aeff54047258371a0d0e2babf7c",
            "7695232c7bb54bc2b9b679c127b2706e",
            "b4e7967843e94cae8c4a8d0cc8d41ce3",
            "2a7a07cb863e4a9ca389732b1d9c7f05"
          ]
        },
        "id": "S8PnTSmRf6Mp",
        "outputId": "37d244ae-0d6a-436f-fd19-9b1bc2d7ac5f"
      },
      "source": [
        "preprocessed_text = list(tqdm(map(preprocess, data['text']), total=len(data)))"
      ],
      "execution_count": null,
      "outputs": [
        {
          "output_type": "display_data",
          "data": {
            "application/vnd.jupyter.widget-view+json": {
              "model_id": "2a7a07cb863e4a9ca389732b1d9c7f05",
              "version_major": 2,
              "version_minor": 0
            },
            "text/plain": [
              "  0%|          | 0/10000 [00:00<?, ?it/s]"
            ]
          },
          "metadata": {
            "tags": []
          }
        }
      ]
    },
    {
      "cell_type": "code",
      "metadata": {
        "colab": {
          "base_uri": "https://localhost:8080/",
          "height": 397
        },
        "id": "DriM5_5_f6Mq",
        "outputId": "43d95e2c-cb4e-4f02-b3af-1eaf911b17f3"
      },
      "source": [
        "data['text'] = preprocessed_text\n",
        "data.sample(5)"
      ],
      "execution_count": null,
      "outputs": [
        {
          "output_type": "execute_result",
          "data": {
            "text/html": [
              "<div>\n",
              "<style scoped>\n",
              "    .dataframe tbody tr th:only-of-type {\n",
              "        vertical-align: middle;\n",
              "    }\n",
              "\n",
              "    .dataframe tbody tr th {\n",
              "        vertical-align: top;\n",
              "    }\n",
              "\n",
              "    .dataframe thead th {\n",
              "        text-align: right;\n",
              "    }\n",
              "</style>\n",
              "<table border=\"1\" class=\"dataframe\">\n",
              "  <thead>\n",
              "    <tr style=\"text-align: right;\">\n",
              "      <th></th>\n",
              "      <th>title</th>\n",
              "      <th>topic</th>\n",
              "      <th>text</th>\n",
              "      <th>tags</th>\n",
              "    </tr>\n",
              "  </thead>\n",
              "  <tbody>\n",
              "    <tr>\n",
              "      <th>398591</th>\n",
              "      <td>ВС США получили нового начальника Центрального командования</td>\n",
              "      <td>Мир</td>\n",
              "      <td>[сенат, утвердить, генерал, джеймс, мэттис, пост, глава, центральный, командование, вооружённый, сила, сша, centcom, сообщать, агентство, associated, press, мэттис, предстоять, руководить, военный, операция, ближний, восток, афганистан, ирак, джеймс, мэттис, стать, преемник, генерал, дэвид, петрэуса, который, свой, очередь, занять, должность, командующий, коалиционный, сила, афганистан, сменить, это, пост, генерал, стэнли, маккристал, маккристал, вынудить, уйти, отставка, публикация, скандальный, материал, немой, журнал, rolling, stone, июнь, год, мэттис, участвовать, военный, операция, ирак, афганистан, протяжение, несколько, год, главнокомандующий, объединить, сила, ирак, генерал, известный, эксцентричный, высказывание, различный, тема, частность, год, мэттис, служить, афганистан, грозить, дисциплинарный, взыскание, слово, стрелять, человек, который, бить, женщина, отказ, носить, паранджа, удовольствие, начальство, мэттис, ...]</td>\n",
              "      <td>Все</td>\n",
              "    </tr>\n",
              "    <tr>\n",
              "      <th>400676</th>\n",
              "      <td>К дочери Юлии Тимошенко пришел УБЭП</td>\n",
              "      <td>Бывший СССР</td>\n",
              "      <td>[бывший, министр, внутренний, дело, украина, юрий, луценко, интервью, газета, киевск, рассказать, новый, руководство, милиция, заниматься, чистка, руководитель, политический, мотив, разгон, митинг, сбор, компромат, оппозиция, качество, пример, рассказать, история, прошлый, неделя, сидеть, тимошенко, пить, кофе, звонить, дочь, печерск, небольшой, кафешка, сотрудник, управление, борьба, экономический, преступление, устроить, обыск, полный, выемка, весь, документ, слово, луценко, выяснить, свой, канал, операция, проводиться, личный, контроль, начальник, столичный, милиция, бред, резюмировать, бывший, министр, закончиться, обыск, луценко, рассказывать, стать, ранее, сообщаться, евгений, тимошенко, супруг, шон, карра, год, франшиза, открыть, центр, киев, итальянский, ресторан, ciro, pomodoro, площадь, сто, квадратный, метр, кроме, родный, днепропетровск, тимошенко, младший, журналист, наслать, вареничный, кафе, ...]</td>\n",
              "      <td>Все</td>\n",
              "    </tr>\n",
              "    <tr>\n",
              "      <th>358691</th>\n",
              "      <td>В Измайловском парке снесли самострой</td>\n",
              "      <td>Дом</td>\n",
              "      <td>[требование, прокуратура, измайловский, парка, москва, снести, незаконно, возвести, строение, это, говориться, сообщение, столичный, прокуратура, нарушение, природоохранный, законодательство, особо, охранять, природный, территория, природный, исторический, парк, измайлово, выявить, ход, проверка, который, провести, межрайонный, природоохранный, прокуратура, прокурор, установить, граница, парк, предприниматель, милехина, самовольно, занять, земельный, участок, площадь, квадратный, метр, необходимый, разрешительный, документ, возвести, немой, ряд, строение, предприниматель, неоднократно, привлекаться, административный, ответственность, нарушение, земельный, градостроительный, законодательство, однако, самострой, снести, итог, прокуратура, направить, измайловский, районный, суд, москва, иск, требование, освободить, участок, ликвидировать, незаконный, постройка, суд, требование, удовлетворить, настоящий, момент, всё, самовольный, строение, незаконно, занятой, участок, снести]</td>\n",
              "      <td>Все</td>\n",
              "    </tr>\n",
              "    <tr>\n",
              "      <th>394697</th>\n",
              "      <td>Сообщение о бомбе на борту тайского лайнера оказалось ложным</td>\n",
              "      <td>Мир</td>\n",
              "      <td>[спецслужба, обнаружить, взрывчатый, вещество, борт, самолёт, авиакомпания, thai, airways, туалетный, комната, который, ранее, найти, записка, угроза, взрыв, это, сообщать, associated, press, сапёр, исследовать, самолёт, изнутри, досмотреть, багаж, пассажир, никакой, признак, бомба, взрывчатый, вещество, обнаружить, всё, вывести, самолёт, сразу, посадка, допросить, затем, отпустить, задержать, результат, инцидент, похоже, это, сделать, сумасшедший, заявить, президент, авиакомпания, thai, airways, пивасвастить, амрананд, pivasvasti, amranand, телефон, очень, жаль, прийтись, доставить, беспокойство, пассажир, сообщение, борт, самолёт, лететь, лос, анджелес, бангкок, возможно, заложить, бомба, поступить, примерно, калифорнийский, время, утро, москва, записка, который, найти, зеркало, туалет, сообщаться, самолёт, заминировать, текст, написать, английский, язык, грамматический, ошибка, час, местный, время, утро, москва, ...]</td>\n",
              "      <td>Все</td>\n",
              "    </tr>\n",
              "    <tr>\n",
              "      <th>132046</th>\n",
              "      <td>Спрос на арендные квартиры в Москве за месяц увеличился на треть</td>\n",
              "      <td>Дом</td>\n",
              "      <td>[июнь, год, столичный, рынок, аренда, жильё, спрос, вырасти, процент, сравнение, майский, показатель, предложение, квартира, месяц, также, несколько, увеличиться, пять, процент, средний, стоимость, наём, однокомнатный, лотовый, экономкласс, город, увеличиться, незначительно, говориться, обзор, опубликовать, компания, миэль, аренда, данные, миэль, июнь, предложение, арендный, квартира, москва, превысить, спрос, процент, большой, весь, город, предлагаться, арендатор, однокомнатный, квартира, процент, общий, объём, предложение, доля, двухкомнатный, квартира, составить, процент, сегмент, экономкласс, средний, стоимость, наём, жильё, месяц, измениться, следующий, образ, однокомнатный, квартира, подорожать, процент, тысяча, рубль, месяц, двухкомнатный, скорректироваться, вверх, процент, тысяча, рубль, месяц, трехкомнатный, подешеветь, процент, тысяча, рубль, месяц, отмечать, аналитик, прежний, наиболее, востребовать, арендатор, однокомнатный, квартира, москва, ...]</td>\n",
              "      <td>Квартира</td>\n",
              "    </tr>\n",
              "  </tbody>\n",
              "</table>\n",
              "</div>"
            ],
            "text/plain": [
              "                                                                   title        topic                                                                                                                                                                                                                                                                                                                                                                                                                                                                                                                                                                                                                                                                                                                                                                                                                                                                                                                                                                                                                        text      tags\n",
              "398591  ВС США получили нового начальника Центрального командования       Мир          [сенат, утвердить, генерал, джеймс, мэттис, пост, глава, центральный, командование, вооружённый, сила, сша, centcom, сообщать, агентство, associated, press, мэттис, предстоять, руководить, военный, операция, ближний, восток, афганистан, ирак, джеймс, мэттис, стать, преемник, генерал, дэвид, петрэуса, который, свой, очередь, занять, должность, командующий, коалиционный, сила, афганистан, сменить, это, пост, генерал, стэнли, маккристал, маккристал, вынудить, уйти, отставка, публикация, скандальный, материал, немой, журнал, rolling, stone, июнь, год, мэттис, участвовать, военный, операция, ирак, афганистан, протяжение, несколько, год, главнокомандующий, объединить, сила, ирак, генерал, известный, эксцентричный, высказывание, различный, тема, частность, год, мэттис, служить, афганистан, грозить, дисциплинарный, взыскание, слово, стрелять, человек, который, бить, женщина, отказ, носить, паранджа, удовольствие, начальство, мэттис, ...]                                             Все     \n",
              "400676  К дочери Юлии Тимошенко пришел УБЭП                               Бывший СССР  [бывший, министр, внутренний, дело, украина, юрий, луценко, интервью, газета, киевск, рассказать, новый, руководство, милиция, заниматься, чистка, руководитель, политический, мотив, разгон, митинг, сбор, компромат, оппозиция, качество, пример, рассказать, история, прошлый, неделя, сидеть, тимошенко, пить, кофе, звонить, дочь, печерск, небольшой, кафешка, сотрудник, управление, борьба, экономический, преступление, устроить, обыск, полный, выемка, весь, документ, слово, луценко, выяснить, свой, канал, операция, проводиться, личный, контроль, начальник, столичный, милиция, бред, резюмировать, бывший, министр, закончиться, обыск, луценко, рассказывать, стать, ранее, сообщаться, евгений, тимошенко, супруг, шон, карра, год, франшиза, открыть, центр, киев, итальянский, ресторан, ciro, pomodoro, площадь, сто, квадратный, метр, кроме, родный, днепропетровск, тимошенко, младший, журналист, наслать, вареничный, кафе, ...]                                                                Все     \n",
              "358691  В Измайловском парке снесли самострой                             Дом          [требование, прокуратура, измайловский, парка, москва, снести, незаконно, возвести, строение, это, говориться, сообщение, столичный, прокуратура, нарушение, природоохранный, законодательство, особо, охранять, природный, территория, природный, исторический, парк, измайлово, выявить, ход, проверка, который, провести, межрайонный, природоохранный, прокуратура, прокурор, установить, граница, парк, предприниматель, милехина, самовольно, занять, земельный, участок, площадь, квадратный, метр, необходимый, разрешительный, документ, возвести, немой, ряд, строение, предприниматель, неоднократно, привлекаться, административный, ответственность, нарушение, земельный, градостроительный, законодательство, однако, самострой, снести, итог, прокуратура, направить, измайловский, районный, суд, москва, иск, требование, освободить, участок, ликвидировать, незаконный, постройка, суд, требование, удовлетворить, настоящий, момент, всё, самовольный, строение, незаконно, занятой, участок, снести]  Все     \n",
              "394697  Сообщение о бомбе на борту тайского лайнера оказалось ложным      Мир          [спецслужба, обнаружить, взрывчатый, вещество, борт, самолёт, авиакомпания, thai, airways, туалетный, комната, который, ранее, найти, записка, угроза, взрыв, это, сообщать, associated, press, сапёр, исследовать, самолёт, изнутри, досмотреть, багаж, пассажир, никакой, признак, бомба, взрывчатый, вещество, обнаружить, всё, вывести, самолёт, сразу, посадка, допросить, затем, отпустить, задержать, результат, инцидент, похоже, это, сделать, сумасшедший, заявить, президент, авиакомпания, thai, airways, пивасвастить, амрананд, pivasvasti, amranand, телефон, очень, жаль, прийтись, доставить, беспокойство, пассажир, сообщение, борт, самолёт, лететь, лос, анджелес, бангкок, возможно, заложить, бомба, поступить, примерно, калифорнийский, время, утро, москва, записка, который, найти, зеркало, туалет, сообщаться, самолёт, заминировать, текст, написать, английский, язык, грамматический, ошибка, час, местный, время, утро, москва, ...]                                                       Все     \n",
              "132046  Спрос на арендные квартиры в Москве за месяц увеличился на треть  Дом          [июнь, год, столичный, рынок, аренда, жильё, спрос, вырасти, процент, сравнение, майский, показатель, предложение, квартира, месяц, также, несколько, увеличиться, пять, процент, средний, стоимость, наём, однокомнатный, лотовый, экономкласс, город, увеличиться, незначительно, говориться, обзор, опубликовать, компания, миэль, аренда, данные, миэль, июнь, предложение, арендный, квартира, москва, превысить, спрос, процент, большой, весь, город, предлагаться, арендатор, однокомнатный, квартира, процент, общий, объём, предложение, доля, двухкомнатный, квартира, составить, процент, сегмент, экономкласс, средний, стоимость, наём, жильё, месяц, измениться, следующий, образ, однокомнатный, квартира, подорожать, процент, тысяча, рубль, месяц, двухкомнатный, скорректироваться, вверх, процент, тысяча, рубль, месяц, трехкомнатный, подешеветь, процент, тысяча, рубль, месяц, отмечать, аналитик, прежний, наиболее, востребовать, арендатор, однокомнатный, квартира, москва, ...]               Квартира"
            ]
          },
          "metadata": {
            "tags": []
          },
          "execution_count": 15
        }
      ]
    },
    {
      "cell_type": "markdown",
      "metadata": {
        "id": "FFmXozKkf6Mq"
      },
      "source": [
        "## Модель LDA\n",
        "\n",
        "\n",
        "Mодель, которую мы рассмотрим, LDA - латентное размещение Дирихле. Воспользуемся реализацией из библиотеки sklearn."
      ]
    },
    {
      "cell_type": "code",
      "metadata": {
        "id": "Hwc23Rg6uvAo"
      },
      "source": [
        "from sklearn.decomposition import NMF, LatentDirichletAllocation, TruncatedSVD\n",
        "from sklearn.feature_extraction.text import TfidfVectorizer, CountVectorizer\n",
        "\n",
        "\n",
        "stopwords_list = stopwords.words('russian')\n",
        "n_features = 1000\n",
        "n_components = 15\n",
        "n_top_words = 10\n",
        "\n",
        "new_corp = []\n",
        "\n",
        "for sentence in preprocessed_text:\n",
        "    sentence = ' '.join(sentence)\n",
        "    new_corp.append(sentence)\n",
        "    \n",
        "corpus = new_corp\n",
        "\n",
        "tfidf_vectorizer = TfidfVectorizer(max_df=0.9, min_df=10, max_features=n_features, stop_words=stopwords_list, ngram_range=(1, 2))\n",
        "tfidf = tfidf_vectorizer.fit_transform(corpus)\n",
        "\n",
        "lda = LatentDirichletAllocation(n_components=n_components, random_state=1).fit(tfidf)\n"
      ],
      "execution_count": null,
      "outputs": []
    },
    {
      "cell_type": "code",
      "metadata": {
        "id": "4shwvcusuvAp",
        "outputId": "dd88e8b3-a760-434c-d2d5-4fe4a438c86b"
      },
      "source": [
        "len(lda.components_), len(lda.components_[0])"
      ],
      "execution_count": null,
      "outputs": [
        {
          "output_type": "execute_result",
          "data": {
            "text/plain": [
              "(15, 1000)"
            ]
          },
          "metadata": {
            "tags": []
          },
          "execution_count": 17
        }
      ]
    },
    {
      "cell_type": "code",
      "metadata": {
        "id": "vdYSNZftuvAp",
        "outputId": "fa98306f-2f32-4e1e-cf97-9521135a403f"
      },
      "source": [
        "feature_names = tfidf_vectorizer.get_feature_names()\n",
        "word_dict = {}\n",
        "for topic_idx, topic in enumerate(lda.components_):\n",
        "    top_features_ind = topic.argsort()[:-n_top_words - 1:-1]\n",
        "    top_features = [feature_names[i] for i in top_features_ind]\n",
        "    word_dict[topic_idx] = top_features\n",
        "    \n",
        "\n",
        "pd.DataFrame(word_dict)"
      ],
      "execution_count": null,
      "outputs": [
        {
          "output_type": "execute_result",
          "data": {
            "text/html": [
              "<div>\n",
              "<style scoped>\n",
              "    .dataframe tbody tr th:only-of-type {\n",
              "        vertical-align: middle;\n",
              "    }\n",
              "\n",
              "    .dataframe tbody tr th {\n",
              "        vertical-align: top;\n",
              "    }\n",
              "\n",
              "    .dataframe thead th {\n",
              "        text-align: right;\n",
              "    }\n",
              "</style>\n",
              "<table border=\"1\" class=\"dataframe\">\n",
              "  <thead>\n",
              "    <tr style=\"text-align: right;\">\n",
              "      <th></th>\n",
              "      <th>0</th>\n",
              "      <th>1</th>\n",
              "      <th>2</th>\n",
              "      <th>3</th>\n",
              "      <th>4</th>\n",
              "      <th>5</th>\n",
              "      <th>6</th>\n",
              "      <th>7</th>\n",
              "      <th>8</th>\n",
              "      <th>9</th>\n",
              "      <th>10</th>\n",
              "      <th>11</th>\n",
              "      <th>12</th>\n",
              "      <th>13</th>\n",
              "      <th>14</th>\n",
              "    </tr>\n",
              "  </thead>\n",
              "  <tbody>\n",
              "    <tr>\n",
              "      <th>0</th>\n",
              "      <td>сша</td>\n",
              "      <td>украина</td>\n",
              "      <td>выборы</td>\n",
              "      <td>грузия</td>\n",
              "      <td>человек</td>\n",
              "      <td>язык</td>\n",
              "      <td>иран</td>\n",
              "      <td>суд</td>\n",
              "      <td>процент</td>\n",
              "      <td>израильский</td>\n",
              "      <td>компания</td>\n",
              "      <td>сирия</td>\n",
              "      <td>корея</td>\n",
              "      <td>пользователь</td>\n",
              "      <td>самолёт</td>\n",
              "    </tr>\n",
              "    <tr>\n",
              "      <th>1</th>\n",
              "      <td>президент</td>\n",
              "      <td>украинский</td>\n",
              "      <td>партия</td>\n",
              "      <td>россия</td>\n",
              "      <td>полиция</td>\n",
              "      <td>русский</td>\n",
              "      <td>интернет</td>\n",
              "      <td>год</td>\n",
              "      <td>год</td>\n",
              "      <td>израиль</td>\n",
              "      <td>год</td>\n",
              "      <td>сирийский</td>\n",
              "      <td>кндр</td>\n",
              "      <td>ролик</td>\n",
              "      <td>борт</td>\n",
              "    </tr>\n",
              "    <tr>\n",
              "      <th>2</th>\n",
              "      <td>обама</td>\n",
              "      <td>россия</td>\n",
              "      <td>парламент</td>\n",
              "      <td>грузинский</td>\n",
              "      <td>произойти</td>\n",
              "      <td>латвия</td>\n",
              "      <td>сайт</td>\n",
              "      <td>дело</td>\n",
              "      <td>рубль</td>\n",
              "      <td>палестинский</td>\n",
              "      <td>реклама</td>\n",
              "      <td>ирак</td>\n",
              "      <td>северный</td>\n",
              "      <td>фотография</td>\n",
              "      <td>пассажир</td>\n",
              "    </tr>\n",
              "    <tr>\n",
              "      <th>3</th>\n",
              "      <td>президент сша</td>\n",
              "      <td>президент</td>\n",
              "      <td>министр</td>\n",
              "      <td>российский</td>\n",
              "      <td>погибнуть</td>\n",
              "      <td>статус</td>\n",
              "      <td>пользователь</td>\n",
              "      <td>который</td>\n",
              "      <td>миллион</td>\n",
              "      <td>аль</td>\n",
              "      <td>интернет</td>\n",
              "      <td>турция</td>\n",
              "      <td>ядерный</td>\n",
              "      <td>видео</td>\n",
              "      <td>экипаж</td>\n",
              "    </tr>\n",
              "    <tr>\n",
              "      <th>4</th>\n",
              "      <td>трамп</td>\n",
              "      <td>это</td>\n",
              "      <td>процент</td>\n",
              "      <td>военный</td>\n",
              "      <td>взрыв</td>\n",
              "      <td>государственный</td>\n",
              "      <td>иранский</td>\n",
              "      <td>это</td>\n",
              "      <td>метр</td>\n",
              "      <td>боевик</td>\n",
              "      <td>сайт</td>\n",
              "      <td>оон</td>\n",
              "      <td>ракета</td>\n",
              "      <td>twitter</td>\n",
              "      <td>аэропорт</td>\n",
              "    </tr>\n",
              "    <tr>\n",
              "      <th>5</th>\n",
              "      <td>буш</td>\n",
              "      <td>киев</td>\n",
              "      <td>премьер</td>\n",
              "      <td>сша</td>\n",
              "      <td>пострадать</td>\n",
              "      <td>владимир</td>\n",
              "      <td>доступ</td>\n",
              "      <td>обвинение</td>\n",
              "      <td>строительство</td>\n",
              "      <td>палестинец</td>\n",
              "      <td>процент</td>\n",
              "      <td>турецкий</td>\n",
              "      <td>южный</td>\n",
              "      <td>опубликовать</td>\n",
              "      <td>судно</td>\n",
              "    </tr>\n",
              "    <tr>\n",
              "      <th>6</th>\n",
              "      <td>год</td>\n",
              "      <td>страна</td>\n",
              "      <td>голос</td>\n",
              "      <td>страна</td>\n",
              "      <td>город</td>\n",
              "      <td>белорусский</td>\n",
              "      <td>программа</td>\n",
              "      <td>бывший</td>\n",
              "      <td>доллар</td>\n",
              "      <td>военный</td>\n",
              "      <td>новый</td>\n",
              "      <td>повстанец</td>\n",
              "      <td>япония</td>\n",
              "      <td>сеть</td>\n",
              "      <td>полёт</td>\n",
              "    </tr>\n",
              "    <tr>\n",
              "      <th>7</th>\n",
              "      <td>американский</td>\n",
              "      <td>год</td>\n",
              "      <td>голосование</td>\n",
              "      <td>министр</td>\n",
              "      <td>результат</td>\n",
              "      <td>референдум</td>\n",
              "      <td>ядерный</td>\n",
              "      <td>свой</td>\n",
              "      <td>тысяча</td>\n",
              "      <td>ирак</td>\n",
              "      <td>который</td>\n",
              "      <td>боевик</td>\n",
              "      <td>санкция</td>\n",
              "      <td>facebook</td>\n",
              "      <td>находиться</td>\n",
              "    </tr>\n",
              "    <tr>\n",
              "      <th>8</th>\n",
              "      <td>свой</td>\n",
              "      <td>который</td>\n",
              "      <td>премьер министр</td>\n",
              "      <td>нато</td>\n",
              "      <td>сообщать</td>\n",
              "      <td>афганистан</td>\n",
              "      <td>сеть</td>\n",
              "      <td>задержать</td>\n",
              "      <td>квадратный</td>\n",
              "      <td>хамас</td>\n",
              "      <td>пользователь</td>\n",
              "      <td>военный</td>\n",
              "      <td>оружие</td>\n",
              "      <td>девушка</td>\n",
              "      <td>авиакомпания</td>\n",
              "    </tr>\n",
              "    <tr>\n",
              "      <th>9</th>\n",
              "      <td>штат</td>\n",
              "      <td>глава</td>\n",
              "      <td>кандидат</td>\n",
              "      <td>мид</td>\n",
              "      <td>местный</td>\n",
              "      <td>конфликт</td>\n",
              "      <td>компания</td>\n",
              "      <td>тюрьма</td>\n",
              "      <td>квадратный метр</td>\n",
              "      <td>сектор</td>\n",
              "      <td>миллион</td>\n",
              "      <td>страна</td>\n",
              "      <td>китай</td>\n",
              "      <td>который</td>\n",
              "      <td>корабль</td>\n",
              "    </tr>\n",
              "  </tbody>\n",
              "</table>\n",
              "</div>"
            ],
            "text/plain": [
              "               0           1                2           3           4                5             6          7                8             9            10         11        12            13            14\n",
              "0  сша            украина     выборы           грузия      человек     язык             иран          суд        процент          израильский   компания      сирия      корея     пользователь  самолёт     \n",
              "1  президент      украинский  партия           россия      полиция     русский          интернет      год        год              израиль       год           сирийский  кндр      ролик         борт        \n",
              "2  обама          россия      парламент        грузинский  произойти   латвия           сайт          дело       рубль            палестинский  реклама       ирак       северный  фотография    пассажир    \n",
              "3  президент сша  президент   министр          российский  погибнуть   статус           пользователь  который    миллион          аль           интернет      турция     ядерный   видео         экипаж      \n",
              "4  трамп          это         процент          военный     взрыв       государственный  иранский      это        метр             боевик        сайт          оон        ракета    twitter       аэропорт    \n",
              "5  буш            киев        премьер          сша         пострадать  владимир         доступ        обвинение  строительство    палестинец    процент       турецкий   южный     опубликовать  судно       \n",
              "6  год            страна      голос            страна      город       белорусский      программа     бывший     доллар           военный       новый         повстанец  япония    сеть          полёт       \n",
              "7  американский   год         голосование      министр     результат   референдум       ядерный       свой       тысяча           ирак          который       боевик     санкция   facebook      находиться  \n",
              "8  свой           который     премьер министр  нато        сообщать    афганистан       сеть          задержать  квадратный       хамас         пользователь  военный    оружие    девушка       авиакомпания\n",
              "9  штат           глава       кандидат         мид         местный     конфликт         компания      тюрьма     квадратный метр  сектор        миллион       страна     китай     который       корабль     "
            ]
          },
          "metadata": {
            "tags": []
          },
          "execution_count": 18
        }
      ]
    },
    {
      "cell_type": "code",
      "metadata": {
        "id": "LfzJwV0wuvAq",
        "outputId": "c2f0a7df-0d72-4468-8a72-1b52dc50b9c2"
      },
      "source": [
        "lda.perplexity(tfidf)"
      ],
      "execution_count": null,
      "outputs": [
        {
          "output_type": "execute_result",
          "data": {
            "text/plain": [
              "1882.8922635459753"
            ]
          },
          "metadata": {
            "tags": []
          },
          "execution_count": 19
        }
      ]
    }
  ]
}